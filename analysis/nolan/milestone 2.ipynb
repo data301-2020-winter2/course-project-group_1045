{
 "cells": [
  {
   "cell_type": "code",
   "execution_count": 14,
   "metadata": {},
   "outputs": [],
   "source": [
    "import pandas as pd\n",
    "import numpy as np\n",
    "\n",
    "data = \"https://gist.githubusercontent.com/meperezcuello/82a9f1c1c473d6585e750ad2e3c05a41/raw/d42d226d0dd64e7f5395a0eec1b9190a10edbc03/Medical_Cost.csv\""
   ]
  },
  {
   "cell_type": "code",
   "execution_count": 15,
   "metadata": {},
   "outputs": [
    {
     "data": {
      "text/html": [
       "<div>\n",
       "<style scoped>\n",
       "    .dataframe tbody tr th:only-of-type {\n",
       "        vertical-align: middle;\n",
       "    }\n",
       "\n",
       "    .dataframe tbody tr th {\n",
       "        vertical-align: top;\n",
       "    }\n",
       "\n",
       "    .dataframe thead th {\n",
       "        text-align: right;\n",
       "    }\n",
       "</style>\n",
       "<table border=\"1\" class=\"dataframe\">\n",
       "  <thead>\n",
       "    <tr style=\"text-align: right;\">\n",
       "      <th></th>\n",
       "      <th>Age</th>\n",
       "      <th>Sex</th>\n",
       "      <th>BMI</th>\n",
       "      <th>Children</th>\n",
       "      <th>Smoker</th>\n",
       "      <th>Region</th>\n",
       "      <th>Charges</th>\n",
       "      <th>Body Shape</th>\n",
       "    </tr>\n",
       "  </thead>\n",
       "  <tbody>\n",
       "    <tr>\n",
       "      <th>0</th>\n",
       "      <td>54</td>\n",
       "      <td>Female</td>\n",
       "      <td>47.4</td>\n",
       "      <td>0</td>\n",
       "      <td>Yes</td>\n",
       "      <td>Southeast</td>\n",
       "      <td>63770</td>\n",
       "      <td>Class 3 Obesity</td>\n",
       "    </tr>\n",
       "    <tr>\n",
       "      <th>1</th>\n",
       "      <td>45</td>\n",
       "      <td>Male</td>\n",
       "      <td>30.4</td>\n",
       "      <td>0</td>\n",
       "      <td>Yes</td>\n",
       "      <td>Southeast</td>\n",
       "      <td>62592</td>\n",
       "      <td>Class 1 Obesity</td>\n",
       "    </tr>\n",
       "    <tr>\n",
       "      <th>2</th>\n",
       "      <td>52</td>\n",
       "      <td>Male</td>\n",
       "      <td>34.5</td>\n",
       "      <td>3</td>\n",
       "      <td>Yes</td>\n",
       "      <td>Northwest</td>\n",
       "      <td>60021</td>\n",
       "      <td>Class 2 Obesity</td>\n",
       "    </tr>\n",
       "    <tr>\n",
       "      <th>3</th>\n",
       "      <td>31</td>\n",
       "      <td>Female</td>\n",
       "      <td>38.1</td>\n",
       "      <td>1</td>\n",
       "      <td>Yes</td>\n",
       "      <td>Northeast</td>\n",
       "      <td>58571</td>\n",
       "      <td>Class 3 Obesity</td>\n",
       "    </tr>\n",
       "    <tr>\n",
       "      <th>4</th>\n",
       "      <td>33</td>\n",
       "      <td>Female</td>\n",
       "      <td>35.5</td>\n",
       "      <td>0</td>\n",
       "      <td>Yes</td>\n",
       "      <td>Northwest</td>\n",
       "      <td>55135</td>\n",
       "      <td>Class 2 Obesity</td>\n",
       "    </tr>\n",
       "    <tr>\n",
       "      <th>...</th>\n",
       "      <td>...</td>\n",
       "      <td>...</td>\n",
       "      <td>...</td>\n",
       "      <td>...</td>\n",
       "      <td>...</td>\n",
       "      <td>...</td>\n",
       "      <td>...</td>\n",
       "      <td>...</td>\n",
       "    </tr>\n",
       "    <tr>\n",
       "      <th>1333</th>\n",
       "      <td>18</td>\n",
       "      <td>Male</td>\n",
       "      <td>34.1</td>\n",
       "      <td>0</td>\n",
       "      <td>No</td>\n",
       "      <td>Southeast</td>\n",
       "      <td>1137</td>\n",
       "      <td>Class 2 Obesity</td>\n",
       "    </tr>\n",
       "    <tr>\n",
       "      <th>1334</th>\n",
       "      <td>18</td>\n",
       "      <td>Male</td>\n",
       "      <td>33.7</td>\n",
       "      <td>0</td>\n",
       "      <td>No</td>\n",
       "      <td>Southeast</td>\n",
       "      <td>1136</td>\n",
       "      <td>Class 2 Obesity</td>\n",
       "    </tr>\n",
       "    <tr>\n",
       "      <th>1335</th>\n",
       "      <td>18</td>\n",
       "      <td>Male</td>\n",
       "      <td>33.3</td>\n",
       "      <td>0</td>\n",
       "      <td>No</td>\n",
       "      <td>Southeast</td>\n",
       "      <td>1135</td>\n",
       "      <td>Class 2 Obesity</td>\n",
       "    </tr>\n",
       "    <tr>\n",
       "      <th>1336</th>\n",
       "      <td>18</td>\n",
       "      <td>Male</td>\n",
       "      <td>30.1</td>\n",
       "      <td>0</td>\n",
       "      <td>No</td>\n",
       "      <td>Southeast</td>\n",
       "      <td>1131</td>\n",
       "      <td>Class 1 Obesity</td>\n",
       "    </tr>\n",
       "    <tr>\n",
       "      <th>1337</th>\n",
       "      <td>18</td>\n",
       "      <td>Male</td>\n",
       "      <td>23.2</td>\n",
       "      <td>0</td>\n",
       "      <td>No</td>\n",
       "      <td>Southeast</td>\n",
       "      <td>1121</td>\n",
       "      <td>Over Weight</td>\n",
       "    </tr>\n",
       "  </tbody>\n",
       "</table>\n",
       "<p>1338 rows × 8 columns</p>\n",
       "</div>"
      ],
      "text/plain": [
       "      Age     Sex   BMI  Children Smoker     Region  Charges       Body Shape\n",
       "0      54  Female  47.4         0    Yes  Southeast    63770  Class 3 Obesity\n",
       "1      45    Male  30.4         0    Yes  Southeast    62592  Class 1 Obesity\n",
       "2      52    Male  34.5         3    Yes  Northwest    60021  Class 2 Obesity\n",
       "3      31  Female  38.1         1    Yes  Northeast    58571  Class 3 Obesity\n",
       "4      33  Female  35.5         0    Yes  Northwest    55135  Class 2 Obesity\n",
       "...   ...     ...   ...       ...    ...        ...      ...              ...\n",
       "1333   18    Male  34.1         0     No  Southeast     1137  Class 2 Obesity\n",
       "1334   18    Male  33.7         0     No  Southeast     1136  Class 2 Obesity\n",
       "1335   18    Male  33.3         0     No  Southeast     1135  Class 2 Obesity\n",
       "1336   18    Male  30.1         0     No  Southeast     1131  Class 1 Obesity\n",
       "1337   18    Male  23.2         0     No  Southeast     1121      Over Weight\n",
       "\n",
       "[1338 rows x 8 columns]"
      ]
     },
     "execution_count": 15,
     "metadata": {},
     "output_type": "execute_result"
    }
   ],
   "source": [
    "import sys\n",
    "sys.path.append('C:/Users/nolan/Data 301 Github/course-project-group_1045/analysis/scripts')\n",
    "import project_functions\n",
    "\n",
    "df = project_functions.load_and_process(data)\n",
    "df"
   ]
  },
  {
   "cell_type": "code",
   "execution_count": 16,
   "metadata": {},
   "outputs": [
    {
     "data": {
      "text/html": [
       "<div>\n",
       "<style scoped>\n",
       "    .dataframe tbody tr th:only-of-type {\n",
       "        vertical-align: middle;\n",
       "    }\n",
       "\n",
       "    .dataframe tbody tr th {\n",
       "        vertical-align: top;\n",
       "    }\n",
       "\n",
       "    .dataframe thead th {\n",
       "        text-align: right;\n",
       "    }\n",
       "</style>\n",
       "<table border=\"1\" class=\"dataframe\">\n",
       "  <thead>\n",
       "    <tr style=\"text-align: right;\">\n",
       "      <th></th>\n",
       "      <th>Population</th>\n",
       "      <th>Non-Smokers</th>\n",
       "      <th>Smokers</th>\n",
       "    </tr>\n",
       "  </thead>\n",
       "  <tbody>\n",
       "    <tr>\n",
       "      <th>Under Weight</th>\n",
       "      <td>15</td>\n",
       "      <td>11</td>\n",
       "      <td>4</td>\n",
       "    </tr>\n",
       "    <tr>\n",
       "      <th>Normal Weight</th>\n",
       "      <td>121</td>\n",
       "      <td>93</td>\n",
       "      <td>28</td>\n",
       "    </tr>\n",
       "    <tr>\n",
       "      <th>Over Weight</th>\n",
       "      <td>248</td>\n",
       "      <td>199</td>\n",
       "      <td>49</td>\n",
       "    </tr>\n",
       "    <tr>\n",
       "      <th>Class 1 Obesity</th>\n",
       "      <td>414</td>\n",
       "      <td>331</td>\n",
       "      <td>83</td>\n",
       "    </tr>\n",
       "    <tr>\n",
       "      <th>Class 2 Obesity</th>\n",
       "      <td>336</td>\n",
       "      <td>265</td>\n",
       "      <td>71</td>\n",
       "    </tr>\n",
       "    <tr>\n",
       "      <th>Class 3 Obesity</th>\n",
       "      <td>204</td>\n",
       "      <td>165</td>\n",
       "      <td>39</td>\n",
       "    </tr>\n",
       "  </tbody>\n",
       "</table>\n",
       "</div>"
      ],
      "text/plain": [
       "                 Population  Non-Smokers  Smokers\n",
       "Under Weight             15           11        4\n",
       "Normal Weight           121           93       28\n",
       "Over Weight             248          199       49\n",
       "Class 1 Obesity         414          331       83\n",
       "Class 2 Obesity         336          265       71\n",
       "Class 3 Obesity         204          165       39"
      ]
     },
     "execution_count": 16,
     "metadata": {},
     "output_type": "execute_result"
    }
   ],
   "source": [
    "data = project_functions.compare_smokers_to_bmi(df)\n",
    "data"
   ]
  },
  {
   "cell_type": "markdown",
   "metadata": {},
   "source": [
    "The spreed between each bmi teir and the smokers vs non-smokers of each tier is around 20%. It would appear that smoking and an indiviuals BMI are mutually exsclusive."
   ]
  },
  {
   "cell_type": "code",
   "execution_count": 18,
   "metadata": {},
   "outputs": [
    {
     "data": {
      "text/plain": [
       "<seaborn.axisgrid.FacetGrid at 0x16c15812df0>"
      ]
     },
     "execution_count": 18,
     "metadata": {},
     "output_type": "execute_result"
    },
    {
     "data": {
      "image/png": "[encoded data removed]",
      "text/plain": [
       "<Figure size 360x360 with 1 Axes>"
      ]
     },
     "metadata": {
      "needs_background": "light"
     },
     "output_type": "display_data"
    }
   ],
   "source": [
    "import seaborn as sns\n",
    "\n",
    "sns.lmplot(x='Children', y=\"BMI\", data=df)\n",
    "\n",
    "\"\"\"This graph shows an interesting peak of both low and high BMI with people that have 5 children.\"\"\""
   ]
  },
  {
   "cell_type": "code",
   "execution_count": 12,
   "metadata": {},
   "outputs": [
    {
     "data": {
      "text/plain": [
       "<AxesSubplot:xlabel='Region', ylabel='Charges'>"
      ]
     },
     "execution_count": 12,
     "metadata": {},
     "output_type": "execute_result"
    },
    {
     "data": {
      "image/png": "[encoded data removed]",
      "text/plain": [
       "<Figure size 432x288 with 1 Axes>"
      ]
     },
     "metadata": {
      "needs_background": "light"
     },
     "output_type": "display_data"
    }
   ],
   "source": [
    "sns.barplot(x=\"Sex\", y=\"Charges\", data=df)\n",
    "\n",
    "\"\"\"with this graph you can see the how the region of each change changes drastically.\"\"\""
   ]
  },
  {
   "cell_type": "code",
   "execution_count": 20,
   "metadata": {},
   "outputs": [
    {
     "data": {
      "text/plain": [
       "<AxesSubplot:xlabel='Sex', ylabel='Charges'>"
      ]
     },
     "execution_count": 20,
     "metadata": {},
     "output_type": "execute_result"
    },
    {
     "data": {
      "image/png": "[encoded data removed]",
      "text/plain": [
       "<Figure size 432x288 with 1 Axes>"
      ]
     },
     "metadata": {
      "needs_background": "light"
     },
     "output_type": "display_data"
    }
   ],
   "source": [
    "sns.boxplot(x=\"Sex\",y=\"Charges\", data=df)\n",
    "\n",
    "\"\"\"with this graph you can see the disparig between charges vs sex of patient, this could be due to frequncy of charges or serious medical risks and dangers based on sex.\"\"\""
   ]
  },
  {
   "cell_type": "code",
   "execution_count": null,
   "metadata": {},
   "outputs": [],
   "source": []
  }
 ],
 "metadata": {
  "kernelspec": {
   "display_name": "Python 3",
   "language": "python",
   "name": "python3"
  },
  "language_info": {
   "codemirror_mode": {
    "name": "ipython",
    "version": 3
   },
   "file_extension": ".py",
   "mimetype": "text/x-python",
   "name": "python",
   "nbconvert_exporter": "python",
   "pygments_lexer": "ipython3",
   "version": "3.8.5"
  }
 },
 "nbformat": 4,
 "nbformat_minor": 4
}

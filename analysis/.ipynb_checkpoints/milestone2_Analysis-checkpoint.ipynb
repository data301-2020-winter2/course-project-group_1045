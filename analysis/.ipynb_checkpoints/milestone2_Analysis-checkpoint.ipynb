{
 "cells": [
  {
   "cell_type": "code",
   "execution_count": 1,
   "metadata": {},
   "outputs": [
    {
     "data": {
      "text/html": [
       "<div>\n",
       "<style scoped>\n",
       "    .dataframe tbody tr th:only-of-type {\n",
       "        vertical-align: middle;\n",
       "    }\n",
       "\n",
       "    .dataframe tbody tr th {\n",
       "        vertical-align: top;\n",
       "    }\n",
       "\n",
       "    .dataframe thead th {\n",
       "        text-align: right;\n",
       "    }\n",
       "</style>\n",
       "<table border=\"1\" class=\"dataframe\">\n",
       "  <thead>\n",
       "    <tr style=\"text-align: right;\">\n",
       "      <th></th>\n",
       "      <th>Age</th>\n",
       "      <th>Sex</th>\n",
       "      <th>BMI</th>\n",
       "      <th>Children</th>\n",
       "      <th>Smoker</th>\n",
       "      <th>Region</th>\n",
       "      <th>Charges</th>\n",
       "      <th>Body Shape</th>\n",
       "    </tr>\n",
       "  </thead>\n",
       "  <tbody>\n",
       "    <tr>\n",
       "      <th>0</th>\n",
       "      <td>54</td>\n",
       "      <td>Female</td>\n",
       "      <td>47.4</td>\n",
       "      <td>0</td>\n",
       "      <td>Yes</td>\n",
       "      <td>Southeast</td>\n",
       "      <td>63770</td>\n",
       "      <td>Class 3 Obesity</td>\n",
       "    </tr>\n",
       "    <tr>\n",
       "      <th>1</th>\n",
       "      <td>45</td>\n",
       "      <td>Male</td>\n",
       "      <td>30.4</td>\n",
       "      <td>0</td>\n",
       "      <td>Yes</td>\n",
       "      <td>Southeast</td>\n",
       "      <td>62592</td>\n",
       "      <td>Class 1 Obesity</td>\n",
       "    </tr>\n",
       "    <tr>\n",
       "      <th>2</th>\n",
       "      <td>52</td>\n",
       "      <td>Male</td>\n",
       "      <td>34.5</td>\n",
       "      <td>3</td>\n",
       "      <td>Yes</td>\n",
       "      <td>Northwest</td>\n",
       "      <td>60021</td>\n",
       "      <td>Class 2 Obesity</td>\n",
       "    </tr>\n",
       "    <tr>\n",
       "      <th>3</th>\n",
       "      <td>31</td>\n",
       "      <td>Female</td>\n",
       "      <td>38.1</td>\n",
       "      <td>1</td>\n",
       "      <td>Yes</td>\n",
       "      <td>Northeast</td>\n",
       "      <td>58571</td>\n",
       "      <td>Class 3 Obesity</td>\n",
       "    </tr>\n",
       "    <tr>\n",
       "      <th>4</th>\n",
       "      <td>33</td>\n",
       "      <td>Female</td>\n",
       "      <td>35.5</td>\n",
       "      <td>0</td>\n",
       "      <td>Yes</td>\n",
       "      <td>Northwest</td>\n",
       "      <td>55135</td>\n",
       "      <td>Class 2 Obesity</td>\n",
       "    </tr>\n",
       "    <tr>\n",
       "      <th>...</th>\n",
       "      <td>...</td>\n",
       "      <td>...</td>\n",
       "      <td>...</td>\n",
       "      <td>...</td>\n",
       "      <td>...</td>\n",
       "      <td>...</td>\n",
       "      <td>...</td>\n",
       "      <td>...</td>\n",
       "    </tr>\n",
       "    <tr>\n",
       "      <th>1333</th>\n",
       "      <td>18</td>\n",
       "      <td>Male</td>\n",
       "      <td>34.1</td>\n",
       "      <td>0</td>\n",
       "      <td>No</td>\n",
       "      <td>Southeast</td>\n",
       "      <td>1137</td>\n",
       "      <td>Class 2 Obesity</td>\n",
       "    </tr>\n",
       "    <tr>\n",
       "      <th>1334</th>\n",
       "      <td>18</td>\n",
       "      <td>Male</td>\n",
       "      <td>33.7</td>\n",
       "      <td>0</td>\n",
       "      <td>No</td>\n",
       "      <td>Southeast</td>\n",
       "      <td>1136</td>\n",
       "      <td>Class 2 Obesity</td>\n",
       "    </tr>\n",
       "    <tr>\n",
       "      <th>1335</th>\n",
       "      <td>18</td>\n",
       "      <td>Male</td>\n",
       "      <td>33.3</td>\n",
       "      <td>0</td>\n",
       "      <td>No</td>\n",
       "      <td>Southeast</td>\n",
       "      <td>1135</td>\n",
       "      <td>Class 2 Obesity</td>\n",
       "    </tr>\n",
       "    <tr>\n",
       "      <th>1336</th>\n",
       "      <td>18</td>\n",
       "      <td>Male</td>\n",
       "      <td>30.1</td>\n",
       "      <td>0</td>\n",
       "      <td>No</td>\n",
       "      <td>Southeast</td>\n",
       "      <td>1131</td>\n",
       "      <td>Class 1 Obesity</td>\n",
       "    </tr>\n",
       "    <tr>\n",
       "      <th>1337</th>\n",
       "      <td>18</td>\n",
       "      <td>Male</td>\n",
       "      <td>23.2</td>\n",
       "      <td>0</td>\n",
       "      <td>No</td>\n",
       "      <td>Southeast</td>\n",
       "      <td>1121</td>\n",
       "      <td>Over Weight</td>\n",
       "    </tr>\n",
       "  </tbody>\n",
       "</table>\n",
       "<p>1338 rows × 8 columns</p>\n",
       "</div>"
      ],
      "text/plain": [
       "      Age     Sex   BMI  Children Smoker     Region  Charges       Body Shape\n",
       "0      54  Female  47.4         0    Yes  Southeast    63770  Class 3 Obesity\n",
       "1      45    Male  30.4         0    Yes  Southeast    62592  Class 1 Obesity\n",
       "2      52    Male  34.5         3    Yes  Northwest    60021  Class 2 Obesity\n",
       "3      31  Female  38.1         1    Yes  Northeast    58571  Class 3 Obesity\n",
       "4      33  Female  35.5         0    Yes  Northwest    55135  Class 2 Obesity\n",
       "...   ...     ...   ...       ...    ...        ...      ...              ...\n",
       "1333   18    Male  34.1         0     No  Southeast     1137  Class 2 Obesity\n",
       "1334   18    Male  33.7         0     No  Southeast     1136  Class 2 Obesity\n",
       "1335   18    Male  33.3         0     No  Southeast     1135  Class 2 Obesity\n",
       "1336   18    Male  30.1         0     No  Southeast     1131  Class 1 Obesity\n",
       "1337   18    Male  23.2         0     No  Southeast     1121      Over Weight\n",
       "\n",
       "[1338 rows x 8 columns]"
      ]
     },
     "execution_count": 1,
     "metadata": {},
     "output_type": "execute_result"
    }
   ],
   "source": [
    "import pandas as pd\n",
    "import numpy as np\n",
    "import seaborn as sns\n",
    "from scripts import project_functions\n",
    "import matplotlib.pyplot as plt\n",
    "data = \"https://gist.githubusercontent.com/meperezcuello/82a9f1c1c473d6585e750ad2e3c05a41/raw/d42d226d0dd64e7f5395a0eec1b9190a10edbc03/Medical_Cost.csv\"\n",
    "df = project_functions.load_and_process(data)\n",
    "df"
   ]
  },
  {
   "cell_type": "markdown",
   "metadata": {},
   "source": [
    "**The following analysis will attempt to answer four research questions.** \n",
    "1. **Are there any relevant correlation between the ratio of multiple quantitative variables; such as age/bmi vs charges/children?** \n",
    "2. **Is there a region with a greater average age that also results in higher average charges?**\n",
    "3. **What is the most dominant variable in determining the costs of insurance charges?**\n",
    "4. **Does smoking largely affect medical costs?**"
   ]
  },
  {
   "cell_type": "markdown",
   "metadata": {},
   "source": [
    "---"
   ]
  },
  {
   "cell_type": "markdown",
   "metadata": {},
   "source": [
    "**Finiding a BMI / Age Correlation:**"
   ]
  },
  {
   "cell_type": "code",
   "execution_count": 2,
   "metadata": {},
   "outputs": [],
   "source": [
    "ages = [\n",
    "    (df['Age'] >= 18) & (df['Age'] < 30),\n",
    "    (df['Age'] >= 30) & (df['Age'] < 40),\n",
    "    (df['Age'] >= 40) & (df['Age'] < 50),\n",
    "    (df['Age'] >= 50) & (df['Age'] < 65)\n",
    "]\n",
    "values = ['18 - 30', '30 - 40', '40 - 50', '50 - 65']\n",
    "#To be used in future"
   ]
  },
  {
   "cell_type": "code",
   "execution_count": 3,
   "metadata": {},
   "outputs": [
    {
     "data": {
      "text/plain": [
       "Text(0.5, 1.0, 'BMI to Age Regression Model')"
      ]
     },
     "execution_count": 3,
     "metadata": {},
     "output_type": "execute_result"
    },
    {
     "data": {
      "image/png": "[encoded data removed]",
      "text/plain": [
       "<Figure size 360x360 with 1 Axes>"
      ]
     },
     "metadata": {
      "needs_background": "light"
     },
     "output_type": "display_data"
    }
   ],
   "source": [
    "sns.lmplot(x=\"Age\", y=\"BMI\", data=df)\n",
    "plt.title('BMI to Age Regression Model')"
   ]
  },
  {
   "cell_type": "code",
   "execution_count": 4,
   "metadata": {},
   "outputs": [
    {
     "data": {
      "text/plain": [
       "Text(0.5, 1.0, 'Correlation Between Age Groups and BMI')"
      ]
     },
     "execution_count": 4,
     "metadata": {},
     "output_type": "execute_result"
    },
    {
     "data": {
      "image/png": "[encoded data removed]",
      "text/plain": [
       "<Figure size 432x288 with 1 Axes>"
      ]
     },
     "metadata": {
      "needs_background": "light"
     },
     "output_type": "display_data"
    }
   ],
   "source": [
    "sns.violinplot(x=np.select(ages,values), y='BMI', data=df, order=['18 - 30', '30 - 40', '40 - 50', '50 - 65'])\n",
    "plt.title('Correlation Between Age Groups and BMI')"
   ]
  },
  {
   "cell_type": "markdown",
   "metadata": {},
   "source": [
    "*Unfortunately, we cannot determine a very strong correlation between age and BMI. The individuals with the extremely higher BMI's are seen mostly in the 18-30 age range as we can see from the extended tip at the top. But, it is also home to the lowest BMI individuals as well. Most individuals are sitting right around 30, as depicted by the thicker parts of the violin, although we can see a slightly larger bump towards 32-34 in the age range 50-65. Overall, there is not a definitive positive correlation seen between age and BMI.*"
   ]
  },
  {
   "cell_type": "markdown",
   "metadata": {},
   "source": [
    "---"
   ]
  },
  {
   "cell_type": "markdown",
   "metadata": {},
   "source": [
    "**Finding a correlation between the number of children and the average charge:**"
   ]
  },
  {
   "cell_type": "code",
   "execution_count": 5,
   "metadata": {},
   "outputs": [
    {
     "data": {
      "text/html": [
       "<div>\n",
       "<style scoped>\n",
       "    .dataframe tbody tr th:only-of-type {\n",
       "        vertical-align: middle;\n",
       "    }\n",
       "\n",
       "    .dataframe tbody tr th {\n",
       "        vertical-align: top;\n",
       "    }\n",
       "\n",
       "    .dataframe thead th {\n",
       "        text-align: right;\n",
       "    }\n",
       "</style>\n",
       "<table border=\"1\" class=\"dataframe\">\n",
       "  <thead>\n",
       "    <tr style=\"text-align: right;\">\n",
       "      <th></th>\n",
       "      <th>Age</th>\n",
       "      <th>BMI</th>\n",
       "      <th>Charges</th>\n",
       "    </tr>\n",
       "    <tr>\n",
       "      <th>Children</th>\n",
       "      <th></th>\n",
       "      <th></th>\n",
       "      <th></th>\n",
       "    </tr>\n",
       "  </thead>\n",
       "  <tbody>\n",
       "    <tr>\n",
       "      <th>0</th>\n",
       "      <td>38.444251</td>\n",
       "      <td>30.550697</td>\n",
       "      <td>12365.461672</td>\n",
       "    </tr>\n",
       "    <tr>\n",
       "      <th>1</th>\n",
       "      <td>39.453704</td>\n",
       "      <td>30.621605</td>\n",
       "      <td>12730.706790</td>\n",
       "    </tr>\n",
       "    <tr>\n",
       "      <th>2</th>\n",
       "      <td>39.445833</td>\n",
       "      <td>30.978750</td>\n",
       "      <td>15073.066667</td>\n",
       "    </tr>\n",
       "    <tr>\n",
       "      <th>3</th>\n",
       "      <td>41.566879</td>\n",
       "      <td>30.685350</td>\n",
       "      <td>15354.847134</td>\n",
       "    </tr>\n",
       "    <tr>\n",
       "      <th>4</th>\n",
       "      <td>39.000000</td>\n",
       "      <td>31.388000</td>\n",
       "      <td>13850.200000</td>\n",
       "    </tr>\n",
       "    <tr>\n",
       "      <th>5</th>\n",
       "      <td>35.611111</td>\n",
       "      <td>29.600000</td>\n",
       "      <td>8785.500000</td>\n",
       "    </tr>\n",
       "  </tbody>\n",
       "</table>\n",
       "</div>"
      ],
      "text/plain": [
       "                Age        BMI       Charges\n",
       "Children                                    \n",
       "0         38.444251  30.550697  12365.461672\n",
       "1         39.453704  30.621605  12730.706790\n",
       "2         39.445833  30.978750  15073.066667\n",
       "3         41.566879  30.685350  15354.847134\n",
       "4         39.000000  31.388000  13850.200000\n",
       "5         35.611111  29.600000   8785.500000"
      ]
     },
     "execution_count": 5,
     "metadata": {},
     "output_type": "execute_result"
    }
   ],
   "source": [
    "df.groupby(by=[\"Children\"]).mean()"
   ]
  },
  {
   "cell_type": "code",
   "execution_count": 6,
   "metadata": {},
   "outputs": [
    {
     "data": {
      "text/plain": [
       "Text(0.5, 1.0, 'How Does Number of Children Affect Medical Charges?')"
      ]
     },
     "execution_count": 6,
     "metadata": {},
     "output_type": "execute_result"
    },
    {
     "data": {
      "image/png": "[encoded data removed]",
      "text/plain": [
       "<Figure size 432x288 with 1 Axes>"
      ]
     },
     "metadata": {
      "needs_background": "light"
     },
     "output_type": "display_data"
    }
   ],
   "source": [
    "sns.barplot(x=\"Children\", y=\"Charges\", data=df)\n",
    "plt.title('How Does Number of Children Affect Medical Charges?')"
   ]
  },
  {
   "cell_type": "markdown",
   "metadata": {},
   "source": [
    "*Demonstrated by the data and visualization above we can see that indivivuals with 0,1,and 4 childern have close average charge of around 12500. The charges of of individuals with 2 and 3 childeren are significantly higher at around 15000. Finally, individuals with 5 children have a lower average charge of around 8000. While a certain number of children correlates with a higher or lower charge , it is not linear in the sense that less childern result in less charges or more childern result in more charges. This is quite interesting in the sense of why there is a general upward trend until the 4th and 5th children, and why the people with 5 children have the lowest charges. Thinking logically, there may be much less people with 4-5 children to draw a sample out of, so it may be a less accurate average than people with 0-3. If so, this makes this calculation unreliable because we do not have a large enough sample of people with >3 children to choose from.*"
   ]
  },
  {
   "cell_type": "code",
   "execution_count": 7,
   "metadata": {},
   "outputs": [
    {
     "data": {
      "text/plain": [
       "False    1295\n",
       "True       43\n",
       "Name: Children, dtype: int64"
      ]
     },
     "execution_count": 7,
     "metadata": {},
     "output_type": "execute_result"
    }
   ],
   "source": [
    "(df['Children'] >= 4).value_counts()"
   ]
  },
  {
   "cell_type": "markdown",
   "metadata": {},
   "source": [
    "*As we predicted, the count of people who have >= 4 children is only ~3.2% of the population sampled (43:1295). This makes the data of people with >= 4 people quite unreliable, and thus, hard for us to accurately say or not if this leads to greater or lesser medical costs.*"
   ]
  },
  {
   "cell_type": "code",
   "execution_count": 8,
   "metadata": {},
   "outputs": [
    {
     "data": {
      "text/html": [
       "<div>\n",
       "<style scoped>\n",
       "    .dataframe tbody tr th:only-of-type {\n",
       "        vertical-align: middle;\n",
       "    }\n",
       "\n",
       "    .dataframe tbody tr th {\n",
       "        vertical-align: top;\n",
       "    }\n",
       "\n",
       "    .dataframe thead th {\n",
       "        text-align: right;\n",
       "    }\n",
       "</style>\n",
       "<table border=\"1\" class=\"dataframe\">\n",
       "  <thead>\n",
       "    <tr style=\"text-align: right;\">\n",
       "      <th></th>\n",
       "      <th>Age</th>\n",
       "      <th>BMI</th>\n",
       "      <th>Charges</th>\n",
       "    </tr>\n",
       "    <tr>\n",
       "      <th>Children</th>\n",
       "      <th></th>\n",
       "      <th></th>\n",
       "      <th></th>\n",
       "    </tr>\n",
       "  </thead>\n",
       "  <tbody>\n",
       "    <tr>\n",
       "      <th>0</th>\n",
       "      <td>38.444251</td>\n",
       "      <td>30.550697</td>\n",
       "      <td>12365.461672</td>\n",
       "    </tr>\n",
       "    <tr>\n",
       "      <th>1</th>\n",
       "      <td>39.453704</td>\n",
       "      <td>30.621605</td>\n",
       "      <td>12730.706790</td>\n",
       "    </tr>\n",
       "    <tr>\n",
       "      <th>2</th>\n",
       "      <td>39.445833</td>\n",
       "      <td>30.978750</td>\n",
       "      <td>15073.066667</td>\n",
       "    </tr>\n",
       "    <tr>\n",
       "      <th>3</th>\n",
       "      <td>41.566879</td>\n",
       "      <td>30.685350</td>\n",
       "      <td>15354.847134</td>\n",
       "    </tr>\n",
       "    <tr>\n",
       "      <th>4</th>\n",
       "      <td>39.000000</td>\n",
       "      <td>31.388000</td>\n",
       "      <td>13850.200000</td>\n",
       "    </tr>\n",
       "    <tr>\n",
       "      <th>5</th>\n",
       "      <td>35.611111</td>\n",
       "      <td>29.600000</td>\n",
       "      <td>8785.500000</td>\n",
       "    </tr>\n",
       "  </tbody>\n",
       "</table>\n",
       "</div>"
      ],
      "text/plain": [
       "                Age        BMI       Charges\n",
       "Children                                    \n",
       "0         38.444251  30.550697  12365.461672\n",
       "1         39.453704  30.621605  12730.706790\n",
       "2         39.445833  30.978750  15073.066667\n",
       "3         41.566879  30.685350  15354.847134\n",
       "4         39.000000  31.388000  13850.200000\n",
       "5         35.611111  29.600000   8785.500000"
      ]
     },
     "execution_count": 8,
     "metadata": {},
     "output_type": "execute_result"
    }
   ],
   "source": [
    "df_children = df.groupby(by='Children').mean()\n",
    "df_children"
   ]
  },
  {
   "cell_type": "markdown",
   "metadata": {},
   "source": [
    "*Unsuspectedly, though, the people with 5 children have a much lower average age and BMI (which may also be correlated themselves), which may explain the lower cost of charges to a certain extent. We delve deeper into the question of if age and BMI are determining factors of costs below.*"
   ]
  },
  {
   "cell_type": "markdown",
   "metadata": {},
   "source": [
    "---"
   ]
  },
  {
   "cell_type": "markdown",
   "metadata": {},
   "source": [
    "**Region / Age - Cost Correlation**"
   ]
  },
  {
   "cell_type": "code",
   "execution_count": 20,
   "metadata": {},
   "outputs": [
    {
     "data": {
      "text/html": [
       "<div>\n",
       "<style scoped>\n",
       "    .dataframe tbody tr th:only-of-type {\n",
       "        vertical-align: middle;\n",
       "    }\n",
       "\n",
       "    .dataframe tbody tr th {\n",
       "        vertical-align: top;\n",
       "    }\n",
       "\n",
       "    .dataframe thead th {\n",
       "        text-align: right;\n",
       "    }\n",
       "</style>\n",
       "<table border=\"1\" class=\"dataframe\">\n",
       "  <thead>\n",
       "    <tr style=\"text-align: right;\">\n",
       "      <th></th>\n",
       "      <th>Age</th>\n",
       "      <th>BMI</th>\n",
       "      <th>Children</th>\n",
       "      <th>Charges</th>\n",
       "    </tr>\n",
       "    <tr>\n",
       "      <th>Region</th>\n",
       "      <th></th>\n",
       "      <th></th>\n",
       "      <th></th>\n",
       "      <th></th>\n",
       "    </tr>\n",
       "  </thead>\n",
       "  <tbody>\n",
       "    <tr>\n",
       "      <th>Northeast</th>\n",
       "      <td>39.268519</td>\n",
       "      <td>29.173457</td>\n",
       "      <td>1.046296</td>\n",
       "      <td>13405.910494</td>\n",
       "    </tr>\n",
       "    <tr>\n",
       "      <th>Northwest</th>\n",
       "      <td>39.196923</td>\n",
       "      <td>29.200615</td>\n",
       "      <td>1.147692</td>\n",
       "      <td>12417.070769</td>\n",
       "    </tr>\n",
       "    <tr>\n",
       "      <th>Southeast</th>\n",
       "      <td>38.939560</td>\n",
       "      <td>33.354945</td>\n",
       "      <td>1.049451</td>\n",
       "      <td>14734.903846</td>\n",
       "    </tr>\n",
       "    <tr>\n",
       "      <th>Southwest</th>\n",
       "      <td>39.455385</td>\n",
       "      <td>30.596615</td>\n",
       "      <td>1.141538</td>\n",
       "      <td>12346.452308</td>\n",
       "    </tr>\n",
       "  </tbody>\n",
       "</table>\n",
       "</div>"
      ],
      "text/plain": [
       "                 Age        BMI  Children       Charges\n",
       "Region                                                 \n",
       "Northeast  39.268519  29.173457  1.046296  13405.910494\n",
       "Northwest  39.196923  29.200615  1.147692  12417.070769\n",
       "Southeast  38.939560  33.354945  1.049451  14734.903846\n",
       "Southwest  39.455385  30.596615  1.141538  12346.452308"
      ]
     },
     "execution_count": 20,
     "metadata": {},
     "output_type": "execute_result"
    }
   ],
   "source": [
    "dfbar=df.groupby(by=\"Region\").mean()\n",
    "dfbar"
   ]
  },
  {
   "cell_type": "code",
   "execution_count": 10,
   "metadata": {},
   "outputs": [
    {
     "data": {
      "text/plain": [
       "<AxesSubplot:xlabel='Region', ylabel='Charges'>"
      ]
     },
     "execution_count": 10,
     "metadata": {},
     "output_type": "execute_result"
    },
    {
     "data": {
      "image/png": "[encoded data removed]",
      "text/plain": [
       "<Figure size 432x288 with 1 Axes>"
      ]
     },
     "metadata": {
      "needs_background": "light"
     },
     "output_type": "display_data"
    }
   ],
   "source": [
    "sns.barplot(x=\"Region\", y=\"Charges\", data=df)"
   ]
  },
  {
   "cell_type": "code",
   "execution_count": 11,
   "metadata": {},
   "outputs": [
    {
     "data": {
      "text/plain": [
       "Text(0.5, 1.0, 'Region to Age Group Medical Costs')"
      ]
     },
     "execution_count": 11,
     "metadata": {},
     "output_type": "execute_result"
    },
    {
     "data": {
      "image/png": "[encoded data removed]",
      "text/plain": [
       "<Figure size 432x288 with 1 Axes>"
      ]
     },
     "metadata": {
      "needs_background": "light"
     },
     "output_type": "display_data"
    }
   ],
   "source": [
    "ages = [\n",
    "    (df['Age'] >= 18) & (df['Age'] < 30),\n",
    "    (df['Age'] >= 30) & (df['Age'] < 40),\n",
    "    (df['Age'] >= 40) & (df['Age'] < 50),\n",
    "    (df['Age'] >= 50) & (df['Age'] < 65)\n",
    "]\n",
    "values = ['18 - 30', '30 - 40', '40 - 50', '50 - 65']\n",
    "sns.barplot(x=np.select(ages,values), y='Charges', hue='Region',data=df, order=['18 - 30', '30 - 40', '40 - 50', '50 - 65'])\n",
    "plt.title('Region to Age Group Medical Costs')"
   ]
  },
  {
   "cell_type": "markdown",
   "metadata": {},
   "source": [
    "*Using the top barplot, we can see that there isn't much difference between the average medical expenses per region, other than that the Southeast region comes in a bit higher than the other few, sitting just below 15000 dollars on average. But, when we look more specifically at age ranges, we find that as people get older, the Southeast region seems to take off from the other few regions, specifically ages 40+. This barplot is also interesting because regions aside, we find that age does indeed correlate to higher costs (as seen more clearly below).*"
   ]
  },
  {
   "cell_type": "markdown",
   "metadata": {},
   "source": [
    "---"
   ]
  },
  {
   "cell_type": "code",
   "execution_count": 19,
   "metadata": {},
   "outputs": [
    {
     "data": {
      "text/html": [
       "<div>\n",
       "<style scoped>\n",
       "    .dataframe tbody tr th:only-of-type {\n",
       "        vertical-align: middle;\n",
       "    }\n",
       "\n",
       "    .dataframe tbody tr th {\n",
       "        vertical-align: top;\n",
       "    }\n",
       "\n",
       "    .dataframe thead th {\n",
       "        text-align: right;\n",
       "    }\n",
       "</style>\n",
       "<table border=\"1\" class=\"dataframe\">\n",
       "  <thead>\n",
       "    <tr style=\"text-align: right;\">\n",
       "      <th></th>\n",
       "      <th>BMI</th>\n",
       "      <th>Children</th>\n",
       "      <th>Charges</th>\n",
       "    </tr>\n",
       "    <tr>\n",
       "      <th>Age</th>\n",
       "      <th></th>\n",
       "      <th></th>\n",
       "      <th></th>\n",
       "    </tr>\n",
       "  </thead>\n",
       "  <tbody>\n",
       "    <tr>\n",
       "      <th>18</th>\n",
       "      <td>31.330435</td>\n",
       "      <td>0.449275</td>\n",
       "      <td>7085.710145</td>\n",
       "    </tr>\n",
       "    <tr>\n",
       "      <th>19</th>\n",
       "      <td>28.597059</td>\n",
       "      <td>0.426471</td>\n",
       "      <td>9747.367647</td>\n",
       "    </tr>\n",
       "    <tr>\n",
       "      <th>20</th>\n",
       "      <td>30.627586</td>\n",
       "      <td>0.862069</td>\n",
       "      <td>10159.241379</td>\n",
       "    </tr>\n",
       "    <tr>\n",
       "      <th>21</th>\n",
       "      <td>28.182143</td>\n",
       "      <td>0.785714</td>\n",
       "      <td>4730.000000</td>\n",
       "    </tr>\n",
       "    <tr>\n",
       "      <th>22</th>\n",
       "      <td>31.089286</td>\n",
       "      <td>0.714286</td>\n",
       "      <td>10012.392857</td>\n",
       "    </tr>\n",
       "    <tr>\n",
       "      <th>23</th>\n",
       "      <td>31.460714</td>\n",
       "      <td>1.000000</td>\n",
       "      <td>12419.392857</td>\n",
       "    </tr>\n",
       "    <tr>\n",
       "      <th>24</th>\n",
       "      <td>29.142857</td>\n",
       "      <td>0.464286</td>\n",
       "      <td>10647.428571</td>\n",
       "    </tr>\n",
       "    <tr>\n",
       "      <th>25</th>\n",
       "      <td>29.689286</td>\n",
       "      <td>1.285714</td>\n",
       "      <td>9837.857143</td>\n",
       "    </tr>\n",
       "    <tr>\n",
       "      <th>26</th>\n",
       "      <td>29.432143</td>\n",
       "      <td>1.071429</td>\n",
       "      <td>6133.321429</td>\n",
       "    </tr>\n",
       "    <tr>\n",
       "      <th>27</th>\n",
       "      <td>29.342857</td>\n",
       "      <td>0.964286</td>\n",
       "      <td>12184.107143</td>\n",
       "    </tr>\n",
       "    <tr>\n",
       "      <th>28</th>\n",
       "      <td>29.482143</td>\n",
       "      <td>1.285714</td>\n",
       "      <td>9068.678571</td>\n",
       "    </tr>\n",
       "    <tr>\n",
       "      <th>29</th>\n",
       "      <td>29.370370</td>\n",
       "      <td>1.259259</td>\n",
       "      <td>10429.629630</td>\n",
       "    </tr>\n",
       "    <tr>\n",
       "      <th>30</th>\n",
       "      <td>30.551852</td>\n",
       "      <td>1.555556</td>\n",
       "      <td>12718.666667</td>\n",
       "    </tr>\n",
       "    <tr>\n",
       "      <th>31</th>\n",
       "      <td>29.922222</td>\n",
       "      <td>1.407407</td>\n",
       "      <td>10196.555556</td>\n",
       "    </tr>\n",
       "    <tr>\n",
       "      <th>32</th>\n",
       "      <td>31.584615</td>\n",
       "      <td>1.269231</td>\n",
       "      <td>9219.807692</td>\n",
       "    </tr>\n",
       "    <tr>\n",
       "      <th>33</th>\n",
       "      <td>31.161538</td>\n",
       "      <td>1.538462</td>\n",
       "      <td>12351.038462</td>\n",
       "    </tr>\n",
       "    <tr>\n",
       "      <th>34</th>\n",
       "      <td>30.269231</td>\n",
       "      <td>1.153846</td>\n",
       "      <td>11613.000000</td>\n",
       "    </tr>\n",
       "    <tr>\n",
       "      <th>35</th>\n",
       "      <td>31.392000</td>\n",
       "      <td>1.680000</td>\n",
       "      <td>11306.760000</td>\n",
       "    </tr>\n",
       "    <tr>\n",
       "      <th>36</th>\n",
       "      <td>29.368000</td>\n",
       "      <td>1.240000</td>\n",
       "      <td>12204.080000</td>\n",
       "    </tr>\n",
       "    <tr>\n",
       "      <th>37</th>\n",
       "      <td>31.216000</td>\n",
       "      <td>1.520000</td>\n",
       "      <td>18019.360000</td>\n",
       "    </tr>\n",
       "    <tr>\n",
       "      <th>38</th>\n",
       "      <td>29.000000</td>\n",
       "      <td>1.480000</td>\n",
       "      <td>8102.200000</td>\n",
       "    </tr>\n",
       "    <tr>\n",
       "      <th>39</th>\n",
       "      <td>29.904000</td>\n",
       "      <td>2.200000</td>\n",
       "      <td>11777.800000</td>\n",
       "    </tr>\n",
       "    <tr>\n",
       "      <th>40</th>\n",
       "      <td>30.144444</td>\n",
       "      <td>1.592593</td>\n",
       "      <td>11771.740741</td>\n",
       "    </tr>\n",
       "    <tr>\n",
       "      <th>41</th>\n",
       "      <td>31.511111</td>\n",
       "      <td>1.407407</td>\n",
       "      <td>9653.259259</td>\n",
       "    </tr>\n",
       "    <tr>\n",
       "      <th>42</th>\n",
       "      <td>30.337037</td>\n",
       "      <td>1.000000</td>\n",
       "      <td>13060.555556</td>\n",
       "    </tr>\n",
       "    <tr>\n",
       "      <th>43</th>\n",
       "      <td>30.207407</td>\n",
       "      <td>1.629630</td>\n",
       "      <td>19266.888889</td>\n",
       "    </tr>\n",
       "    <tr>\n",
       "      <th>44</th>\n",
       "      <td>30.844444</td>\n",
       "      <td>1.222222</td>\n",
       "      <td>15858.925926</td>\n",
       "    </tr>\n",
       "    <tr>\n",
       "      <th>45</th>\n",
       "      <td>29.782759</td>\n",
       "      <td>1.482759</td>\n",
       "      <td>14829.689655</td>\n",
       "    </tr>\n",
       "    <tr>\n",
       "      <th>46</th>\n",
       "      <td>31.337931</td>\n",
       "      <td>1.620690</td>\n",
       "      <td>14342.103448</td>\n",
       "    </tr>\n",
       "    <tr>\n",
       "      <th>47</th>\n",
       "      <td>30.655172</td>\n",
       "      <td>1.379310</td>\n",
       "      <td>17653.482759</td>\n",
       "    </tr>\n",
       "    <tr>\n",
       "      <th>48</th>\n",
       "      <td>31.924138</td>\n",
       "      <td>1.310345</td>\n",
       "      <td>14632.137931</td>\n",
       "    </tr>\n",
       "    <tr>\n",
       "      <th>49</th>\n",
       "      <td>30.310714</td>\n",
       "      <td>1.500000</td>\n",
       "      <td>12695.464286</td>\n",
       "    </tr>\n",
       "    <tr>\n",
       "      <th>50</th>\n",
       "      <td>31.134483</td>\n",
       "      <td>1.310345</td>\n",
       "      <td>15662.551724</td>\n",
       "    </tr>\n",
       "    <tr>\n",
       "      <th>51</th>\n",
       "      <td>31.724138</td>\n",
       "      <td>1.103448</td>\n",
       "      <td>15681.862069</td>\n",
       "    </tr>\n",
       "    <tr>\n",
       "      <th>52</th>\n",
       "      <td>32.937931</td>\n",
       "      <td>1.482759</td>\n",
       "      <td>18255.655172</td>\n",
       "    </tr>\n",
       "    <tr>\n",
       "      <th>53</th>\n",
       "      <td>30.367857</td>\n",
       "      <td>1.250000</td>\n",
       "      <td>16020.357143</td>\n",
       "    </tr>\n",
       "    <tr>\n",
       "      <th>54</th>\n",
       "      <td>31.232143</td>\n",
       "      <td>1.428571</td>\n",
       "      <td>18758.035714</td>\n",
       "    </tr>\n",
       "    <tr>\n",
       "      <th>55</th>\n",
       "      <td>31.950000</td>\n",
       "      <td>0.961538</td>\n",
       "      <td>16164.038462</td>\n",
       "    </tr>\n",
       "    <tr>\n",
       "      <th>56</th>\n",
       "      <td>31.596154</td>\n",
       "      <td>0.769231</td>\n",
       "      <td>15025.153846</td>\n",
       "    </tr>\n",
       "    <tr>\n",
       "      <th>57</th>\n",
       "      <td>30.838462</td>\n",
       "      <td>0.615385</td>\n",
       "      <td>16446.769231</td>\n",
       "    </tr>\n",
       "    <tr>\n",
       "      <th>58</th>\n",
       "      <td>32.724000</td>\n",
       "      <td>0.240000</td>\n",
       "      <td>13878.400000</td>\n",
       "    </tr>\n",
       "    <tr>\n",
       "      <th>59</th>\n",
       "      <td>30.576000</td>\n",
       "      <td>1.200000</td>\n",
       "      <td>18895.280000</td>\n",
       "    </tr>\n",
       "    <tr>\n",
       "      <th>60</th>\n",
       "      <td>30.326087</td>\n",
       "      <td>0.347826</td>\n",
       "      <td>21978.826087</td>\n",
       "    </tr>\n",
       "    <tr>\n",
       "      <th>61</th>\n",
       "      <td>32.552174</td>\n",
       "      <td>0.739130</td>\n",
       "      <td>22024.043478</td>\n",
       "    </tr>\n",
       "    <tr>\n",
       "      <th>62</th>\n",
       "      <td>32.347826</td>\n",
       "      <td>0.565217</td>\n",
       "      <td>19163.391304</td>\n",
       "    </tr>\n",
       "    <tr>\n",
       "      <th>63</th>\n",
       "      <td>31.926087</td>\n",
       "      <td>0.565217</td>\n",
       "      <td>19884.478261</td>\n",
       "    </tr>\n",
       "    <tr>\n",
       "      <th>64</th>\n",
       "      <td>32.981818</td>\n",
       "      <td>0.772727</td>\n",
       "      <td>23275.045455</td>\n",
       "    </tr>\n",
       "  </tbody>\n",
       "</table>\n",
       "</div>"
      ],
      "text/plain": [
       "           BMI  Children       Charges\n",
       "Age                                   \n",
       "18   31.330435  0.449275   7085.710145\n",
       "19   28.597059  0.426471   9747.367647\n",
       "20   30.627586  0.862069  10159.241379\n",
       "21   28.182143  0.785714   4730.000000\n",
       "22   31.089286  0.714286  10012.392857\n",
       "23   31.460714  1.000000  12419.392857\n",
       "24   29.142857  0.464286  10647.428571\n",
       "25   29.689286  1.285714   9837.857143\n",
       "26   29.432143  1.071429   6133.321429\n",
       "27   29.342857  0.964286  12184.107143\n",
       "28   29.482143  1.285714   9068.678571\n",
       "29   29.370370  1.259259  10429.629630\n",
       "30   30.551852  1.555556  12718.666667\n",
       "31   29.922222  1.407407  10196.555556\n",
       "32   31.584615  1.269231   9219.807692\n",
       "33   31.161538  1.538462  12351.038462\n",
       "34   30.269231  1.153846  11613.000000\n",
       "35   31.392000  1.680000  11306.760000\n",
       "36   29.368000  1.240000  12204.080000\n",
       "37   31.216000  1.520000  18019.360000\n",
       "38   29.000000  1.480000   8102.200000\n",
       "39   29.904000  2.200000  11777.800000\n",
       "40   30.144444  1.592593  11771.740741\n",
       "41   31.511111  1.407407   9653.259259\n",
       "42   30.337037  1.000000  13060.555556\n",
       "43   30.207407  1.629630  19266.888889\n",
       "44   30.844444  1.222222  15858.925926\n",
       "45   29.782759  1.482759  14829.689655\n",
       "46   31.337931  1.620690  14342.103448\n",
       "47   30.655172  1.379310  17653.482759\n",
       "48   31.924138  1.310345  14632.137931\n",
       "49   30.310714  1.500000  12695.464286\n",
       "50   31.134483  1.310345  15662.551724\n",
       "51   31.724138  1.103448  15681.862069\n",
       "52   32.937931  1.482759  18255.655172\n",
       "53   30.367857  1.250000  16020.357143\n",
       "54   31.232143  1.428571  18758.035714\n",
       "55   31.950000  0.961538  16164.038462\n",
       "56   31.596154  0.769231  15025.153846\n",
       "57   30.838462  0.615385  16446.769231\n",
       "58   32.724000  0.240000  13878.400000\n",
       "59   30.576000  1.200000  18895.280000\n",
       "60   30.326087  0.347826  21978.826087\n",
       "61   32.552174  0.739130  22024.043478\n",
       "62   32.347826  0.565217  19163.391304\n",
       "63   31.926087  0.565217  19884.478261\n",
       "64   32.981818  0.772727  23275.045455"
      ]
     },
     "execution_count": 19,
     "metadata": {},
     "output_type": "execute_result"
    }
   ],
   "source": [
    "dfplot=df.groupby(by=\"Age\").mean()\n",
    "dfplot"
   ]
  },
  {
   "cell_type": "code",
   "execution_count": 13,
   "metadata": {},
   "outputs": [
    {
     "data": {
      "text/plain": [
       "<AxesSubplot:xlabel='Age', ylabel='Charges'>"
      ]
     },
     "execution_count": 13,
     "metadata": {},
     "output_type": "execute_result"
    },
    {
     "data": {
      "image/png": "[encoded data removed]",
      "text/plain": [
       "<Figure size 432x288 with 1 Axes>"
      ]
     },
     "metadata": {
      "needs_background": "light"
     },
     "output_type": "display_data"
    }
   ],
   "source": [
    "sns.lineplot(x=\"Age\", y=\"Charges\",data=dfplot)"
   ]
  },
  {
   "cell_type": "markdown",
   "metadata": {},
   "source": [
    "*As demonstrated in the lineplot above we can see a correlation between an older age and higher charges. What I find quite interesting is the discrepancies between single years; as in years like 37-38 where the average cost goes from over 18000 to just 8000. Although, we can clearly see that the overall trend is in fact increasing.*"
   ]
  },
  {
   "cell_type": "markdown",
   "metadata": {},
   "source": [
    "---"
   ]
  },
  {
   "cell_type": "markdown",
   "metadata": {},
   "source": [
    "Now, we want to see if BMI relates to the charges the same way age does. I will use a linear regression model to portray this."
   ]
  },
  {
   "cell_type": "code",
   "execution_count": 18,
   "metadata": {},
   "outputs": [
    {
     "data": {
      "text/html": [
       "<div>\n",
       "<style scoped>\n",
       "    .dataframe tbody tr th:only-of-type {\n",
       "        vertical-align: middle;\n",
       "    }\n",
       "\n",
       "    .dataframe tbody tr th {\n",
       "        vertical-align: top;\n",
       "    }\n",
       "\n",
       "    .dataframe thead th {\n",
       "        text-align: right;\n",
       "    }\n",
       "</style>\n",
       "<table border=\"1\" class=\"dataframe\">\n",
       "  <thead>\n",
       "    <tr style=\"text-align: right;\">\n",
       "      <th></th>\n",
       "      <th>Age</th>\n",
       "      <th>BMI</th>\n",
       "      <th>Children</th>\n",
       "      <th>Charges</th>\n",
       "    </tr>\n",
       "    <tr>\n",
       "      <th>Body Shape</th>\n",
       "      <th></th>\n",
       "      <th></th>\n",
       "      <th></th>\n",
       "      <th></th>\n",
       "    </tr>\n",
       "  </thead>\n",
       "  <tbody>\n",
       "    <tr>\n",
       "      <th>Under Weight</th>\n",
       "      <td>25.866667</td>\n",
       "      <td>17.346667</td>\n",
       "      <td>1.066667</td>\n",
       "      <td>7575.866667</td>\n",
       "    </tr>\n",
       "    <tr>\n",
       "      <th>Normal Weight</th>\n",
       "      <td>36.190083</td>\n",
       "      <td>21.181818</td>\n",
       "      <td>0.983471</td>\n",
       "      <td>9773.297521</td>\n",
       "    </tr>\n",
       "    <tr>\n",
       "      <th>Over Weight</th>\n",
       "      <td>39.245968</td>\n",
       "      <td>25.116935</td>\n",
       "      <td>1.096774</td>\n",
       "      <td>11005.411290</td>\n",
       "    </tr>\n",
       "    <tr>\n",
       "      <th>Class 1 Obesity</th>\n",
       "      <td>38.333333</td>\n",
       "      <td>29.484300</td>\n",
       "      <td>1.094203</td>\n",
       "      <td>12489.173913</td>\n",
       "    </tr>\n",
       "    <tr>\n",
       "      <th>Class 3 Obesity</th>\n",
       "      <td>41.259804</td>\n",
       "      <td>40.461275</td>\n",
       "      <td>1.122549</td>\n",
       "      <td>15680.705882</td>\n",
       "    </tr>\n",
       "    <tr>\n",
       "      <th>Class 2 Obesity</th>\n",
       "      <td>40.690476</td>\n",
       "      <td>34.269940</td>\n",
       "      <td>1.119048</td>\n",
       "      <td>15953.077381</td>\n",
       "    </tr>\n",
       "  </tbody>\n",
       "</table>\n",
       "</div>"
      ],
      "text/plain": [
       "                       Age        BMI  Children       Charges\n",
       "Body Shape                                                   \n",
       "Under Weight     25.866667  17.346667  1.066667   7575.866667\n",
       "Normal Weight    36.190083  21.181818  0.983471   9773.297521\n",
       "Over Weight      39.245968  25.116935  1.096774  11005.411290\n",
       "Class 1 Obesity  38.333333  29.484300  1.094203  12489.173913\n",
       "Class 3 Obesity  41.259804  40.461275  1.122549  15680.705882\n",
       "Class 2 Obesity  40.690476  34.269940  1.119048  15953.077381"
      ]
     },
     "execution_count": 18,
     "metadata": {},
     "output_type": "execute_result"
    },
    {
     "data": {
      "image/png": "[encoded data removed]",
      "text/plain": [
       "<Figure size 360x360 with 1 Axes>"
      ]
     },
     "metadata": {
      "needs_background": "light"
     },
     "output_type": "display_data"
    }
   ],
   "source": [
    "dfplot2=df.groupby(by=\"Body Shape\").mean()\n",
    "sns.lmplot(x=\"BMI\", y=\"Charges\", data=dfplot2)\n",
    "dfplot2.sort_values(by=\"Charges\")"
   ]
  },
  {
   "cell_type": "markdown",
   "metadata": {},
   "source": [
    "**This linear regression model shows clearly that the BMI of a person is highly correlated with medical charges. It's quite interesting to see that underweight individuals actually get lower medical costs than normal weight people, as it could be expected the charges increase due to health concerns similarly to the reason they increase for overweight individuals. This, on average, is not the case as we can see.**"
   ]
  },
  {
   "cell_type": "markdown",
   "metadata": {},
   "source": [
    "---"
   ]
  },
  {
   "cell_type": "markdown",
   "metadata": {},
   "source": [
    "**Smoking Cost Correlation**"
   ]
  },
  {
   "cell_type": "code",
   "execution_count": 25,
   "metadata": {},
   "outputs": [
    {
     "data": {
      "text/plain": [
       "32049.72627737226"
      ]
     },
     "execution_count": 25,
     "metadata": {},
     "output_type": "execute_result"
    }
   ],
   "source": [
    "df[df['Smoker'] == 'Yes'].Charges.mean()"
   ]
  },
  {
   "cell_type": "code",
   "execution_count": 26,
   "metadata": {},
   "outputs": [
    {
     "data": {
      "text/plain": [
       "8433.778195488721"
      ]
     },
     "execution_count": 26,
     "metadata": {},
     "output_type": "execute_result"
    }
   ],
   "source": [
    "df[df['Smoker'] == 'No'].Charges.mean()"
   ]
  },
  {
   "cell_type": "code",
   "execution_count": 30,
   "metadata": {},
   "outputs": [
    {
     "data": {
      "text/plain": [
       "<AxesSubplot:xlabel='Age', ylabel='Charges'>"
      ]
     },
     "execution_count": 30,
     "metadata": {},
     "output_type": "execute_result"
    },
    {
     "data": {
      "image/png": "[encoded data removed]",
      "text/plain": [
       "<Figure size 432x288 with 1 Axes>"
      ]
     },
     "metadata": {
      "needs_background": "light"
     },
     "output_type": "display_data"
    }
   ],
   "source": [
    "sns.lineplot(x='Age', y='Charges', hue='Smoker', data=df)"
   ]
  },
  {
   "cell_type": "markdown",
   "metadata": {},
   "source": [
    "**After a thorough analysis we can conclude that age, BMI, and smoker are the most reliable variables that correlate with higher charges. This is quite an unsurprising result as you could expect unhealthy lifestyles to generally lead to much higher medical expenses. As for smoking, it could be explained that if a person is a smoker, they may already be leading an unhealthy lifestyle in other aspects of life as well. As we can see at the top of this page, almost every person with the top medical expenses are both obese and also smoke, which could lead us to believe that there is also a correlation between BMI and smoking.**"
   ]
  },
  {
   "cell_type": "markdown",
   "metadata": {},
   "source": [
    "---\n",
    "As we have moved along, another question that has sparked my interest is **if sex is a determinant in medical costs.** My prediction for this would be that men generally have to spend more than women just based off my knowledge of car insurance costs for men generally being higher. To do this, I think I will use a box plot so I can see several elements of each gender's charges."
   ]
  },
  {
   "cell_type": "code",
   "execution_count": 15,
   "metadata": {},
   "outputs": [
    {
     "data": {
      "text/plain": [
       "<AxesSubplot:xlabel='Sex', ylabel='Charges'>"
      ]
     },
     "execution_count": 15,
     "metadata": {},
     "output_type": "execute_result"
    },
    {
     "data": {
      "image/png": "[encoded data removed]",
      "text/plain": [
       "<Figure size 432x288 with 1 Axes>"
      ]
     },
     "metadata": {
      "needs_background": "light"
     },
     "output_type": "display_data"
    }
   ],
   "source": [
    "sns.boxplot(x='Sex', y='Charges', data=df)"
   ]
  },
  {
   "cell_type": "markdown",
   "metadata": {},
   "source": [
    "*As predicted, although the median is about the same, we can clearly see the Q3 quartile is much larger for men and the maximum also reaches ~40000 as opposed to women's ~30000. Interestingly, though, we can see that the max charge outlier is actually a woman. Altogether, it seems if you are an older overweight male that smokes, you are subject to the likes of some of the highest medical charges. This also goes for older overweight woman that smoke as well, although not quite as high. This fits very well with what we would predict the outcome to be.*"
   ]
  },
  {
   "cell_type": "markdown",
   "metadata": {},
   "source": [
    "---"
   ]
  },
  {
   "cell_type": "markdown",
   "metadata": {},
   "source": [
    "Lastly, lets add in a simple heatmap just to see the general correlations between variables"
   ]
  },
  {
   "cell_type": "code",
   "execution_count": 37,
   "metadata": {},
   "outputs": [
    {
     "data": {
      "text/plain": [
       "<AxesSubplot:>"
      ]
     },
     "execution_count": 37,
     "metadata": {},
     "output_type": "execute_result"
    },
    {
     "data": {
      "image/png": "[encoded data removed]",
      "text/plain": [
       "<Figure size 432x288 with 2 Axes>"
      ]
     },
     "metadata": {
      "needs_background": "light"
     },
     "output_type": "display_data"
    }
   ],
   "source": [
    "corr = df.corr()\n",
    "sns.heatmap(corr, annot=True)"
   ]
  },
  {
   "cell_type": "markdown",
   "metadata": {},
   "source": [
    "*As we can see, charges and age have the largest correlation as we found above, while charges and BMI come in a close second. Age and BMI have a very slight correlation.*"
   ]
  }
 ],
 "metadata": {
  "kernelspec": {
   "display_name": "Python 3",
   "language": "python",
   "name": "python3"
  },
  "language_info": {
   "codemirror_mode": {
    "name": "ipython",
    "version": 3
   },
   "file_extension": ".py",
   "mimetype": "text/x-python",
   "name": "python",
   "nbconvert_exporter": "python",
   "pygments_lexer": "ipython3",
   "version": "3.8.5"
  }
 },
 "nbformat": 4,
 "nbformat_minor": 4
}

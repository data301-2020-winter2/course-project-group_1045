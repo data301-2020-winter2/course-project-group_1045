{
 "cells": [
  {
   "cell_type": "code",
   "execution_count": 1,
   "metadata": {},
   "outputs": [
    {
     "data": {
      "text/html": [
       "<div>\n",
       "<style scoped>\n",
       "    .dataframe tbody tr th:only-of-type {\n",
       "        vertical-align: middle;\n",
       "    }\n",
       "\n",
       "    .dataframe tbody tr th {\n",
       "        vertical-align: top;\n",
       "    }\n",
       "\n",
       "    .dataframe thead th {\n",
       "        text-align: right;\n",
       "    }\n",
       "</style>\n",
       "<table border=\"1\" class=\"dataframe\">\n",
       "  <thead>\n",
       "    <tr style=\"text-align: right;\">\n",
       "      <th></th>\n",
       "      <th>Age</th>\n",
       "      <th>Sex</th>\n",
       "      <th>BMI</th>\n",
       "      <th>Children</th>\n",
       "      <th>Smoker</th>\n",
       "      <th>Region</th>\n",
       "      <th>Charges</th>\n",
       "      <th>Body Shape</th>\n",
       "    </tr>\n",
       "  </thead>\n",
       "  <tbody>\n",
       "    <tr>\n",
       "      <th>0</th>\n",
       "      <td>54</td>\n",
       "      <td>Female</td>\n",
       "      <td>47.4</td>\n",
       "      <td>0</td>\n",
       "      <td>Yes</td>\n",
       "      <td>Southeast</td>\n",
       "      <td>63770</td>\n",
       "      <td>Class 3 Obesity</td>\n",
       "    </tr>\n",
       "    <tr>\n",
       "      <th>1</th>\n",
       "      <td>45</td>\n",
       "      <td>Male</td>\n",
       "      <td>30.4</td>\n",
       "      <td>0</td>\n",
       "      <td>Yes</td>\n",
       "      <td>Southeast</td>\n",
       "      <td>62592</td>\n",
       "      <td>Class 1 Obesity</td>\n",
       "    </tr>\n",
       "    <tr>\n",
       "      <th>2</th>\n",
       "      <td>52</td>\n",
       "      <td>Male</td>\n",
       "      <td>34.5</td>\n",
       "      <td>3</td>\n",
       "      <td>Yes</td>\n",
       "      <td>Northwest</td>\n",
       "      <td>60021</td>\n",
       "      <td>Class 2 Obesity</td>\n",
       "    </tr>\n",
       "    <tr>\n",
       "      <th>3</th>\n",
       "      <td>31</td>\n",
       "      <td>Female</td>\n",
       "      <td>38.1</td>\n",
       "      <td>1</td>\n",
       "      <td>Yes</td>\n",
       "      <td>Northeast</td>\n",
       "      <td>58571</td>\n",
       "      <td>Class 3 Obesity</td>\n",
       "    </tr>\n",
       "    <tr>\n",
       "      <th>4</th>\n",
       "      <td>33</td>\n",
       "      <td>Female</td>\n",
       "      <td>35.5</td>\n",
       "      <td>0</td>\n",
       "      <td>Yes</td>\n",
       "      <td>Northwest</td>\n",
       "      <td>55135</td>\n",
       "      <td>Class 2 Obesity</td>\n",
       "    </tr>\n",
       "    <tr>\n",
       "      <th>...</th>\n",
       "      <td>...</td>\n",
       "      <td>...</td>\n",
       "      <td>...</td>\n",
       "      <td>...</td>\n",
       "      <td>...</td>\n",
       "      <td>...</td>\n",
       "      <td>...</td>\n",
       "      <td>...</td>\n",
       "    </tr>\n",
       "    <tr>\n",
       "      <th>1333</th>\n",
       "      <td>18</td>\n",
       "      <td>Male</td>\n",
       "      <td>34.1</td>\n",
       "      <td>0</td>\n",
       "      <td>No</td>\n",
       "      <td>Southeast</td>\n",
       "      <td>1137</td>\n",
       "      <td>Class 2 Obesity</td>\n",
       "    </tr>\n",
       "    <tr>\n",
       "      <th>1334</th>\n",
       "      <td>18</td>\n",
       "      <td>Male</td>\n",
       "      <td>33.7</td>\n",
       "      <td>0</td>\n",
       "      <td>No</td>\n",
       "      <td>Southeast</td>\n",
       "      <td>1136</td>\n",
       "      <td>Class 2 Obesity</td>\n",
       "    </tr>\n",
       "    <tr>\n",
       "      <th>1335</th>\n",
       "      <td>18</td>\n",
       "      <td>Male</td>\n",
       "      <td>33.3</td>\n",
       "      <td>0</td>\n",
       "      <td>No</td>\n",
       "      <td>Southeast</td>\n",
       "      <td>1135</td>\n",
       "      <td>Class 2 Obesity</td>\n",
       "    </tr>\n",
       "    <tr>\n",
       "      <th>1336</th>\n",
       "      <td>18</td>\n",
       "      <td>Male</td>\n",
       "      <td>30.1</td>\n",
       "      <td>0</td>\n",
       "      <td>No</td>\n",
       "      <td>Southeast</td>\n",
       "      <td>1131</td>\n",
       "      <td>Class 1 Obesity</td>\n",
       "    </tr>\n",
       "    <tr>\n",
       "      <th>1337</th>\n",
       "      <td>18</td>\n",
       "      <td>Male</td>\n",
       "      <td>23.2</td>\n",
       "      <td>0</td>\n",
       "      <td>No</td>\n",
       "      <td>Southeast</td>\n",
       "      <td>1121</td>\n",
       "      <td>Over Weight</td>\n",
       "    </tr>\n",
       "  </tbody>\n",
       "</table>\n",
       "<p>1338 rows × 8 columns</p>\n",
       "</div>"
      ],
      "text/plain": [
       "      Age     Sex   BMI  Children Smoker     Region  Charges       Body Shape\n",
       "0      54  Female  47.4         0    Yes  Southeast    63770  Class 3 Obesity\n",
       "1      45    Male  30.4         0    Yes  Southeast    62592  Class 1 Obesity\n",
       "2      52    Male  34.5         3    Yes  Northwest    60021  Class 2 Obesity\n",
       "3      31  Female  38.1         1    Yes  Northeast    58571  Class 3 Obesity\n",
       "4      33  Female  35.5         0    Yes  Northwest    55135  Class 2 Obesity\n",
       "...   ...     ...   ...       ...    ...        ...      ...              ...\n",
       "1333   18    Male  34.1         0     No  Southeast     1137  Class 2 Obesity\n",
       "1334   18    Male  33.7         0     No  Southeast     1136  Class 2 Obesity\n",
       "1335   18    Male  33.3         0     No  Southeast     1135  Class 2 Obesity\n",
       "1336   18    Male  30.1         0     No  Southeast     1131  Class 1 Obesity\n",
       "1337   18    Male  23.2         0     No  Southeast     1121      Over Weight\n",
       "\n",
       "[1338 rows x 8 columns]"
      ]
     },
     "execution_count": 1,
     "metadata": {},
     "output_type": "execute_result"
    }
   ],
   "source": [
    "import pandas as pd\n",
<<<<<<< HEAD
=======
    "import numpy as np\n",
>>>>>>> b3f86226ac7d7d0119039c1ad6c65aeb864c638b
    "import seaborn as sns\n",
    "from scripts import project_functions\n",
    "import matplotlib.pyplot as plt\n",
    "data = \"https://gist.githubusercontent.com/meperezcuello/82a9f1c1c473d6585e750ad2e3c05a41/raw/d42d226d0dd64e7f5395a0eec1b9190a10edbc03/Medical_Cost.csv\"\n",
    "df = project_functions.load_and_process(data)\n",
    "df"
   ]
  },
  {
   "cell_type": "markdown",
   "metadata": {},
   "source": [
    "**The following analysis will attempt to answer four research questions.** \n",
    "1. **Are there any relevant correlation between the ratio of multiple quantitative variables; such as age/bmi vs charges/children?** \n",
    "2. **Is there a region with a greater average age that also results in higher average charges?**\n",
    "3. **What is the most dominant variable in determining the costs of insurance charges?**\n",
    "4. **Does smoking largely affect medical costs?**  "
   ]
  },
  {
   "cell_type": "markdown",
   "metadata": {},
   "source": [
    "---"
   ]
  },
  {
   "cell_type": "markdown",
   "metadata": {},
   "source": [
    "**Finiding a BMI / Age Correlation:**"
   ]
  },
  {
   "cell_type": "code",
   "execution_count": 2,
   "metadata": {},
   "outputs": [],
   "source": [
    "ages = [\n",
    "    (df['Age'] >= 18) & (df['Age'] < 30),\n",
    "    (df['Age'] >= 30) & (df['Age'] < 40),\n",
    "    (df['Age'] >= 40) & (df['Age'] < 50),\n",
    "    (df['Age'] >= 50) & (df['Age'] < 65)\n",
    "]\n",
    "values = ['18 - 30', '30 - 40', '40 - 50', '50 - 65']\n",
    "#To be used in future"
   ]
  },
  {
   "cell_type": "code",
   "execution_count": 3,
   "metadata": {},
   "outputs": [
    {
     "data": {
      "text/plain": [
       "Text(0.5, 1.0, 'BMI to Age Regression Model')"
      ]
     },
     "execution_count": 3,
     "metadata": {},
     "output_type": "execute_result"
    },
    {
     "data": {
      "image/png": "iVBORw0KGgoAAAANSUhEUgAAAW4AAAF+CAYAAACidPAUAAAAOXRFWHRTb2Z0d2FyZQBNYXRwbG90bGliIHZlcnNpb24zLjMuNCwgaHR0cHM6Ly9tYXRwbG90bGliLm9yZy8QVMy6AAAACXBIWXMAAAsTAAALEwEAmpwYAACidUlEQVR4nO29eZwc1XU2/JyqXma6ezbNohFaQIMkBgNitQ02xgrgBGx/2E6wYzmJ7dch4HxJIH6NX4hfO8FLEoidYOMvrw0mi5e8YEeJA3ZYYiBYJpFsg0BCWIMEI4G20ewzvXdX1f3+qKWre+re6rnTPdM9U8/vB6Ppnq6+devWqXPPec5ziDGGAAECBAjQPFCWegABAgQIEGB+CAx3gAABAjQZAsMdIECAAE2GwHAHCBAgQJMhMNwBAgQI0GQIDHeAAAECNBkCwx0gQAOCiH6LiP5jqcdRLYjoDiL6bpV/+zQR3VDvMS1nBIZ7mYCIjhBRlohSRDRFRP9OROtd7/8jETEiuq7ic1+xXv+o9ftHiegZwfcwItq0wLHGrXE+spDjVPE9jIjS1ncdJ6K/ISK1nt9ZKzDG/okx9qu1Pi4RbbPm5V8rXj/fev3pWn9ngNojMNzLC/8PYywBYA2AUwC+VvH+QQAfsX8hohCA9wN4ddFGaOJ6AHkAv0pEa+r8Xedbc/J2AL8J4GO1/gJrHpsJYwDeQkTdrtc+AnN9BGgCBIZ7GYIxlgOwA8AbKt76IYC3ElGX9fs1APYBGKnmuES00/rnXsuL/U3r9d8joleIaJKIHiai03wO9REA37C++7cqvuMiInqeiJJE9M9E9D0i+qLr/XcT0QtENE1E/01EW6sZO2PsFQD/BeCCao4lGofltR4jotuIaATAPxCRQkS3E9GrRDRBRN8nolXW37cQ0Xet16eJ6BdEtNp676NENGx9z2Ei+i3X68+4xvMW63Mz1s+3uN57moi+QET/ZR3nP4ioRzAdBQD/BuCD1udVAB8A8E8V10L0nRuJ6CfW9/0YQE/FZy+15nSaiPYS0TbfixSgagSGexmCiGIwvcvdFW/lADwM64YF8GEA3672uIyxK6x/ns8YSzDGvkdEVwL4S5g3/hoArwF4UDC2DQC2wTQS/2SNwX4vAuAHAP4RwCoADwB4n+v9iwD8PYCbAHQDuBfAw0QU9Rs7EQ0CeBuAV/yO5TcOC/3We6cDuBHAzQDeC9OzPw3AFIC/tf72IwA6AKy3vuvjALJEFAdwD4BrGWNtAN4C4AWPsa8C8O/W33YD+BsA/17hMX8IwP8A0AcgAuBWnyn5Nkpz/2sAXgJwYh7f+X8BPAfTYH8B5Tu5tdZnv2jN0a0A/oWIen3GFKBKBIZ7eeHfiGgawCyAdwD4ksfffBvAh4moA6aR+bcFfudvAfh7xtgexlgewJ8AuIyIzuD8/YcB7GOM/RKmQTyHiC603rsUQAjAPYyxImPsXwH83PXZ3wNwL2PsZ4wxnTH2LZghl0sF49tDRGkABwA8DeD/VHEsv3EAgAHgzxhjecZYFuYD4H8zxo5Z83AHgOutMEoRpvHbZH3Xc4yxWddxziWiVsbYScbYSx7n8C4Ahxhj32GMaYyxBwAMAfh/XH/zD4yxg9ZYvg/XzsILjLH/BrCKiM6C9wOc+53Ww/eNAD5rnf9OmLs5G78N4BHG2COMMYMx9mMAzwJ4p2hMAapHYLiXF97LGOsEEAXwhwB+QkT97j9gjD0DoBfAZwD8yLrRF4LTYHrZ9vFTACYArOX8/YdhbckZYycA/AQlb+00AMdZufLZUde/TwfwSWv7PW09pNZbn+PhIgAJmDuQNwOIV3Esv3EAwJgVknKP7QeuYx0AoANYDeA7AB4H8CARnSCivyKiMGMsbY3r4wBOkplQHvQ4h7I5tvAayufYHe7KWOfsh+/AXCe/AnOHUe13ngZgyhq/+z0bpwN4f8XcXg5zRxagBggM9zKE5dX9K0zDcbnHn3wXwCcxjzCJACdg3qgATMYITO/yeOUfWjHSzQD+hIhGrPjwmwFstzzTkwDWEhG5Prbe9e+jAP6cMdbp+i9meYNcMBPfB7ALwJ9WcSy/cQBApazmUZghD/fxWhhjxy2v/XOMsTfADIe8G1aYgjH2OGPsHTCN2hCAb3qcQtkcW9gAjzmeJ74D4P+F6R1n5vGdJwF0Wdfa/Z6NowC+UzEXccbYnQscbwALgeFehiAT7wHQBdPzq8Q9MEMpOz3e88MpAAOu3/8vgP9BRBdYsea/APAzxtgRj89+BMCPYSZNL7D+OxdADMC1MA2rDuAPiShkncObXJ//JoCPE9GbrXOME9G7iKityrHfCeBGaxciOpbfOLzwDQB/TkSnAwAR9VqfAxH9ChGdZyUBZ2GGTnQiWk1E11kGMA8gZX1vJR4BsIWIPmSN5zetOfxRleftCcbYYZjhsv89n+9kjL0GM/TxOSKKENHlKA/bfBdmSOXXiEglMzm7jYjWLWS8AUoIDPfywg+JKAXTOPw5gI94xUwZY5OMsScrQgHV4g4A37K2wB9gjD0J4LMA/gWmJ3YmSslPB0TUAjOB+TXG2Ijrv8MwPb+PMMYKAH4dwO8CmIYZK/0RTKMGxtizMGPT/x/M5N8rAD5a7cAZYy/CDM18SnQsv3Fw8FWYid//IKIkzMTwm633+mGyfGZhPkh/AtO4KTB3PicATMI0ov+vx7gnYHrpn4QZhvpfAN7NGBuv9tx5YIw9Y4Ws5vudH7LObxLAn8G1e2OMHQXwHgCfhkk9PArgUwjsTc1AQSOFAI0MIvoZgG8wxv4hGEeAACaCJ2CAhgIRvZ2I+q3t+UcAbAXw2EodR4AAXmi2iq8Ayx9nwaSzJWBWdF7PGDu5gscRIMAcBKGSAAECBGgyBKGSAAECBGgyNEWo5JprrmGPPRaEFwMECLDiQF4vNoXHPT6+YNZTgAABAiwbNIXhDhAgQIAAJQSGO0CAAAGaDIHhDhAgQIAmQ2C4AwQIEKDJEBjuAAECBGgyBIY7QIAAAZoMgeEOECBAgCZDYLgDBAgQoMkQGO4AAQIEaDIEhjtAgAABmgxNYbiHRpLYft9uPD00utRDCRAgQIAlR1MY7pBCGE3m8KcPvxQY7wABAqx4NIXhBoBYJISwSrh35/BSDyVAgAABlhRNY7gBoDWs4thUZqmHESBAgABLiqbQ47aRLepY1xWr2/GfHhrFvTuHcXQqg/VdMdx0xQC2DfbV7fsCBAgQQAZN43FnChqKOsNNVwzU5fhPD43iTx9+CaPJHDpbw0FMPUCAAA2LpjDcusHQ19aCz193Tt084Ht3DiOsEmKREIgoiKkHCBCgYdEUoZKz+tvwwI2X1vU7jk5l0NkaLnstiKkHCBCgEdEUHvdiYH1XDNmiXvZavWPqAQIECCCDwHBbuOmKARR1hkxBA2Os7jH1AAECBJBFYLgtbBvsw+evOwd9bS2YyRbrHlMPECBAAFk0RYx7sbBtsC8w1AECBGh4BB53gAABAjQZAsMdIECAAE2GwHAHCBAgQJMhMNwBAgQI0GQIDHeAAAECNBkCwx0gQIAATYbAcAcIECBAkyEw3AECBAjQZAgMd4AAAQI0GYLKySoRNFkIECBAoyDwuKtA0GQhQIAAjYTAcFeBoMlCgAABGgl1DZUQ0REASQA6AI0xdgkRrQLwPQBnADgC4AOMsal6jmOhCJosBAgQoJGwGB73rzDGLmCMXWL9fjuAJxljmwE8af3e0AiaLAQIEKCRsBShkvcA+Jb1728BeO8SjGFeCJosBAgQoJFQb8PNAPwHET1HRDdar61mjJ0EAOunJzWDiG4komeJ6NmxsbE6D1OMoMlCgAABGgnEGKvfwYlOY4ydIKI+AD8G8EcAHmaMdbr+Zoox1iU6ziWXXMKeffbZuo0zQIAAARoU5PViXT1uxtgJ6+cogB8AeBOAU0S0BgCsnwGnLkCAAAHmgboZbiKKE1Gb/W8AvwpgP4CHAXzE+rOPAHioXmMIECBAgOWIetIBVwP4ARHZ3/N/GWOPEdEvAHyfiH4XwOsA3l/HMQQIECDAskPdDDdjbBjA+R6vTwC4ql7fGyBAgAA8LBfpiqByMkCAACsCy0m6IjDcAQIEWBFYTtIVgeEOECDAisDRqQxaw2rZa80qXREY7gABAqwILCfpisBwBwgQYEVgOUlXBIY7QIAAKwLLSboi6IATIECDY7lQ2BoB2wb7lsXcBR53gAANjOVEYQtQOwSGO0CABsZyorAFqB0Cwx0gQANjOVHYAtQOQYw7QNNgJcZ613fFMJrMIRYp3aqNSGFbiddmKRF43AGaAis11utHYXt6aBTb79uNy+96Ctvv270k87FSr81SIjDcAZoCKzXWK6KwNYrBXMi1aYQHTzMiCJUEaAocncqgszVc9tpKifXyKGxugwkAsUgImYKGe3cOL2qYQvba2A+esEplD57PA0GYxQeBxx2gKbCcypVrhUZJXMpem5W6i6oFAsMdoCmwnMqVa4VGeZjJXptGefA0IwLDHaApsJzKlWuFRnmYyV6bRnnwNCOCGHeApsFyKVeuFbYN9uHzMEMOx6YyWNcANDw2j7+96YoB3LpjL45PZ6EbDKpCSERD+Oy73lC38S0XBIY7QIAmRiM8zBaSZCQAYABjDGBk/h7AF4HhXiI0S8FCI42zkcYSoARZdsu9O4fR3hpGf0er89pSsGKaEUGMewnQKPxbPzTSOBtpLAHKIZtkDJKT8ggM9xKgWWhQjTTORhqLCCuxoEQ2yRgkJ+URGO4lQLN4Go00zkYaCw/LZVcw34ePLLulUVgxzYjAcC8BmsXTaKRxNtJYeGiWXYEIMg8fWTpgQPGUR5CcXALcdMUA/vThl5ApaGgNq8gW9TnCQY2QhPMb50odCw/LoSxfNtEoy25pBFZMMyLwuJcAzSAc5DfOlTwWHpphV+CHZghJBQg87iVDowsH2Wgkj6iRxuKFZtgV+KFZ9L9XOgKPu46QYRgEHk/zohl2BX4IEobNgcDjrhNkq8kCj6e2WOx8wWLvCmp9fo1YRh9gLoix+agLLA0uueQS9uyzzy71MOaF7fftnmOAMwUNfW0teODGS7mfcxt893a72Ty3RsByn8vlfn4BAMBbBSAIldQJsiGP5bDdbhQsB3qeCMv9/ALwUfdQCRGpAJ4FcJwx9m4iugPA7wEYs/7k04yxR+o9jsXGQkIejZ6EaxYsB3qeCMv9/ALwsRgx7lsAHADQ7nrtbsbYlxdy0EbhOvOwHBgGzY7lni+o1/k1+r0VoM6hEiJaB+BdAO6v5XEbievMQxDyWHosd4ZEPc7v6aFRfGrHXjz/+hRGZrJ4/vUpfGrHXt97ayVqtCwl6pqcJKIdAP4SQBuAW12hko8CmIUZQvkkY2zK47M3ArgRADZs2HDxa6+95rwnm/gLsPJge4/LlSFR6/O79is7cWg0BVUhEAGMAbrBsLkvgUf/+AruGIIkad3gmZysW6iEiN4NYJQx9hwRbXO99XUAX4DZLOMLAP4awMcqP88Yuw/AfYDJKnG/F8T2AlSL5Z4vqPX5DY+noRCgkGkviABGDMPjae5nGq1obCWgnqGStwK4joiOAHgQwJVE9F3G2CnGmM4YMwB8E8Cb5nvg5VBaHCDAckFQNLb4qJvhZoz9CWNsHWPsDAAfBPAUY+y3iWiN68/eB2D/fI+93GOX9YBsDDKIXa4sbOyOwWCAYTAwxmAYDAYzX+chcKQWH0vB4/4rInqRiPYB+BUAn5jvAYLE3/wgm8xthiRwgNri9mvPRmcsDFIAnTGQAnTGwrj92rO5nwkcqcVHUDm5AiCbzA2SwLWFLM1usel5MgnP5Z4EFqHO12dxk5MBGgeyydwgCVw7yGrXLKSDuixkEp7LPQnMw1JcHyAoeV8RCHoCLj1ky9ODsvb5YzHzMkt1fQLDvQIQ9ARcegSd0BcHi52XWarrExjuFYCgJ+DSI9j1LA4W2wNe3xXDeCqP4bEUhkZmMTyWwngqX/frE8S4VwgaqSfgStTCkNWuCTRv5ofFzstcNrAKPz8yaRUtAQXdwFiqgA+9aVVdvs9G4HEHWFSsVIphsOtZHCz2DmXX8CT62iKIqAoMBkRUBX1tEewanqzL99kIPO4VgkbxcldyeXQj7XqWKxZ7h3J0KoPueBQ9iRbnNcZY3WPcTWG4h0aS2H7f7hWxpa4H6kVZEj0MeO8FFMPmRqM4ADwsduu1pZIObooCnM4Ng+ziW76xpIpjjb5gRahHIY1IEQ4A9717dw4HRT1NikAFcC4WYU6au3XZUvJXmz0uWw/Kkih7L3pvsSmGgdaKN2TmJeCUz8VS5SCaIlRiY6m21M0el63Hdu7oVAYqAcNjKRR0AxFVQU8igmNTGTCAGw5ZzK3sUlW1NTpk5yUIc3ljKXIQTWW4l4q/Wo8Fu5ihl3okbNqiIRw8lYQBAAzQDB3HprLYsroNnbGI8EGxWAu92R+4Nmq9VmTnZbm3gmsmNE2oZCmr9mpNMVrs0Es9tnPJbAE6MzukMFidUpj5eqNUXC6HqsN6rBXZeWmU6xqgSTzubFHHWDKPGy7fuCSeUq091qXwBGvt5Y6li1CpZLSJzCzKWLq46Jl9HpaDh1iPtSI7L41yXQM0ieFuDavobYtix57j2Lquc9EXiuyClaXENQuDRVUIqlLatOmGMedvlpKztByqDusRplvIvDQDp7xZ7p+FoCkMN9A48clqDZEoASTyeJoloTbQE8eh0RSIMaeprMGAzb3xBZ1DLW+65eAh1mPXsBzmhbdO/NbecjHqTRPjBpYuPikTZ5SlxDUL5eq2awbRFQuDAGi6AQLQFQvjtmsGpc+hnrH/xq9W8Ea94srbBvvwwI2X4qe3XYkHbrx0wcZrMWmXonUiWnvNTut1o6kM91LFJ2UMkSgBJEoWNktCbdtgH750/fm4cEMX1nS04sINXfjS9ecv6Bxq/dDyu1GbgePdDFoli20QRetEtPaaxSmqBk0TKlnKDLZMnNFvi8uLFTZTQq3W51DreK4osQegKUJSQOMrNPolUGsdnhCtE9HaazQe+kLmpSk8bt1gS+ppyNABV3LzAtlzqDXt0s/7Kuo6RmZyePlUEiMzORR1vSm9r/mi1h6yaJ7r4Y2L1olo7TWStvlC56UpDPdZ/W01icPJQsYQbRvsw/UXrcVYMo8DI0mMJfO4/qK1K0LGU/Ycav3QEt2oh0aTGE8WoBkMqkLQDIbxZAGHRpO+x22GEIsItQ4ZiOa5HuEJ0ToRrb1GcooW6jg0TahkKSGThX96aBQ79hxHb1sUGyzKVbV0xmagXPlBtuFsLdkOItrbzQ8+D4Mx6Dor46EXtLmURjeahfUDLJ5Co2ieP/PQ/pqHJ/zWCW/tNRKb5tBoEjOZIhSFyhyHou7vOABNYrgbQdZ1voYoKLeWQy0fWqIb1WAGdBfVxBbJZExsuJvlusrSUWUgmuf1O+uTs6mHtvlirvWCZgAEKGSK/xEBBjFfx8FGUxjukEIN7dl4odESITJoJu+SB96NqpAChcybxPa4AYBIHD1slusqesDUozCJN89LUQQlY4AXm/8dVgnZImAYpToIAIioniquc9AUMW5gaWVdZdBIiRBZLCf6VCUiIQUqEcKqgmhYQVg1f4+ExLdEs1xXWTpqrbGQ75LJJcgm/Rab/71ldTu64xGEVILOGEIqoTsewebV7VV9vik8bhuN6NnwEJRbLx5kvKHNfW04MpHCbFZzZGnb42Gc0Z0Qfq5Zruv6rtjc82sNOecnG2qQmWuZ8ITsbk82lCVa6/UIj9nrqL8jJLWOmsbjBso9G9HTuBGy/suBHdIM3qWsN3TTFQMIqyr6O1pw1uo29He0IKyqvjdOs1zXywZWYTRZQEE3nO7jo8kCLhuQ7z5ea89TtgJSBNniL9Far0dRnN86sm3YGbf/u+cJN43H7abuiJ7GQOMUVjQ7O6QZvEtZb6gWDIPFKqOX8XJ3DU+iNxFBMlfyuNtaQtg1PImbJcdRa89TdDzZ3d76rhgOj6fmnPfGHvmdlFe7vXomWN32DYBnu/imMNzZoo4jExlct7Uf2wb7sP2+3cKKuGbI+jcDGok+xcNCwjmLuYWXxUK61fQkouhtq1338VqHzmQrIAH+9blsYBV+dngChvVULeo6skUdH3rTBuFY/Nb6YjowlQ80LzSF4QbM6smH9p7Exp6DwgsuaptVL8hmsZtBpazRdw2yHpYIImO52HTAhXSrqfW81JpGKDqeyAMWXZ9H94+AYLGEGACLn//o/hHcfPUW4Xgahf/tZd8qUfcYNxGpRPQ8Ef3I+n0VEf2YiA5ZP7uqOg5M2dBv/GRYGI9a7LisTNxvOamULTUuG1iFsVR5LHcstbBYrqyI0ULAy8vIfl895qXWlYeyFZCi6zM8noaqEFpCKlrCKlpCKlSFMDyelj5voPZqiiJ42bBKLEZy8hYAB1y/3w7gScbYZgBPWr/7w6I3Zoq68IIvdlmrTBJlOdPsFhu7hifR1xZBRFVgMCCiKuhri2DXsGdosCqIjGU9HAPRg1z2++oxL7VOzPodj2csl0JBU5bwIPM5tw3joa6hEiJaB+BdAP4cwP+0Xn4PgG3Wv78F4GkAt/kdyyaoE/lvXWS3NTLhC5m4X7PQ7PzQCOGeo1MZdMej6EnULpYru4WXxb07h1HQdEykysMaCymWqce8ALUPnckcT0R1jEdUvDKWBhnlDT429Sz8wTrfPINsUY/bvr06lvbcItU7xv0VAP8LQJvrtdWMsZMAwBg7SUSeZ05ENwK4EQDU9l7n9VUVBs8rsy+zGGQvjkzcr5mkW3lolC439ZhLkbGsR7zz4KlZzOY0KCCoRNB0hol0AZo+K/199Vpjtc7nyBzvsoFV2D08AcC8/zVdR6agY/sbN2Druk7cumMvUnkNuiUg1hkN4/Zrz5Y+Z9k8Qz1lhetmuIno3QBGGWPPEdG2+X6eMXYfgPsAILpmMwPMaElfe0tdjIbI6xEd86YrBnDrjr04Pp11FkoiGsJn3/UG4WcaiWYnc/PILuZaszLqVb4tI2LkB948Fy3RFEVx6VYYDAXrdZnvq8e8PD00ik/t2ItkToNmGBhP5vGpHXudBhq8z9SauvvIiyehEBzmCAAoZL5+89Vb8OXrz6/pg1V2hyxb1AOU5gVLQAd8K4DriOidAFoAtBPRdwGcIqI1lre9BoBv0IcAxCMqehIRpPKatHC7aBGJvJ5qxgdmbkXBCH5qA41Es1sI3UxmMdealVGvuax1SEA0z5GQgmxBh+Hq3wkGp/xetlqx1vNy12NDmMoUoSqEkKqAMWAqU8Rdjw1xj+tnoGTWwuGJDFSFEKloVH14IuOcey2vnezuRbapw5LSARljfwLgTwDA8rhvZYz9NhF9CcBHANxp/Xyo2mPmNQMbexLCk5alcvl5PSJPvb01jP6OVmcs1RaANALNbiF0s0bocgM0zlyKIJpnUfn9QnYotZ6X4fE0lApFO0ZMyNhoNOquDGR3LzddMYBbvvc8ZrNpm5mI9lZzNy4q6jk6lUGhqOOwOa8XeR17KUre7wTwDiI6BOAd1u9CMADpgo7RZB6XDaySFm4XZaMjIQVggMEYGBgMxhyvR5T1b5YekTzIjr9Rutw0C0TzLCq/b3YGUj2ouwM9cRgV96rBzNfrgWrL0yuZI/uOTWM2W84Mmc1q2HdsWnj/EIDRVMEmZHgW6C6K4WaMPc0Ye7f17wnG2FWMsc3Wz6r4SeQi0otOWpbKtbmvDT1tEYQUgm4whBRCT1sEm/vahDdPsxgi3uKSHb8sNayRupAsJtZ3xTCRzmN4LIWhkVkMj6Uwkc5jXVdMOJeN5Bhs7I6ZBtNgYIzBMEyDubFbroWf7Fq47ZpBdMXCIACaboAAdMXCuO2aQd9zkKX18aiJIqfu/mcOI6QSWsIqWsMmrzykEu5/5rDwmo+n8gAci+1po5uiclIhk1CvGwaGx9PC+J1IuN1vy8NT6xJ18fjCe85tmESjTGy/Fkms+Wh2NFJ8fzFx2cAq/PzIpBVqKIk+bX+jyfbihTVkS7/rgduvPXvejI16UHe3DfbhSxIJyHrIFYhCYOmCjkqVYIXM6IF9Hl7fm6+imQIxNp/bbmkQXbOZrf3oV6AQoCoKXv7itdy/dV8ctyGyn2b2Qve64Lz3tt+3e87Nkylo6GtrwQM3Xio85mKhMuMfUkxWjL3AeeXPsuP3m+cA5dh+327hNeBBNM8AFv0aNMJal4XffSyDy+96Cp2tYRCVKAmMMcxki5jJFpHKa9ZrpWYdiWgI++74Ne4xz/z0I9BLPHTjyJ3vUiv/pik8bgBWTAvobxPX8C+EysV7z88rbYTkmCjjP5rMCRkzMuNfCDukEQp3Fhuyok+i9SwSW6vXfPLWSjNc03okxkU7oktOj+AHL5x0Xrd95KsGeysPUzEmQirPIPKpm8ZwEwHEgLbWiO/f1qO6q9G396KMf9Tar/EYMzKQvQmWQzs0GSykIIa3nhulArdZruliF2vdu3MYq2JhTGeLMJgZJulsDWNktiA85nlru3Dg5AxmcxoM5s0ubgrDTQBi4RKPeynQCF61LOrBE5a9CerhqTeDt1ePgphGqcA16bTlxWvtrf7Fa4uNehVrXX9sGvc/cxjpgo54RMUNl2/EtsE+fOah/TitsxVrXdejml2WPc7uRBSvjqX3eP1NUxhumw6ozWRx0endSz2chsTG7hhXo6ErHq05T3ghGhq19NSvPzaNHXuON7y357drkykLb5QK3EOjScxkilAUgqoQNINhPFlAUU8u6Li1fiDXY+f89NAoduw5jt62KDZY12DHnuPYuq5T+sHqfhgAON/rb5rCcNvI68BUOrfUw1hS8BazX8afx5iR9ZZkbwK/Xog88Dz1+585jN62aMM0zhAZm33HpvHSiRmkCzpmskXsOzbty/oBxGXhix3C8zq/gmYAFWE6g5j5us+ciL6nHuGXWssViHaQN10xgE/t2IvjU9kywoBIDsP+LvthMJvT9nr9TVMZbgAYOrUwXd1mht9iFmk08G7wW3fslfaWRDeBqEOJiBbHA89TTxd0bGgQnrPo+uw7No2vPvUKFAJCiul5ffWpVwCYEqyyZeGLGcLjnZ/NTDNcuz0AiKi06E1/7XHWUtRKdA5+O0hbZImsQpRqskpLWvIeoPbwW8wyjBk/b0kGooUu2wuRt+2MR8wdxGLGeWW8r5dOzFhG20oUE6AZBu5/5jDaW8NNURbOOz8iQne88pqGsbEnIW2A65H8BuRErUTnIAqH3LtzGB2tYayZpxzG0akMVAKGx1IAcJ7X3zRVl/eVjoVU0fEqxiwFsrJqOMD0lmThJzvQk4hioDeBwf52DPQm0JOISpfY33D5Rsxkizg0msTQyKwZb80W6xbnlZU/SBd0KBVTahdjNFJHJxGOTmWg6UZZ9aemG4iohEiovGQ/ElJ9K5lFEFWaiiBae7LyAX5yBTJV3AD/nkxEVByfzkEzWV+ebIymM9yXbayq05kUZMthFwuyi1lkbLasbkd3PIKQStAZQ0g1vafNq9ulx1mPDjK8EuGt6zor1BnhzZ+qEWTlD+IRtUyGFDCTx/GI2lAdnURwGxS7HuD4dA49iSi3fFv2el82sAqjyfLWa6NJ/9ZrorW3kIcI7xxEpeuiz4nuSaeYR7CQmypUctnGLjxw01vqcuxm4KLKxof9Eii8xKUs6tVBxivcs/2+3VLqjLIQbeFF8gd2jFszDEdL2mBwqGP16Ogkgkyst8yg2EaFobxqsOIzstfbL6TGG78fk0OG5SFbgOfH8ebdk8m8hrWdLRhPFZDn2OimMdztLSFcdmaP83utqUK11omuB2QXsztmZn+uJxHBsanMgmhqPIiaS9SaCbHYRSgiwyA6N/v8Kvm+dudxmfyEH2S0a0Tf4zYo9jrqb49iLJUvYzSNW79/2WqwwOM5i3B0KoNoSIE7RR4NKb7SzdXoEfHeq6aV2Hw1VUQcb966tdfYQG8CLx6fedHr2E1huAnlWfit6zpr7h03ShWaCKKyadFiTlh9+FSisi3upl5TBlNUxjzfjic2RM0lasmEWOwiFD+Kl+jcbr56i2Oo6w1ZXXrRdXEbFBuZgoZ0Po+iFT5RicAMYDpTxJ2Pmj3CeTxn0XeJ1qxo/A/ceKnU7sXvYSazZmU53u6HDw/NYbiJEFIUJwt/zmkdNfeO/fjFjVCdt74rxhUqEi3mara4XrjrsSFMpgswzNAxdMNAMV0QdjwBIN1cwg9e16BeRSii6y1D8fI7Zq0hWg9+Tsp8C36KOjPDdy5JBWYwHJ4Qt+gSnTsRwTAYdGKOQBNZa9Zv/DK7l3t3yrUuFKGaEKVfX1Nes+CmSk7aWXhedtsvWyuCKBkiSiQsJi4bWIWxVPkYx1LmGEWJF3uL69YaX9vZ4isf8MpoCraciW3jdWa+LkI9NKR51wAArr9oLcaSeRwYSWIsmcf1F61d8APi1h178fzRKZyazeH5o1O4dcdex6B1tIaxua8Ng/3t2NzXho7WsC8zwd69PP/6FEZmsnj+9Sl8yjpmPSCbIBat9W2Dfbh4QweOTGSw/8QsjkxkcPGGDqiVdJkqxyHCaDIHUlB6KjKAFGAsmVsQ04ZnGw6emrWE11iZENuhU7PCz4kgOndRUrMaNIXHbTCGbNGkUyWiIbRFQzg0moLqKho5Pp3D5j7/Eu57njjoGWcUxY9FBRKL6XXvGp5EX1tkzq5g1/BkVUmZyi1unyvk4gXNrqSw70sCwFyvc1CP8AXPe7nz0QPIFI15b8VFuPPRA5jOFD23/qmCLhVSk+nXuBD4bcV5OQiRl7jv2DQe3jdi8tFDBIMBD+8bQVdrCFOZIoqGDrtHlwJgy+oEOmMRqUpZ04snRMIl31IzDBQsr1RmlyWyDUXd7KSjM5eHT0BBZ9I5Ab9dfDWVtFiCZsE1h8GAc9a0YSpTNF9wPY0BM57qt/B41Wui+DEDuMm9xcTRqQy641H0JOaO0a+hg8xCVwnQGObIS/pRvP1uLJmQAW97fGg0hXVdrTV9qB6eyHC3/hdt6JJ6KMn0a1wI/GLxvByEKAxx/zMzAGPQmbku7K5UyZzm7MxgHVcHcO25/QAgxYQSCaPJJgtFtgEAdMMVSWSlLvKy4R4RC+yeJw5WXUnrhaYy3ATgpZNJtLeG0RULYSJdkkvsjoeRLuhIFcQLj1e9ds5pHdwbcjpT4Hr4iwlZRgMgppTxDOmm3gQOnkrBumecEPmmXvF5i8ayEO/F69wB1DwsI0KjCDvZED0Ec0UdBd2wqIcGctZ83btzGCHVXMs6I2sXUOKi89bY8ekJGKzCuAHQdQbVojja60Qh4JEXT6IrHkVbVMVsTkPRulfbq6iUFTVQBuQS3H6xcdXKV9get1Ll53gQ7eLnW0lbiaYw3AqZHT4MZiBd0HFaRwtGZnIIK4rzNJ7KaNjUG0VXPMpdeCdmJrmthEQ3pJ0d9/LwFxMLaeggYo7wDKmXcFUiGhK2qvL7PlnvhXfuAz3xmpe8D/TEcWg0BWLlSoube+PS3t7G7hgOjaZQ1PUy47a5z2T21FpD485HDyBbNMrukWzRwJ2PHsB4usDVp/ny9edz19jPj0xaVs01COsWUBVCRCndXLph4PBEBmOpPNIFvWwc6YLuxI55qFd9AS+5nynMmolmwzolK6YeUUk69CfaxYvamnk5kZVoquSkXWk2hyVh/0okrDQTVa+JkgWpgm4m91zVhWs7W5zecYuFbYN9NU/E2eqAIzM5vHwqiZGZHIq67hjSL19/Pi5c34X+9hZcuL7L4eYCtU/Y+J271/W57ZrBmlcW+jWj3Tbo3ThWhHeet8Zz7b3zvDXCZKgIoipOd7iHiKAoBIXMMJBbn4ZAZviGTN0a0X0Qs+LNjJX+80PRiqG4xwHAt4nHQpN3XhAl93sTUbAKeR5mAD2JqG/16j1PHMTWOx7HmZ9+BFvveBz3PHEQgLjiMh5RUdQZ8pqOXFFHXjMfTJWVtDw0hcfNGINmGE6l2fefO+ZZCJDKa0KP6IbLN3Kr1wD/hq3zTe7VGiJeqOyC9tNSlvHUZUIe8/GQ3bf8Qgp6RAUXoma0Mt7xruFJrG6Pem6bH3nxJDcZKjru0akM8kUNh8fTZSFDP4GwsErIFr3V/NyoNK3rumIYGkmWvU4w4866wTx3KGOpvLCJhwi15PsD4uS+/VBRFXLGafZ9JOEaE8WqRTvkh144xm1rVg0dsDkMN0yvzM0AERlS3gW3ix941Ws8LHZcU0Z9TnaBy6oD1jrksRBGgGxxRDUPnkrjJfvAEm2bR5N5bjJUCMPAWKpY+pUBY6ki1nUownBPZyziETIw1fxE58eYGS5TyWXcGENvPIy8zsxCLd1MhNo7lHt3DmNoZAYzWc15uHS0hrC5r63KK+UN2QR3RC1/YERUxSEg8JxBgL/G7n/mMFhFwtZ+fd8dv8Y1+PfuFLc1c32f543RFIb7vLUdeNbVFXkhhlRUvSZb8lrLwoqFaP/KoFrvqxKyY5Etga71Q8uPYSCqOhQVashoaIwm8/MePwCMpYvc17/4vq245XvPYzarOTH19taQE+65dcde6NbF1hmDZvhraKQKuicpgBQFX3rfuZ73x75j0/jZ4QknTGQwYCar+YpFiSD78BRVY9q5MZ4zyLuuyZxW9nC3759kTmzwj05lhG3N7O/bNTwxfOTOd80xbE1huCuxkO0xD7Ilr7UWp5LV/pXFltXtXO9LhPVdMU9ParC/A4BYJ+Pbu18rizN+e/drvuGeWj+0RMez4/5eXYEOnprFVKYIS4gQmq4jW9Sh6Ya0hsZdjw3h5ZEkioZeViV4Vr/4GuQ5uyL79bCqIBpWnMRy2OVtytABExGVSwrg3R+P7h9x0lBuZtKj+0dw89VbpJwe2SpHUQWx6PoIdyGc7/IL/4vu5WXH43ZDNv5V6zBErT1BWfU5Wchm7/vbI9g1XEqeGNZN3N8e8WU7yMRza/3QEh1PFPfPFPSyJKNNH0sXdKFBEWlo7Ds2jZdPJR1vzTbeNg9aBnaFp5eIPwCuJIFoXqYzVnfyeUgnDI+nPRknw+Npaafn4KlZzOY0KKCyKkdNFzNVknnNc8fglxvbft9u4e5MBvNRDvRCUxjuoZEktt+3e8FJJ78whEyRjcjQ1rp7ej12GrLHfHJobA7vlazXR2YL3IUuKm4RodZ5BtHxbn7weW7cX7OsNtn/sz1vgwm9cXuuvebVTlx6Jc1EXGcFJo/a63XRembgd9UROQefeWi/MA48X8g6PW6mCmBdH4P5MlVEOwZAHNaodYhSdN95KQdWoikMd0ihqkvX/VTReB6RqIxeBJ6hTURDQm9ioZ27vZYob04AcRxeZvdid3Rx3ytuLZnFXOi1Pp4o7p/XCCGFmcUm1gNLtYy8yBsXQVQRC/Cv3Vn9bZ4sj7P628AY843nztc5WL9z/uyqjd0xvDKWBhnlSdJNPTHpdSKqqhRBVmxN5ExNpArIFPU51PZYBeXVC34stqb3uIHqS9d3DU9yjbNoi9WTMJ+68y2y4RnasMKkkl+iG0e2Ge3WdZ1CvWQZREMKMgXd8TwZA4oMiEUU4UJPWA9IL7aDH2TZI367nsorLIr721W0YbWcNjbQE8crY97iW5ohXkOiwhDRNb/tmsEy2V27rP22awZx12ND5sHnGc8VzbPMrseriKszGsbt156Ne3cOS4W//KoqeeDpifvtGETnve/YNL7y5KGyB7ZCwMffvvDwpYjHTYtd/SeDljWb2Zm/9zX0JCJWVrqIdEFzigBsQZi4VYBgG2fHMIChoyWEgm6KVYVc8TbNMNAaVtHeGoZKKLuo9vf99LYrq+oc7Ta09nanrDsIY5jJFi0mQfmCtT2XB268lDsP2+/bzf3cSydmuOd2WkeL4325aVybeuN47BNvF84977wv/8sncGxmLhtiXUcUX3zfVsfYuBf65687BwA8jY2t8V0vho7XOGTf443/9779LIoeRjqsEA79xTu543Rzgd31BbdcucmhvvLWitfa2zbYh8vveqqq9SzLfZ/P53ifEV2fanfVXp/jQXT/uOey2nvcfk+0061mXkTft2t44rAXq6RuhpuIWgDsBBCF6dnvYIz9GRHdAeD3AIxZf/ppxtgjomO1rNnMTv/YPY6xOTiaKmkmuOKMCpnqgTwDFgkpTtLJMeoGQ0fMlOnkXVT7CTifhSJaJPYW0cuo//S2K7nzcPldT3E/d2Imh5ACKFQ6b4MZ0Awz1GRycMsTRESEl794Lff7RDfIJ//5BUymi3O26d3xMJ797K8KF7rsjTxfiK4BMLeNVTUGUTT+N/zpY2W7EHtdxiIqfvn5a4Tj5KnIya4VPyPVKODNpehh5majzPcBIvOwrrVDYY9F5MC44BnHEYZKiOh/it5njP2N4O08gCsZYykiCgN4hogetd67mzH2ZdGxywcC50YgMktnwZijKeAarzD+tbmvDS+PzM4hvW/ua/PN8qZyxTmfEyVR/I4ns0UUhSBmskVH+taGXc7Po435QZQ8Kupm6X/lA9JOEInCGrz3FpOhI0rQyY6/NawgV7Ti3Na6VAhOqbhonLwYtyybpl5FY7U2YKLCFp4I081Xb5EKm4lqCPyYI7XuuLVQmV+/GLd0eRMzXXk76Be2/pNz75npNdrxqLBiSjBWIqyI41+2zKKqEMLWU3wmZxYDiC7qzQ8+j9mcVnp+MGAyU8RLJ2a4Q/ZLpsnInoqkOkXNaB/dPyIVVxYZPtkEEcDfWsp2ZlnMxrEi9LW1YCpddOaDLGej10caoR7NletRNLaYDbVFIkyyEElGiFg49ahYXqjMr9BwM8Y+JzUqC0SkAngOwCYAf8sY+xkRXQvgD4nowwCeBfBJxtiU6DgtYRUDvQlnqzeRKsBU/C2HQoqQl3zvzmGuzOJWwUV1FktF6thvEfG8AtkEpPW1nm2zROX8W9d1lrZlFSXJIvgZPlGCiGcYRNoO1RYluOfl+mPT+Pbu1zwTr35Gr9YeKWPM5H5X5BJkE9z2nMmyaWpdNFYPA8ZDPKJyd5CyEI1fxCprxH60fqGSe0TvM8ZENFMwxnQAFxBRJ4AfENG5AL4O4Aswbc4XAPw1gI95fPeNAG4EgNau1WWKXB/71i88vy+n6b78SF7naFG1nGElnCrvP8OHLSBDwfMrxeYVVWwb7OOW828bFIsm8VCN4fN6QIoMg2gLfM8HL6y6KMGel6//5FVuo9rHPvF2aY1yGfBKwqt5wFczllplo2QNcK1rFkTwE4STgWj8zgPBg1VWj4plEU0SWHjJ+8cB7AfwfQAnwAmU+4ExNk1ETwO4xh3bJqJvAvgR5zP3AbgPAKJrNrOxZN4JXfAcGPt1nlEUaRWIquXaWkKYzc2l5rS18KdvIWJEsnFZWa62rEaLTKWZaAu8bbAPF79wDA/vG3GoY9dt7ecWJZjG3UBEJW5Bj0ysWhaJiIqT09myCsjJdBGb+6K+n621dyyCrAcpW7MgAz9BONniNh7t8uhUZi5VMBFFuqDj9mtrny8Q0SRrUfK+BsD7AfwmAA3A9wD8i19oAwCIqBdA0TLarQCuBnAXEa1hjNl6hu+D+WAQojWsorct6oQubN2DOd/pP6bSH1ZwW0UqeVcN9pZJMNq4arCX+12yXo1sXFb2BpfVaAH4xsbPszGpnC5dDovKec8TBz17Gm7sOcidF79rvpid1dMFHTorX166K6Qmq8shG56Qjf3zIFOzsJC55u0g/dYs77y9WomNpQr40JtWAcP8vqwLCVfxsG3Q1LqvxvHxgl+MewLANwB8g4jWAtgO4CUiuo0x9h2fsa0B8C0rzq0A+D5j7EdE9B0iugCm7T0C4KZqTtS9GFrCKjLFudvPFp9qJREBX1QtNzJbEEowekE20SYbl20UrRVA7Nlccnpkrg4xMx+CfmEUrwa367pacXIm55l4XYi3KsPNHU3mEVIwp6pyNJmvyw5MBFnBK/uzvB2YVwL/+88dk44B1/phBvAZICI9btmipIVgPo5PJaqqnCSii2Aa7XcAeBRmwlEIxtg+ABd6vP471XynG7mijuGxlJPljUXNia3kEMeiYsPt1xCBVy1XrQSje/GJOjz73cQy4QleKGEhWiuyEHk2j7x4cs6OiQAcOJn0ZRJk8hpyRZNOVNQZFGj48KWn4zu7X+NqQSdzhTkKhvZDSSaB6qdop1C5Cp9umOOt1w6MB9H3iQSv/JLjXsqOPfEIxlN5zwc1IKcdJPswE8laiGiX9fCqZbHgknci+hyAdwM4AOBBAH/CGJNTlFkAGIBMQcexqSw29yUQj6iYShfmNCftiUeEx5FNtol417zFd/GGDvz8SMGzw7NoccmGJ2Rv8HokXkSezavjaeeauYtUXh1PC5kEn/m3F5EplnNAM0UD33/2KDfx+kcP7EEyr5cdayqjYf/xaekE6tZ1ndzP1UOXQ9Y79vs+meT4VDpfdt9pOkNRK4AZDNM5zfNB7acdJHqYyYR6RLIWm1e3C9e6rFdd63Ccm/YL4Dyvv/Ej3X4WQAeA8wH8JYA9RLSPiF4kon3SI5MAQyleaBfhREIKWsIKIiGlVJgjwLZBfh+7bYP8fo43XcHvOedefO6+f08OjaE3EUFEVWAws9NGbyKCXcOTOHhq1lpMrGxx+TVQBfh9HkVjFMHvc7J9JbvjUQz0JjDY346B3gS641Ecm8pAs1Wp7Etl/dR0hhsu3whNZ8gVTVW9XFF3Xj8+kzP/nEr/AcDxmRy2DXr3gLQNfeVnMkWDe93sBKpSsZRsz1/0uduvPRudsTBIMWmApACdMTPhJOo/KIJozdpGcTSZKzOKTw+NSn+fqCfoK2NpVF4+3app6GsrX+t9beZaF82X6LtE53bTFQOYzRZx6FQSB07O4NCpJGazRWctA949LmXvERFE41wI8kUdBbNYxTNm4hcqkefe1AkjMzms7miRlpcUZe9F/RznG6JIF3R0xcKe1EM/WUrZraXMVk+WU+63veeFiU7O5EzRpYrsckghbF3XifbWEGazpevY3hrC1nWdvkwi7/dsesfc1/0SqDzPX/Q5UcIJkCu6Kht3xfmJPFbZwh1RfuKY6QHOqWdgADcEIWJCiTxnv3NL5YrIaeaMaIYBypndgESFYfUIh9QjeXzXY0PIFA2EVQV5zch6fdYvOfla5WtE1ANggi2ROlXRYL6xahFkGymIQhReRioaUnB8OudJ6M8Wde7iWsjWUnarJ9o287jt883e22GiqXQehyytGTtkohJwZm8c9+4cRk8iig2rShWd9vnF7IR0xaoTyWcmoiGk81qZZrgCIB4NCY3G+y9ehbufOARN10thHQA3/MpGT9Gnarbbsg9IgJ9s83uIyBgpUX7i2dcmTafDnhSX950t6vNmQt10xYBnwvmz73oDPvPQfm4l42f+7UVktfKFkNUYPvNvLwplLUTXRxayOv6ia15ZVekFvxj3pQDuhMkl/AKA7wDoAaAQ0YcZY4/N8zxrAllvYiH9HOdrpDpbQibF0IPQLyrLFxln2UUiCxG3/emhUa5U7K7hSW6Fqhd/NREN4fZrzxberB9/+8C85TPtIg6VyoWKbrh8oxOr5q0hnufv9zkRZOLKADCbLWA2V0qwtlv5EL/8hIyREuUnzrQaEDusGZgP3TXtUScEMd8KVQLg1UJNVMk4NJL0GjqOT+fwgUvWc2UtgNrHo0W1ISL4XXM/+IVK/j8An4YZ534KwLWMsd1ENAjgAQCLbrgJ/mEBHpVLNFky5dY2xagtqmI2p6HourFEVXQ2od8rESpih/gtkmpkIuezYEXcdlELslRB53Y0F4UT2h7j36x+BRle8PuMqICI5/mLGBmyEDkNU5k8UvlSUtZgwHRWw/7jU/ja9ou52jWA3HoQMS++8J5zcfMDe5AqlDj48YiKL75vK/YJGkCL5pnXQm1OmMvl+PC2+gwQOg1b61DMRGQqbxYMVkaU8Mu3ia65O8nNg5/hDjHG/sMa4OcZY7sBgDE25DewesH+Vp43IaJyyfZzFBn8g6dmkS7oZe2Q0gUdusEwlWEIq+Vtkjb3iQn963fy48Oinn+y223Rgg2rhHTBTBY6i1Ixue2iFmQXbejinoPo2oluVoBfkCGC6DMiHm01O5taxQpFTsPxac8QJ9IFozQG21BQaUyy68HPi4+EVUQM5uyWImEV+yy9GL8G0JXz5VclzKtkFBXgHZ3KcJ2GetQsjKXyzpeTK65mvy7DjLFDSKm8BujeNtrPcLv5V5UraEli3FYZKNervv+Zw2CMwc0cU8j0us45rUOqZZPIC+YlGh1wjBDPaIjiw99/7hgiKpXR4mJhBam85rv1klmwvYkoptLFsteYAfQkokjm+eEZ0TmIkCro3Ju1HuDdVG3RUFlLsKKuIzOZxWB/W11K0EWx3l3DE56fMZh/Q2BefgLgrwdRGJL3fSK9GED+IXFkoryjUEE3cEZ3AswwPJt4rO2ICo95dCqDfFHD4fF02S64UIXsMW+tFDQDilLeDFkzDBQ0Y47m9ngyj0/t2IsvWQJovGu+bbAPH770dNz/zGHkioYn88+PDng+Ec0SURLAVuvf9u+e/MJ6w2Cm0b77iUNI5sw4aTKn4e4nDuGeJw4iacUCKz+TzGm+dCAerUxErYqEFIABBmNgYDDsTrEwPYaQStCZqV29trOlrPzZi2Znb/W8aIS5gubJZc4WNCG1SvSeCDadyk27tGlWAz1xk7qnWdQ9zaTuDfTEhecgwvquGEKqUkYjDKnKgjjlPIhoXKOz2TleCQMwOpt1OPgjMzm8fCqJkZkcCppedWySh/JYr4stydnYEompe4dGkxhPFqBZRsHOTxwaTQo/J6If8j6XLRrO7steMwoBhyfKvdxKOqDofrxsYBVGk4UyL340WcBlA6vwxfdtRVtUdVg/CgFtUTNkI7zHGcNYqujYB4MBY6mir3qjaK3YjqRhmCqQttMWUcnR3GaAqbmNkua26Jq7GW4A9nqNyY9VIq+hWGPY3puiEL7+k1fLbiz735Wvo+JvZDPtbkJ8ZSzx3p3DnonGdF53jJANm/nilyTlbfUmM0WP0Zk82jf7FBeI3uN5EyKJgPdfvA4vn0qWCSoRAdee24/vP3eMq8LoN8+1FvMRsYh4zTEms9600smsJizwkMW9O4e5sd61HS04Np2b85m1HS1C7/KlEzPc/IRXt6dqkpoivRiDMWhaKfatEKAS+TJfeBr49+4cRtRjd7lreBI3X70FX9t+0byriyet3WMFm9F5XXR9eLsXUX/SPa9PcTW3RdccKN8RecFf9b4BQADCigKAsLE7hiynsCJb9N/y2JhvnCeZKyKnma3AcpqBpMUbvemKAWi6GfNjzPxpF43Mt2jHTpIen87gpRMzePH4DF46MYPj0+YC5OUqDCYupBG9Z7NDnj86hVOzOTx/dAq37tjrFHHwPOBdw5NY3R5FPKIirBLiERWr26NWsjaE49O5Mm/v+HQOiag4Mify9mQg8pReOjGDyUzRYUe4m2OIOOOiAg/A3A1uveNxnPnpR7D1jsdxzxMHfccp8oC/+N7z0F7hXbZHVXzxvecJr6vIE6x1sVZ3IgLNQNlDXDOAvraocLf69NAovrP7NRQ0AwTzofKd3a/h6aFRvHh8ynN3uf/4FAD+7lj0Xl43EFZK9oLIbL6S9+rK4oJo93LTFQOIhFT0d7TgrNVt6O9oQSSkOnNpMIa8ZhaT5TWTAux3zb3eq0RTGG4AZVVoTl6Olf4DzBuwvSU0RzHOfl22yukzP9jnkP1t5DSGz/zALB71ShBtXdcp3HJquoHhsRSGRmYxPJaCphs4NpVBf3sEUxmtbDs3ldHQ3x6B6oqjux9YqkK+VaG892x2CDMwJz4pusFF1ZFlSUb7P8B3SwqIb8j5wvaU3GGNoq471ZGwrps72Zsu6IhyuvhEQwo3NBYJKU5i3Ox5WkqM+xlvkXHbNtiHe7ZfhDdv7Mb6rla8eWM37tl+ke913bK6Hd3xSFmorjsewebV7dIPSN7neuIRWM8JxyFSLcaJaA2JQgmZgrcxTXNerwbxiAoQIRpS0RJWEQ2Zv/s1Z3CzqwhketBkvi6ay954GJoBp2bBsB5ovfGw8Jp7vVeJqkSmlhphVcGF67ucLU93IoLx1Fxlvu5EBB++9HR85clDZV4Tkcndlc0qH5/NO8exwZj5uihBxDM8Ilrfk0NjDufYhkLAk0NjuG5rP37wwsk5HuF1W/sBVMfbrTSdInaIH/tFlARazCQjDyIeuqg5Rm9bxDP51RsPY313gsvB9+uTyMNClOl479nH9KKc+h1TBK/Pfeah/VjX1Tqno7ytsc5bQzd99zluKEG0u5TFDZdvxFeePISiXlqHCpWaM/DCaiJ2FW9OAKCtNQJlJg9GpVAiMfP1alVAeWgKw31Wf1tZZ+qeeASTqUIZ5UWxXt+6rtPSfNad2GU8omLruk5p+UnR1llGPEikC57Ka3M62BsMSOU13P3BiwDsmdNowHydDz9qmAh+hkHUDFmmsrWWKGgGDDDoOivT/i5ohrg5hqKgNxGew8EnRdwa73e//axQ3VC2YYUMH3vbIL8phd8xRZK2PCXMaq63123Ei42LKH9+4+dBZBtE94iIXSUaSzKvYf2quQ+0VF7zveb2e6+OpT2pWE1huIdGkth+327nxFIFHd0eN5YtAtTX3lLmCVZTZAPwL0AsoiJT0OeU+sYiqm/hznyTfnYH+zIRJlYy9nd/8CLc/UHveZIpPBqwquHm20jYb+HVOskoAzPn4P4dThb/6rP7uM0xRmYLOHBypuz1os6wqU9MGxVpnMg2rJDlY+87No2H9p50PFTdYHho70ls7DkoVDjcd2waf/PEIef7Z3Oa8zvvc9dftBbf2f2aZ/JebBAjZYlXe+31t0cwmsw7eQM3wioJq3ZFxltkGwBwFTvtXIaquHqJGsy3fsLWfXEjrxnY2JOwcmEGdINBZ+a/U3kNE6k8dMYwuKYd3/jti9ERC3veNLREkiPzQueGQXbxLd9AUWf4/HXn4M5HDzihBndT1k29caQKOjpbw2WVS4wxzGSLTpFNWKUyg/L5684BAO57+45Ne5Zb//FVm7F1XadnCfeHLz0dO/Yc9zye7ZFWLqC+tha8eHyqrFLORltUwYufu5Y7R+7CI3d59y1XbnJ2Grw5cXNN7ZvuSz43gR/sh9ZSahtvveNxR3jM6boOU8PknNM6PDUtzupvR397xNOov++CNcLdjega7Bqe5BYluXeTldh+327uWgE8GjZbx9x7dBqZig5BDKa2y/nrO7nHfO7IJAoe8YiIQrj4jFWen4uoCsZS+Tn3gF0hy/uuqXQeB0+lnDSIvQHdsjqBsVQek+niHN327ngYPYko9/5/7BNv587l5Xc9BZUwxwM2mDkmmy3kODBg6GgJoSUS4n5uXVcMp2aziEVC5litY/Ukorjk9C58Y+fwnHP46GWn46z+dnz1qUMIKYSWsIJc0YBmMNxy5Wa8ySrPb2sJo7ct6kkIbYrkZK6ol/FlS2WmBvKagYJhgDHzCbi+K4bxVL4s8TeeypeKbDiJBBHT4+art+CPr9qM9pYQVIXQ3hLCH1+12dk+evExH3nxpBR/9by1XehsDZWxCDpbQzh3bZdwjtzxVYUU66f5ul/y60vXn48LN3RhTUcrLtzQtWCj7cZSugVhtXQTMpSMd0QlpznGOad14Ly1HTjntA6c1tmKY1MZPDk0BlWxSpdhbd8VM88gws1Xb8EtV25Ca1iFZpghs1uu3ISbr94iZCaIIMvVdjpEVSRfM0VdmBz3MtoAUDAYdyzD42l0WEJOg/3t2NzXhg6LWikaf6qgIxFVymrUElEF6YKOLavbPVlLm1e3l+VlKnnjIiQiqsl2cskpH5/OIR5RHbaQm3HCGENeM7CmvQVEhA2rYjizN4H1q2JgMEMlw+OmRENBM1DUDBR1AyFrfT3+y1OeRImfHBrHg784ipBiOnUE82dIITz4i6PCc7DRFKESAOV8WSInUwvAjAPDLDO99tx+/OzwhOMdF3WzQORDb9oAYH7tgtyxal7pNI+PeXgig819ibK/rVa57U8ffgndiei8wgyi7jELSX7JoB7VhTIwvbpiKbxFZmyyt60FnbEIN8R1YmYSIYWgUGlCDWZUlVzlrROR7gsgVxot4mq72++5QSQWcBKBNxYAXOMsrGScTGO2Ync5mzfQ3sqEuYSbvvscNzbunsvXJ9NY1xXDx956Bt66udfcARkMmsudUIDSg09ncPv4BJPt8hsXrcNXnzoE3WBl3vFvXrIeD/7iKCbS+bLzzxUN9Le34qWTM1AVm8pswjAMHJ3KYJXFxDk6lUdRNyVcu2JhjMyaBeo/H57EPz93DM+9PuXZ5b0pPG4Gk2upW5rVmbxetrWy78tMXsej+0fM1yxvyf756P4R4Xes74phIl3uqU+k82Xxb69KR55HAYDr5QJ82psfVYs3DttrcHNGizpDPKKahQ6cJhH1gGj3sphgjDnlyC0hBRHFrPxkTCyqH4+oKGjMlN+1/itozJc2JoKIV+3XNECGq722o8Wag3LK7NqOFiFdM6xU+ojW+BWT/z2TLeLQaBJDI7MmaydbxMZu/i5XNH5e4ctkulh2H0xnCuhJRPHZd52NNw90o8fijVfS7FbFI/iXZ4/i0z940WxxGFFxYjqLO374S/zohRMlXZEKTKQL6GoNe3rHXa1hvGlgFW65cjO641Ekcxq641EnpPHBN65HKq/hyGQaw+MpHJlMI5XX8ME3rjevDTMf2nnrP90w5zlEhJGZPAqaAcbM2PfJmTxyRR2f+cF+fO5HL+GXI7OAZJf3hoJ5gRgKFp2n0qEo6DqGx9MAypwsAHBe50Gkr+GXgPDyKAZ64kgX9JrKf4rGUdmJ3r43rxrs9W0SIYJM09yF9LGspeymSPtEtOs5Z00bdh2eKjsWA3DOmjapcQAQVtiJksciNULRMW+6YsBR8rNj+ImIWbjzmYf2c+elvUXFRGYu26a9xXxolYcFTfbH2Wva8PC+EU8N78p5XtvZihvethGXntnt2fAbMMM5x6YyGOhN4C9+/bwy/v/JmSyiqgIFmMMqaw0p+M7u11HQdKQLuuPJxiMqHvzFUUtXpNwD1i1dEVjx8rArAWlYin+pnIbTe2L4o6s2IVPQkCnoyBR0PPriSRw4mUTW6tTELH5/MqfhGztfNZPjlXRTAIYBp6NTpRGbzmr4b44+jRtNZbgB88kUUhQwZpTFLQmAqijQDaNsspziHENM3N81PIn2FhUz2ZI8a4elQ7xreJKbceaFIT77rkEAcvKfMs0eAHA70dv6Grwelzz4Nc3lQbaPZa1DLH40Nd4D8qWTSU/D8NJJcTxaBFs2wV1hqxv+Ur6icYrCCdsG+3DD2wY8y8nX7+SzHfa8PuV57qmCwQ0LPnFgFL2JcFmStK0lhJ8cHMcH3rgBEynTkyzoBnJFA+PJAk5MZ+fUKzjfZ1E2eUgXdfR3RDGVKZaFGTJFHZMZ80Fm77aLmoEpzUCuaEoSGAwwdMOplmUAirqB49NZEJET67ZxeCKD6/72v7hjqYRtvI/4xNu9oCoEleC0ZVQVwjRH5qLpDLduMGzpS+DQaAqhCnrOQE8cr01koBlzs+kR1fQYeEbx0GgSqZxeJsOayuk4NJoEY4yrT+EXr56vwRFRnfxkMNtaQmay1nXzHJvKlGXM56OvUa+CEh5qLbspO450QUc4xI9xy+4KGOApwSr7oBOtPdEuy3t3mcdvXrIez702CVVBmdqdbiX/j0yk0W43CAHAwJw8SltLqCzJqCqE49Nm78i7Hh9CuqDBMBimMgXc9Xgat/3aIOwWf5WIhhQcHk8jnbe9W/NnuqAjk9dgGECqoEFVzF6zBmMYswryygyv658pQcWlSTucXxqdLMcoaTVJ1gzT41YIaAmrIDIbnLs05wCYD0FFAdZ2xnB0MgNVLffw162Ko70ljOPTaaTNRteeYn5NZ7gB4LZrBksUNt30wLtiYdx2zSBu3bEXWavCyQYBiEVVoVH0Sx4B/B6RNuZz6Xk3/52PHvDspH3noweEN/hUOs+txpzJFoXj54VDRAlPEWTFvBYSYqnlOBbCx+ZBVGG7EHEt2xtnjMGwHJhcUcf/efpV5IoaxpMlLzgeDeFrT70CBobuuGl0bI+1s9X0kNd1xfDaRBqo4PWfviqG9pbwnERctqAjrJjxWsVKOBU0AyMzeXQnIvjSfwxhOlN0Csp0jWFKK+KOH77EvV+yRQO/+61nfc99voiEFGi6AYXIkY8AgHPWtOOVMctTJ4tZYuUFVne0oC0awmyuiFhEtcreTb2i7ngUs7kiXptIl3G8c0Udp3fHcXQqAzAGpSI5CbI9a6DsaQcAjOHC9R3Yd3zaXn+e5ZNNabhtCpvXDWlWOZUMn03n6k1EhUZRWNZKJNUjkncjiz5jd9J2MbigM+DVsTS+ee3Z3Bvclor0qsYUNVAVhUNEBqyaayQ6//kyKEQQecAyjJkbLt/I7TkpuyvwU8n7HGOuOLDJhLhk4yrM5kwdGYOZhRoGY84O02AMhmFymCvrMQ6emjULuixtjaJueruabiASVtHeEkJbNGwewwrdvDaRwjXnrsHx6QzyLm2ekEKIR0PIFDWMzOZMowb7e0vfaVQ4rmMuWQqG8vdyVWhgu787FlGt/8x/54o6jk1lkS3qaG8J45LTu3D2mjbc89QrZsLPdQwC0BpW8KOb34afD0/iwV8cxchsFv3trfjgG9fjTQOrsP2bu5GIqqXwS8h0Bg3GMJMrWhpIpRuhJaxgZDZb6nnqYYDXd7bitckMYFQ8BLtakS7qWN1eGe6JIFPU8fzRGayKhZEp6NAMQ6qRQsPBflLybkibzx1Rysn5jDG8Ou4yitbTTmfAq+NpbOpNCKljMj0ieTeySCZSt4N+FbEezWAmO4Qjg+mZcLKqMUUNVO3GEzoDNFbisd7/zGGnZ6NmGHN6NspC9NASyefan6000IBcdx/e8bYN9gm7zfNkE45OpqHphjVHpUSVbrE9+ttbMJYqeauMAdmiWahxeDyNU7N55IoGiobJHZ7KFDE6Wy7nyhhDTjOQyWtO4jtT0JHJm/+2X0vndaTyOnQDIGKlilGYyS/kNJziRMke8OARawbDi8dnhHPpBXvN2N62s6St+ysWUaESIVM0O0aFFEJHawgMhG/+ziVojaimqNc88M2fDkM3DBDcHH7mCIe9aWCVU+Dixpr2Vkyk81jvchKyRR19cbOsnUf5Ozmb5RrgP75qC77wo5eQKRqOAxCPKPj428/EAxaN0N0eL1fU0JNowYmZLLoTUfQpCn55cvZFr/NsGsNt21M/b0/U61HTK4yidVAzI2xSxyqrsWzqmEyPSB5E4kchlTw7aYcs2hgvbilKxNkxTa8GqruHJ8q1za1fkjkNN1+9BYfHU3h434jZ4cTSu6imfZhMgvWmKwa4ceCnh0bx+9991unufWwqixden8QZPQlhJ3rR+P704ZcQUoCOlhBOzWbx2Yf24zPa2fi7Z46gJaygqCnOMaMhBV976hX0tUUxkcqjJWyOn4EhW9DRk2jB65MZx6M7OZvFGsuju+j0Trzz3H585clDOF7UwMzdMqIhFZdsWIUvPTaEnYfM4h6FCC+fSuLPfvgSVre3QCFTMS+ZK3om8vxQyeWu9HzdUKxQIQMsHnvp99awiqvP7kPM8X5DiEdUtEZUfPWJQzg5k5sTyz2j2zRKr02krWKZUiz39G4zlnt4PGXefzDj0wWNYWNPHB2xsOdcehldN87oTuDYVLqCVRLCuq65Eg5khT2IgN968wbc/cRB5DQdLWEV+aIOnTF89C2ng4jwV4+/jIJuoCVsevuMmY7GP/z3EYylchjoiTp2JVvQ0NvWgt62KFoiKjQrjKUqhJZICH3tLbjlqs24dcdejCbzZdWmn7tyk1NtGgl5UzOBZjLcZHIqz+pvBwB84kFvsaW2aAgnprJg1jkzABOpIs7qb3GMZOXCDSkkTR0TqeSJ2h3x4uln9sRx0OqkbY9TIeDMnriv0ROJPvEaqCoKWboLpflgzIyHPz00iuden8EZ3THnmM+9PoOnh0arMoq8RhG8B50oDnxwZNYx2s48awwHRpIIEZzquaJuYGw2j7xmYDJdcEIBjgdsJZG++uQhk0+rmPz3kKKgqOv4+tPDeG0ybUrdWt+jGQayxQIyBR3vvWAtfrjvJCirQVWAgmZ61d2JKP7gn/bg1bGU87mxZB4vHJv2niQGaAUd//rCce48vj7pH9snoCyEEIua/x46OTsnF0EAetuiIACnknM5zWesiiFd1OeEBRhMittNbz/Tcwy6rs95FhgA0rkCPvGOQTM5mdegWw//9tYwbnzbAJ44MIIXjpV2NQymQ9HXFsae16Zwz1OHnDU0lcnja//5Cv5X5Cy8dXOPE2u2JVbJup8+/vYBfPGRA2hrDaPVMrJFneEPrzwTG1bFzEpL2zFw4fTuOHrbotx8iF0JWvlea0TFnz78EnKa7twjmgH8/tvPxL07h9EZi+C0zpIX775fyTrpyg737nuZh6Yw3K1hFRt74o4h+sSDe8o4y7rBrN/3IJm1VAOtlWRndZPZAjb1moJK7vi3SsCZvXF0xaNS1DGewbxsYBXXeIVVQrZoeh7uCreISnjneWsw5BL5AUwP+Z3nrRGqG4oeLp95aD+3q048Ynaor/TM4hFVOp7L+9w3fvIq1nW2zuEeJ1pCOH1VHK9ZrIWiSxlKVQhHxlOY4NCiAJQ8dPPMwGAmzZ49MlliJORdoYWChpdPJRFSCFOZAgwrhmwwhuPTWU/PlgFI5XV892evew7hhaPT/PF5DxlkMXYMK5bhDvtGQ4SwqqCjNYLZbAF5zazWCyuEWFTFaR0x/NX1WxENK44D4MYN//gLvDaZMQ2cE19lSERUHJ3OIqxgTtLs6HQW56zpKIUFrMPmiwbWdLQiElIcL1WxDCAImMpqUFCq5bHTLFNZDdddeBqOT2fwj/99xNE6//Clp+P6S9bhzx/5pTMPbi2Z3YenkMwbMBjDeKpY5mw8+IujeM+Fa7nzes15a3DwVHJOOPHqN/T7XhMZWWS/+47XdFrUAcfN3W9qdcBsUcdYMu/Ecz/2rV94/t1De08irCoIKVZVFSuVw46li/ji+7Z6CkLdfu3ZAIA/emDPHMlHO77KA+/CiYyeqHDikRdPeupxP/LiSd/kHW/hiT6XiBaQdDXGtXFaRwtenzQ1KOyuHWBm/8jXJ9Nm0szyFoyKn0cm0mjzoI0dmUjj2nP6HSoakVWskSzgV89ejUxBx0Q6j7CqOIm3vKajNSxeppphesVuZIsGbvzOc8LPySDhkSiLRVXEIyH85OAYWqy+nLZhU8iMh4LMZh4qKY7HZ3uyjDGcSpbry+c1hs5WFZmChmxBBymEkGpKPSSzGk4gi9aIWvIgrZiuopiGNasZ6O9owWS6gKK1xlbFo8hrxpziNBsE4I+u3IQ7fvgSNMNALBKyqn8Jt1y1mZskJiKEVLOOwoZuGCAi/Hx4Eg/tPYm+9hbHsfnBCydw4YYuZIoGIhzapWyLuIUUm4mOKaPsKNLd92NQuY7pSS1qCsNNMG/wb+9+DVvXdfqKrCtkeis2dOum3jbY5yiWVT4d73nioGO07WOlCzr2HZuu+oK7hyXqKG2rFHrFzH/vO896Njt+ddxklXz2of1grFj2uf/xljOQKWiO4WQwE6tmhxZg+5vW467HXoZmFNASKm0fr79oLf726VdKOg8uz6ygGehNtMylfxV19CZaMJ7M478tsZyTyRy6YxFsO6sPp3fHEFEVnJjOIFc0QxNmtRohGg5hx57jUMgMz7hP87s/F4nriHsC+iEaUhCLqGXshHzRwBEr9hpRFadK7tfe0I9/feEYDKP8ehJMoamH//Ct3O85OZ3znK8N3a0gAMemM0jlStoUbS0hrO+K48Xj057Hm8oUEQ0pZkGZFQe2ja2mG2W7w0qc0R3H4fGU5XGb/2kGw8aeBNpbw3h5JAmNGWUC/2f1J3DVG1ZDVWheFMqBnjheHkmiaOhzjidyYOIR1VJv1Ms87kQ0VNYiDuBTcCvht0uU4eDL7jxFuvuyDCobTWG4GUyvJVc0qXsiDPTEcfCUuYjsla7AlIoE+F7p/c8chqoQoi6voZpiE5sbnswVoRsMY8kcPvnPswBjZaXDBjM7Sp/WruCCDZ341K9uwbd2vYYT01ms6WjF71y6AYNr2udUbtko6gwbumP4g22b5tCZNq1OYGRmbkNZG+eu7cAf/Yr5uZMzGfS1teLdW9egKxHBVKaIjtYwUnnNFNshQiyi4lQyj962ljJ9B5OCBkymC3jH3TtLDBgAE6kCDo6mvL4eumHxi7X5GWCVCG0tIXTGwpjKFDDj0cR3VSyEqUw5/9ZgwG9ceBp++7IzEIuoCKnezIQ51LA3rcdlZ3Zjz+tTOFLBzdUNM2nWFYuYxlBBWZyVCPiDXzkT//N7z+NYocQiaIuq+MJ7zsW+Y9MO7dLOtUyki/jtN/fgudenPMdX0BkiofIHHPP4lxe8imzsMnQA3EbPblSbC7323H5h42ieZymSafjpKxNI5zXkKu5jP5aJyJOV5eDL1heIdPdvu2ZQyN23HzC7hic8RabqZriJqAXATgBR63t2MMb+jIhWAfgegDMAHAHwAcaY98r1wNApb+Ng41ffsBpD7q0/MxMlVw72IpkrOmXy9h8YloeaymsIKSjjwxIYUnkNJ2eyJW/W/TkGfP6HL2EqXbC2xgTD6tnIcwwmM0VMpgtI502Wi24lzHJFQ5iMAICpTAFru1rx8W0DyBZ0pAsaZvNFPLz3hIsiVqKEZQul19IFDZm8KZh0KlnAiye86V0GYyiaFVv42RFPfRthAY7NRLDnFdZNHFYJbdEwFIWQL5qxTtMAEjTdQFcsgk+/62wcGknih3tPYiSZxWkdsTImwV/8+y/x1Mtjzg7myrN6MZ4uQlEySOc1h3+biIZweCKL9ati5nVxMSRsI0sE/PrF63D9Jetcr5lu0Wff/YY5GuUd8TD+9zvfgK54hOu1HTg5i3SxxCFmMFlO+45NY9fwJDdBLIJCClSaK+9AJDZgu4Yn0dcWmaPVbX/f6vao53tbfYyb17nbjaO9jifyLEdmC0hEVaTypfWUiKoYmS049Rg2jZEs491rdZ3hQfR9sp6zrHcsaqTgV/VqXwMsgchUHsCVjLEUEYUBPENEjwL4dQBPMsbuJKLbAdwO4Lb5HLhSS8H9+k8Ojjv0P7fIzH+9MonfuNhbHQwwn6B5TS9jVxjMfD0rMFRHp7NgDNBYaStrH0IF4P6kCvPC/d1PD2PHnqNOkcOp2Tz2n5jBOae1C8/7N76+S/j+QmAbNvv8N/bE0RJSLflPM7ZtG+N3nbsGj7w0gkTU5OGWDCJDylJu5DET/viqLWUC8mbMVcGNVwxgIpXHV588iLTlsY4lC3h1dBZ3XX8+rjirD/d86CLnu2zP9W1/9Z/ot/SSne9iDKPJHLoTUem2X7wCL5HXdv8zh52CL7eRvf+Zw2hvDXMTxCrB80GvEqziKZpDp6vG8+yOR9GTmPt9DOb1dCOiKk7STKSH43Xu6XwRazpaPb/LDgt6eZa37tiLfNFANFSSmcgXDRwaTaInHplLZWTljpUXROwqGequ3zEB/jq6bGCVlMR05TXwQt0MNzNn2H7chK3/GID3ANhmvf4tAE9jnoY7HKKyyi736ydns4iElDKvMBJSHJ1bHj5w8Tp8a/drYHpJy9hgplf3wtFppPMassVydkI6rzkcVOe8UdpiVpp7+/d/+vlcZoJmMOw95u0F89ASUhxebTxisjEmUgXkdR2JSAjnru3Apr7EnPhu3MXFjUVUfP/nr+Of9xxHtqijNaTiAxevw++85Qz8z+/tRUQlzOY0pGDqv7S3hPDLk0mcsSqOiXQeUUsIHjALCNZ2xkAEjKfyiEXcsV4Np6+K49cvXofetii++dNhHJ/OlhnFy+98skxTggFIFgz8xSMH8M6tp3mW5vu1jhO1/RK1v6r2pnIbtrJ+obDWEMzd3DmndeDAyRnM5jRnx9DeEsLZazqQiIbKd4kwj7FldZuw+AvgyxXY3l6lh7+xJ4HpTAEHTyVdFcRmFeKW1W2+dE2vcy/qpgSu1zUQeZYiWuxYKl92L9k/xznSrDZERWoi6q5oLqv1jivXmCMxjXK2zaP7R4ThV69rUIm6xriJSAXwHIBNAP6WMfYzIlrNGDsJAIyxk0TkuUchohsB3AgAantv2XvqXPaT+ToYogrh6HSpGEAzDORm8uiKhfHtXUcsw1uqNHPCCXlTYCqvlWelfvjiCH74oljLez6wLyIPb9vUg1+8NomiZlikfVO05nfefDou2bgKrREViUgIrRG1TG/h58OTZVVa+WIBvzg8gWvO6RcWLfx8eBKPHxhFdyJiJi41HY8fOIXz13fhlbFk2TaWweTZvjqWxFd/80Lc8aNfQjcYWsOKpQ9D+KMrNwEwPbO8i9uqG8DvbzsTkZCCq96wGle9YfWcsbj7D1a+fs8TB3G3RZNkMAuE7n7iEN57wRocn85y+es8VcSpdB6TqYJjHDSdoWDlUERJLJFhm9Mv1BosEaG/PYJdw+U5j+mshv72iFMxWtk+7rZrBp259Epki+QKRN7e9589Wq6gCdPjT+aKWL8qzm98wDn3SEhxNLfn06hDRItN5rQ594l93UUQsUpEnnO1SpiVYxI9yIfHzTxJpWCXn8S0lzNSiboabsaYDuACIuoE8AMiOncen70PwH0AEF2z2ZmvsELIeXjbAJDRgNc9bn4GM7b8j//92rzG70Zr2CpuCKuIRUtVY//9ygTXEMfCCjLFkgfZFlUw0NOGvYLy4c+95xyungIPRISvPPEy0sVybzVdNPDVJw/i0fOucChqdmWoHW749L++6HjfABANmxS07z171GyQ7IF0QceVb1gNRcA+kBF3EuHrP3nVM0n32Eun8PXfutjzuz75zy9wKWXT2WJZuM024K+MpapqAMvzZJN5fc4WPxZWnHZo5nYfTpz9yaEx3P3Bi7ihGdFc3vzg81y5grWdrWXSDnbJ+aP7RzCWKkAlzImbj6UK+OJ7zxMWcnkZ9c19bc778+lSL6LF7uZoUi+EVSLSNr/5wee5Spii5sq1FkYDGqgAhzE2TURPA7gGwCkiWmN522sAjM7nWEWZul8L563tKAsXtIZVk5frMsh22KE1oiIeMV9rDZd7t2782ld2zgmX2PfK2q7WOXHeU0k++wMAwqqCt53Vi22DfU5fPSeOrAD/dWgcf/9fR3B8unQT/MrZq3HKEvSprIAcSebRGYtwv+/YdJZbJOBHuyydFx/zuVq83QjB5GV7IVvxsHJDRCnj3f86E9/8fmyNoZEZzGRL4ZCO1hAG+zvw8yPidmii4g/ee5VeqVuuwM/bM9uWeVNmRQ9dnlHnjdFPm4a3m9jFMdx+62ke/OgyiJQwRetBFKqLWzxuqhCZ2tRTvVzvohfgEFEvgKJltFsBXA3gLgAPA/gIgDutnw9Ve8yQQnjjGaswPJZCKl90yo1DCqE1omB1WyuGx1MAKzUSBUpSil/94AW1Pk2sag3hVKqc5sYAhMhMRNoX1DY+61fFMDLLj9OtX8UvlX96aBR/8egQwiqhKxbBWCqPP/vhL81iDs6K9snlCIsE3NtXN4jENyQgJ/y0rqsVR6fm5iJ4r9vgfZdIFZHy/IeE6ObfNQwuW8M2RKvic/uFvnRiRlppsdbY2B0TGhSecZORyfXzgHnxaDP8Nvdh3RoWJ2VlGSAiJUzRehAlXwHMKfjrjIadgj8R/Apw5ie9NT+sAfCfRLQPwC8A/Jgx9iOYBvsdRHQIwDus34UgmPEwxhhOzebwiau3IBJSnS0eYNKmPvbWjdjQFXO2gHYfPoMB6ztbBd/Ah13MEw2b4YS2ljA6YxF0x6PobYuiMxYtm0QiMwa/prMVAJldnxVCwVKO+4Ntm4TfJ+o/KOrlWCYv6crqOK9zQESmF2oYyGkGCoZhxRxLfQsrsbajRTgW2Z6TX3jPuehoDZVpgHW0hvCF95zL3fEA4H7X5r429LRFELL0WEIKoactgs194hZk67ti3H6hNltjoDeBwf52DPQm0B2PlmQHOP1Cb7h8o9V6z4DBDOvnwpQWFc6cKAphY3fMaY7rvg82dsdw+7VnozMWBimmkBopQGeseoPi1SuVB1GXd3c8+uz+NvS2RbFjz3FTUOztZ5YxtOx//z5HL8WGqMelCKLrI1oP2wb5/Vztgr8L13ehv70FF67vcpLfC0U9WSX7AFzo8foEgKvmezzFKsc66o4d2UUXrvV74xVnzpFSjIUV3HjFmVCI8IvDk3jgF6/j5EwOp3W04iNvOR1XbOktiwEriln8obq8dh7SRR3rV7WWkex7EhEYDPj8defMO84r8lBET/6Pv30Adz9xaE7I5uNvFy/Y0WQOpJiVlgDMZJoCjCVz+PL7LxD2LRR145GJ+20b7MPvvnVjmQf2u281PbDNvS7xLQt2uIJnGEQVqrwYqq36Jorz8mLc9jl4XWM7wTXf/p0ihBRypAbccxJSCLdfezbX2xNVENcasrzqB2681FGmNKtvq1OmFLFKAH68XXR9bG6713rwK7GX0YOvBk1ROVmJB39xFLphoKhZ3GmDwQgb2LHnGD76ljNQ6YgoZBYcHBlP42v/+QrCKqE7HsF0toAv/8dBtLeEnbL3+d5YIjlV3kUTxXJFxlmUGNu6rhNtUXWOkd26rlM4/qLOoBAh4tqCaoaBgm7qf59zWrvTONdgwDmntVdFrRK9JwoFfXv3ayjohhM/tmUOvAxRIhpCTzyC8VTec05EW/u2lpBVbl0ucJSIhoQ3/75j08IYtwg3X71FylDz5mugxxRNC6vlFZ4DPXFsG+zD2zZ1O4bPYMDbNnU767FeBqUSIo11kQiTnzKlzBoCxCG8res6cc5pHc4x7c+I1sP2+3bXtN1etWgaw82sxbepJ4ZXRmfn8H1nsjpeHpnF3/7nK8hqzFIyMxdzVmP4q8dfRmcswp1kd0nyfBrjyrSd6o6HMZ6eW/7dHQ8LPRRRYuzencPobW/B6a7PVaPRIIoDf+LBPXO6ne86PIVPPLjH97xFHgrv5rnz0QOYzhSdeDuzqlDvfPQAHvvE2z29RPd18zKkPAN1w+Ub8ZUnDzneKrMedjdcvlHoRYkqEm/mXnF/iAwRb75ELfzueeKg03k9FDLFqR7eN4KNPQdx89VbpJwUWTDAU2O9LRqyCrxKuvTHp3PY3CfWOAH4BvjORw9waZ5d8ajUMQHgO7tfQ0EzQDB55t+xHgb1YJVUA/KrRGoEtKzZzM644R4koiF8+frz8T/+8RdcjzUSUsAY81Qq622LorM1PKfKbiZbxEy2iGxRd+hAgOl5toZV7Lvj14Tjs286L3K+1814zd0/wcunUnPCGmetTuB2qz1ZWKUyo2eHXeYUY7SGcEZ3wllAXudmhwx4x/TqjnNWfzt+fmTSU6tbVQiv/sU7uectmpPt9+2e82Cydyh7Xp+Cps8t7w6pCl7+4rWec7/9vt3cOXngxkuF18wrDHTP9os8aW/2GEXz/NPbrhSuE9FYvHjcNkWQN5YHbryUO89b73icu57tzkb2w87ubHTLlZtqbrxF18fdJ9XZMTCGTb1xpAo6d57XCXaevzgyAa+uaCEF6O9ohUrwDGuu83CY7HmuLFgimPNmF0iJrk8N4BmrbQqPm8Esyf3wpadj22AflxLk9wgSebMnZiaFjXFFpdP7jk3jpRMzSBd0zGSL2GeJ5/Oe4KmCjg0ecXG7aYOoPRmvjFk2llhZqGEWhhRx2cAqLiXLFpeSobCJPBTdMMoLQ6x/k+FNBbSPx5sTEUQ7FL9w1UJU3bxw12NDmMoUoSqEkKqAMVMZ8K7HhpDMazWnt93/zGEuZ7nWhlvU7aklrHKbl4jmWST56jS5qnA2dCYvszoyk/NsefjKaArf/PAl0o2eF4KmMNwElG1PRBBRnUTbe9PwamDMJU1JQDwSEnaH54VYTutoQSSkCLmfXnHxatqTeS1mP40GnsTso/sLjhCUE+tlZqGGarExKmEzPGQkMkXnMJEuQCuYpfV2IoABiIT4zBhR3F80Rj/jzNuF+PXFlMHweNrRigGsa0EMw+NpXLShq+b0NpFRrzVEZe2b+9q494FoPd/84PPQDQYdrCw/UdAZQkQoMpdrbC3fELmIBm5CA/OXWT02nS19DqXjakzcB9YPMvePjXrSAWsGBiCvm62onG7mHIioTiK61lWDvdANONshg5lypFcN9jqxV2ZgTuzV7b0opFg/zZ6IPLaDiLIkotKJPic6NxgGxlLFMq96LFUEswoyQiqhJaSiNayiJaQipBKGx9O4bqsp82lX+9ke8HVb+4W0RRFE52A2j4XznYBJrYwJuM6XDazCmOWxuWPclw2sEo5RRPHqb49gMlM+X5OZIvrbI8569IrZ1gN+9LZ7njiIrXc8jjM//Qi23vE47nniIAAxvS0eUT01321O+dNDo9h+325cftdT2H7fbt9rKoKlcFdGSwTMsnbZ9Wwzadz3qq3euakv4bmGNvUlkMxrWBULo6gbZmNm3cCqmClpLBqL+3ju+0C16hm8kqF+cyZ7/9hoCo8bgLk9gbk9EcGP6sTbWo7MFtDZGpojAjQyW8DhiQwYYygyVhZ7PTyRgWYwT++FAVLCOyKanV8BBO/cJi0d60pPdtJD39qNuz94EUZm/rssQXnZxi7c/cGLpLPponPY3NfGjYfyIEoW7hqeFPbo5HnOdvkzUM44eXJoDCOzBW5fTFkWgWiXKJqvavQ1eAnIrz71CjTDKItx24lZd7x9PJnHp3bsxZck+cdbVrd7VpNuXt0uvZ6JyFM+gIhw2zWDTu7Cfi8eUXHbNYO467EhHJrJIayWiAuTmSI290WFY9nUm8BBKydlO/IEYFNvQphQly1Mqmaem8dwu7YnfvCKOVdTKNDRGjY7TVsGoKM17Bt7jVvtnSq3pK1hOeEd2fZkAF/dLK8ZJSlca+wKzMrOzb1xrtF4emgUx2fyOLM37pzD8Zk8nh4arUk2vfJK2sZUt7wz3WDQfOQzj05loFvqdOYuyTz3avjkPM85XdDnSK2qViihHiwCEedaNF+ysWqRUb/2Kzu58XYZw20zoVSFELYeErM5HZcNiFk/IjhSt6q31C0ppUpixszfzX/bL6Lsp/06byw8Kurt156Nm777nCNNAVhhLoPh8IR4PSx0HTWN4XZvTzgaUwBQtcpXJUSJC1VR5vQ0BMwee3aGvtJ7+f23n4mt6zrnXeQgQy/0O++ISshW7I0NAK2quFBDpK7n94CRobcBfGPK+1yuqGM8VerXaDBgNFXA+q5W34Qtz3OOqgoyRb1MnrXIzEIu2fMWYdtgHz586emmIdV1tLoS8aL5Shd0KGDIayXv0n7A+N0HPE65qWXCUNRLu0uF4Ktox4OogYQsfdJzZ2ZJ3d712BDSeb2MDpzO67jrsSGkCjo3GQqI9dlrXbC0IlqXAXD62G3ua8OBkST372S9EFHiwqgMCFowDIabr97iVHgVddPwuSu85ntxZfQgAPF59ySinlofPYmocFGK1PW+/P4LhFxtXjL33p3DSOYKc7bONpc2pJjfpcNsoxZSSqXyRb38IdLeGioz2m6cnM4KdSREIalV8TAy0/ocD3dVPCx8sMq2xhIlpO/dOYzZbGFOCM/vASN7HxjM7DZvh9XMJiEAEXPGOp8H09GpDLeBhCxE4lSOByxI9PJIATL67HYRFLHyHevm3rjvOSwkyd0UhpsARNWSRvFH/9G7yzsgpkGJIOoPpyiEEOwu5iUvRFEITw+N4plXJhBWCARTD+OZVyacJINM1lhm+yg677BKc6o1CUC2Qjay0lCJ1PVED5hr7v4JN+53fDqLpEvj22DAVEbD/uPTiIQUk8lh2MUTOnKaDk03RcK8aGU8aEz8EBRVfh6dyqA3EcZEusQq6Y6bnGLRMf3i/jyjd+/OYc+H0r07h/Hi8Smk8qXdnq3jvf/4FFbFI9wHzMnZvNR9EFLI9LYrFkTIWuvzfTAtZIci8oBlnBvRQ9cvVs0bi6gIyu/8FpLkbgrDbVLCFPyOtX0UQUSDAvgTKaLoxSNmCy+bZWQn9zZ2x7gc3M8+tB9ENG/vyw+88YvOO+vSbXEnJzNFQ3gziqoq3ahccGZ8j6FolG+3D09kTHqYB1J5Ha2GyeRxb3p0A8gUDIRU8qSV+YH3ELzpCrN11vHpbFnc8rPveoNT9NLfUdq22mtBdMyjUxlhCfct33ses1lTivX4VBa/PDmDr/7mhTg0msRUuuDkIDRDR84yKpmC93ylCwaiYcPzgZzTDGEHdRFC7gVU8bpfNaPXupTdoQDi8nTeNZBN9N703efMnIprNm0Cgt8DS6bNnShUV419aAo6IKHE4/ajy9xw+Ubohpmssv/TDeZkzHkUHBEd6J3nrfGkT73zvDVlHFxCqR/isamsUCFPhnIlGr+I/lV0G0vXeRQ1Q0g/FKnricZiGOZ2250g0gyLEsY5NwagqLvG6bIfZu9Qb1oZD97mx+NvLBoZWOkzsgpziYiK49M5aDory5PEIyo++9B+p0u9/T0zWQ2ffWg/MnndTIS6kmY6AzJ5XaiJXtDMB1prWHX+C6mEgmbgqsFeT8rcVYO93ge0kOc8WPOawVX6OzSa5K4FEa2vHgqTfsqH2wa91Q2LmjFnbTL43yOiY4o+J1JNrAZN4XHb2wg7uy1qrrp1XScSEW+xJdnuGPfuHEZ/h3cXax4Y+Kp1srHQatXUKmPtf/v0q3NCPaoV6qlGa9grligaSzikoGhvyV0uYTikQCvM3drbf+YVkrLHyeuWMprMexq3Vh+d63t3DqO9NYx+D49HtBZEEOVJjk1VFHFY7x2bysLu21t5GgVdF2qii1p/HTiZdJLlNhQCDpw080O8nVvR68aCGTbjhT0KmoGOVn6ISKaK1o8RJJtI5IYuKrcuzkTLM0DqWYHbFIbb9mTtJEM0pCJTnBuri4ZU6VJmNyqvn6ismrc1s/sw8hgNvJimX6KHN36Rmpo9xrBSrgmxsTuGrniUu4D8+Oa8sEBrWEFe081YteXJqoqZNOuOR7jNEuyOIV7j5CWkWsIqckV9joHibfmrmUtALs8gypOIdhqqooCxuRotqqKgPx7GsZm5jTfWtkexvjvBbf215/UpM9Fbodljb/15XG3ROHlhD1sDhzeXPPgZL5km0KIHhV9oRnacMp+TZY/ZaIpQSSVaIwpUpbwCVVWAWEQRbkFE1XKyVXa8rdnvv/1M7nb70GgS48kCNCu2aifaDo3y2TKAuRDGU3kMj6UwNDKL4bEUxlP5OXokldsy0fbxpisGMJMt4tBoEkMjs6a2RLZYxjf32ga2RUNmWMB1Dsenc0hEQ9iyuh3tLSEnrkoWE2Lz6na8/+J1c8IYBOD9F6/D7deebfLfraYORcNAa1gRVr22hhWoCiGqKmgJKYiq5u8RXkdp11zyrqkfeGGu9V0xFPTyUENBN7CuKwa7c0tl9V1rWMFAT9zKhyiIhhWrQIQw0BPHF9+3FW1R1cldKAS0RVV88X1bcdMVA4iEVPR3tOCs1W3o72hBJKT63vx2XobBFPBy72ajnHmLqsS9BltWt0vNpSgkddMVA5jNFnHoVBIHTs7g0KkkZq11KRtGEX0uEQ1BVcz5JWueVcXMCciGzvwqQ3kNGIDSGjvj9n/3PKmmMNyVHTy2rG5HbyKKWES1LoSK3kQUm1e3Y31XDBPpcuM2kc47TzlRqXlB0zEyk8PLp5IYmcmhoOlVlZp/+NLTEVEVGKwkhnXz1Vtw8YYOHJnIYP+JWRyZyODiDR3YNthXpt9g7yZA4CbubIjKu0UPLHv7yOvEwYv1+l0TWJ9zd9xhjOGygVWYzemmQQ2ZLBC76GLX8CT6O6KIW9cuHlHR3xF1wk4tYRURVUFIMeeyxXVOXg+RLavb0R2PIKSS2cbO0lrfvLpdOH7Zm1H0gL9sYBVGk+XXZzRpXh9RR5fbrhlEVywMAqDpZsLRZiZsG+zD17ZfhDdv7Mb6rla8eWM3vrb9ohK7ghM/HuiJW3FtBgYGwyoTH+iJc/Myw+Np9LZFPc/bft3rGsjOpWj8AJAv6ijoBjTDnMu89XCQjQ+LPmd2IjLXasRaswA5uiOiccqcn6j7j3uNAfCMxzZFqIQBKBpmptxOMvBir15C96PJAra/cZVw6y/iLIs+x+PgHh5P4aG9J50tvG4wPLT3JDb2HBTGJkUQlXfLVlyKYr2ihZkq6OiKheZQ5tIFHbuGJ9EWVTGb01B0cY93DU8Kw04yYxFxekWQpZT5MSvaW1TMZEvn3WFdH1vik1eCLuryLgrb8N4T0dRu+u5z/BMk4lIhZedSRInjjf+ux4aQKRpl5emZooG7HhvC+q7YvKURAHHoopp6jIWwwSpDUH7ryP2eF5rCcBPKvS/RQrl357CwUot3AUScZTe8LoBXdaFttN0UPIMB39g5jPPXdXJjkyIcncogopZvkiKqUlXTUtExebFqERIRFSMzOYSV0o01ldGwqTeKg6dmTf646710QcehU7PYvLpdyJ+ebxJI1gDbn53vzSiar2xRRyqnlxmbVE53QmCiDjiischynXkPAxFlrisexeHxFFrDqnN+qqL4hj1EcWVRYQsPIsXEP9jWXyZFXNRN9tj2N24QjtGPmvjTVyYQVskKkxB+atVjyBpsUUx9vonZSjSF4W4Jq9i8uq3qTLWoUkumE4zoAvC0gZ1kmXtvzIBMQZf2EkVl+bIGTHRMEUQMiqJuhrbcspsEU3ZTdPPY/On5FmvIGj0ZiLq2zGSLXAlT2bHUg+sskjnYd2za0yh+6E1io8g7tzsfPWBy1JldVMVQ1Aq+IkwiPPLiSSek59QnMPN1UVWo6B655u6fcDvnyI5T5FX77ZBtxw7AeV7HbgrDnSvqGB5LVeUJiiZEdBOI9A9EF4DnqfNAJO8lEpnNYQsWH9pOothGVMaDFBlgEUQMCgCO8DxgeXTWv/3OvZbl5H7enowhZczkkRe08mvAGBOGwOpBAQXAfU90TBFl7q7HhpylYJ8fwdRn5xlF0bm9Op72bELwqo/2iWhXcHgig5DqzZjxA+8eeWUsBXeGyTbgr4yJ1UhFEO3ORDtkd7gXgKeEZ1MYbgbTUz02lcWW1W3Cv/Xz6EQynzwvWKRrwfPUbQ5tJQd3bXspyTNfIzuWsmhhZOq22JbReV0CfgaYB1Gl6Ux2Zo7sppudxzv3bYO1bcoq6j8IiL1VHsZSecd7BErFLeOpPJdrvrFH/PCXpYD6cZ1F4F2D4fG0s0OyG2wQiUWmROemOS1pUPrJUHqdA9GuQBijl4Soc44s/HbIvLV+785hJ5dV1HVPG90UrBLAvEF0BiRzZpNdHiVLlMk9OpWBphtljBNNN0pa15zPiahjvOrC0zpaPGlvH/CJw4nOraAZUBSz6UGL1fRAUahsKz7fasz1XTGEVAUDvQkM9rdjoDeBkOof0xQxCcw4ISGsKIiGFIQVxewkbyVfeeMUZdplmAS2F1VmZK3XZSll2YJ3hV2mYOCmKwagGQy69bTWGYNmMEd+VpbrzFt7IgaVLGyRKWY5Bk7Vq0BOWXRudrekSvaRH89exIQSMWZkESLXOF0/Qz47TxHm7Gap9LrfWu+OR22n6EXP8UqPaokwMpuTJuD7xXN5n/Mjy3t56ibNjc27G7jo3MIqIZVn0HS9tI2l0lZcJgl00xUDloZG2jlme6u/Spko5CHyPP30G3iFSTJFECIvSrYaLqd5izTZr5dTK8l5eMsWcYjWnohBJQuRyBQPonOzdX7sXQrBrIY90yeHAogZM16Nnm1hJxls6kuUGgKz0jg39YkJAyKIdrPzjX9XomkMd6mSTr57hC3RqpMraVZFPNcvLuu15fn+c8e4DBARROfWm4hiMl0sdwqYKc8q24lj37FpR0PDPuZMVquq+YTfg26+pfIisaUvX3/+vFkzov6DsoZUpB0iojPKynj6balFDCpRDJ/XdCMWUZHXDLinjUgs0ubn2PCaECwE0bCKgs6cuYyGxRIHfiijT7quTzUqfzyIwonVSE1kCvxwZdMYbvdNJ0thG03mnLJiuH6OmUR3IUR0Jy8eNxjD0akcmLPd1HF0Mouz+sUxemFMk80VaWIAUnkNY6mCVCeOb/zEOzTwjZ8MS3f8Fj3oRPkCW2zJeYwys11dJq9LJXRFXtRCS4694OfFM4Ar4ylqPOHV03Druk4hg0q0s+E1uAbA2S2FxLul687B5687h3ttat2EwI/vL9vMQqTyJ7ublWFQudf6q2Npz+1T0xhu++m/qS8BxhiGTpWyvUVdR3oyi8HV4m1NKj9X4IgBZfrQ8wXPgzw2ky9rFWZ7MMksX0MaEG87Tf2JUtLTTvqNWc0EDMagubqhKGQ2Nwb4hsFL8wUA9/VqwXvQic7v5IypYVJ5jQp6+ViqzReJvCiRJyuCqUEzt8K11eqOwysMEcl4AvxEqWgnJepwL9rZvHRiBmAMOrObJJj31v3PHMY9H7wQt+7Y6xmn9xM5m2+RECDnyfrJ58oknQF+y0PZ3awsg6oaNE1yEjAX2LXn9mMs6c2i4L1ug1dS7ldqLgIvMZPXzSbCbu2DkAKMpYvC4/mVDytEiFrJyWhIdTjDfW1RTynVvrbogjtK1xKi81MVxVQDdM2ZSqbYksw52F7UhRu6sKajFRdu6HKa3oqSQyKIStdFJe+ixLgoUXp4IuPspIgIikKOtrn5fXmkC+ZNny7oGE3mfSUQUnkNOitfKzqDwyQq6gbyRQNFnVk/zftDdA4y8LumvCS2SCdHNulst3rLFvWyXcg9TxwUXgM/bBv01voRkSGWTck7wYyx2cm9yay38eO9boPnqS2A8cP1ssgqxAir5VxTP4ie0qI2SYwxqIQ5SaB4RBV6SiKJ3IWAF0Ot5vxCbnVAg2GgJy6d1+B5e7LHc5dG6waD4iqN3n7fbm7JuygxLpsofXT/CJdzLdrZnJjJlWJHNqxcz12PDSGZ1coOmsxquOuxIeE5yHjOfhx1nudsaxfprnoGsl6XnUtRq7d6odq16YWm8rjt5B6PmSRgLAGAo9DGe12GTsfzsrpj4QVTlipPRyRGlCroWNfVWia8ta6r1elMzvO+tqxu86Qt+vHlRRB5LwDfCxGd30KF5yshezy3fO65p7XjjO6YI597aDTplLy3WCp/dsm7iBomUn30E4tSFUKL1UShJaxCVQjD42nhzibGUSqMhRUcGk2aFEqXN24AwnNIF3SpHZ3oGog857FUHlRxK5Nicun9VB/veeIgtt7xOM789CPYesfjzppMF8q7RwGlVm/1oB+K4DUvlaib4Sai9UT0n0R0gIheIqJbrNfvIKLjRPSC9d87/Y7FYMZcj01lkYiGuGJMfiJNom2ubDjB7mLtVgfsTUTQk4giHlVR0AzkigYKmoF41J+yJBqHaOsv4mOLFvNt1wyiJxFBS8hU5GsJmfHChVCr3N6LQor1E77ei9/5ycqwemF9VwzHpjJ46cQMXjw+g5dOzDg7ABFsyqJbRbKo65ZmjQGdMVeowfy9oBlI5jWsioVR1M31UNQNrIqFkcprQtVH0cPMby55W/Fz13aiKxYqk4rtioVw7trOMgql/R9g1VBY9DZ3zcLazhaMJvNS4QnRA0tk1Is6g0LlDyyFyJFU4D2wRA5FPKJ6drmKWzRD0TUQOXwy73mt9UrUM1SiAfgkY2wPEbUBeI6Ifmy9dzdj7MvzORizGAbJbAGr21s8xfhXt7fM/aALNkvCawsvU5kH8LVRRmZzjr6yTYMKq/7PSb8t/EK45l7vibLpspBt2AzIc+l54G3h+9sj2DVcolvZTXj72yPC4x0aTZrVmC62UNaKMRvMKLv5S16rYWqczOTKBKgmM0Vs7osKVR9vvnqLlFhUNXO5Kh6dM5fPHpksUShdcFMoK+ltAJzY93xYXpcNrJrDQx9LFfChN60ChvmNFLLFJFdXSBSKu/nB57nhkBsu34ivPvUKNMNwqp7t1n9+jBMZLRnRe+61zkPdDDdj7CSAk9a/k0R0AMBa2ePZCauxdBG9bVH0JSIYt8RrFAJ64uIbzgZPoU02NiZq59TbFp13M1BZqqNfBlv0nkz5PSDXuFgWMnRA0U315NDYnLJ8IvN1EdJ5zZMtlM5rCKsKVJrbyYZIKdcvL/s8E0rdulEZOhOVhYsgmkuHQml/IQEqShRKLy56byKC49M5T+Et+zp4rRPRA8uPSsfTFbLPz2tdiBwKkVMnOqaslozoPXfrvCWlAxLRGQAuBPAzAG8F8IdE9GEAz8L0yqc8PnMjgBsBINTeh2hIdZJ767tiePH4tOPdGMwMpZzZJx+XrXVlm2w7J5H6XLXwCvXX2jiLuK0i72UhmO85iG4q8yYmKK5gqcEM310BryejpjPEowrS+ZIxt7U+IiEFqYI+t4ouEUW6oEsLo9ll4bWUtPUrRPHkogseSn7SprwitWqodPNV1/RzKLau68Q5p3U4a33ruk7feZTVkhG9Vw3qbriJKAHgXwD8MWNsloi+DuALMC/vFwD8NYCPVX6OMXYfgPsAoOW0zcxOCGzujQPMQKqCe53K6wCTp/X5bcVFkqJeC8xPopQHkWcmwkL4qzLHFHFbH/vE2wHwvZfFgmj3Irsr4F0FA0BvIoqpdGGOCFhvIorOWIRbRScrjCYKnclCFBbYft9uTy76saks96EkGr+sBIXM7guA0KHwu394979s30zRe+6xYCnogEQUhmm0/4kx9q8AwBg75Xr/mwB+5Hsgi7lkJwQ+9q1feP7Zz46Yjrts5ZSoy42MNopMTFbkmYngd4PXmq7l5rYCcys1RU0Daq2RzYPIMLz/4nVSuwLeA9SWeyUiRKi82TFjYh1y2UpTP8jOM2898x6EAJzEuI1qSrsTUcv8uBkDzF+CQjRGEWRzXEB18ej55JZE71VDB6yb4SZz9v8OwAHG2N+4Xl9jxb8B4H0A9vsdK6wquHBDl7PwRHoRtfA8Kw8vw/mVrcwT6RsAfH60Xwd4mTnxi/vrBoNm6GXx3JAPs2ch12e+hkikNe4X0+RBREUVPXSr9RIrD+/n0YlCWbXegfEehP3tUcxkizg+nS3TI/nsu95gPuQ51Z1HpzJSksILgUyO696dw0jmCpjJak5OrcMSP3PHo+ebW5rPw7oS9fS43wrgdwC8SEQvWK99GsB2IroA5ho9AuAmvwPNp0BGtrDCLxYnShh63TwA8J3dr6GgGSCYlLDvWBoTonHcdMUAbt2x1/MmsOlMXhoTohvcpKrNba/mNyeiYzLGcGy6pPFiG7Q1CXGSWHYsMobIpuBVJrFtwyDaFfDQ1hJyPm8/sACzG7jfQ5fnJYrOza/dljsePZ7M41M79jqhDpn7QATRg7BgJeQNq2iqoJg7xGqYI7z5WkyI1vr+49NlshgGM9v07T8+DUDs/cu8V406YN143IyxZxhjxBjbyhi7wPrvEcbY7zDGzrNev87lfXMRUqiMz9wd834adcfC0oUVIsK/qMSWx7v+zL+9iKmMqeQXUhUwAFOZIu56bMh37ghwSYOW7pH7nzlsakwYZgcW3RItuf+Zw0L+6sFTs1bjY1bWXu3QqVnhOETHbGsJQ6VyTrxKQFuL2FOQHYtMKXNbNITJTLGsIGYyUyxt0SVww+UbQVTeDZzI7AbuJ1fA4+3aDzM3N7yg6Y6R5fGx73psiLvGal2wBPB53CMzObOxr6KgxdJfzxQN3PnoAYc54q5z6GuLOMyRmWwRh0aTGBqZxaHRJGayxQUJfQFyhXSia5fx0KYBwH19oXCPhYemKHkHyj2Gv/7ABfj97z6LrFbyxVtDhL/+wAXSSUHRVslJWHkkDHmezfBUDgpMFoI7lCDqJAKIlc9Sea3UgBilqrZUXhNuxatthFwJv9jruq7Wsm1uTyLiu82VHYsMXVPUZswPvBCEX4hFJk/C61uq6ebDjOeZiRrqXrShS+o+EIG3o9AYQ1ghz3xHqqALqY7lTkpJv1wWsiEi0VrntSIUtShcCNxjaWp1wMqek9sG+/D1375ESnVLJjt8dCqDrlgIE+mis+XujoeRLuhIFbwNil0wVGlkFZ+LLTJQZGW8Ko/g13NS1AjZD37bufluc2XHIkPXHEvlPdUgx31avfnd/DLd2kWhC9mHmQiyLCmZY4rSGn6KiSJ5VhksJETEu3aKtcPwen2p0BSGG0BNqEKyscQ7Hz2AkZkcwkqp6m0qo2FTbxRd8ahn8sVmKlRebjt5J/MAGZnJwotbovhkATb3teHlkVlMZ0sPns7WMDZbvHfRTcx7T9YwiJoyiyBTOVnUzdCWXSkHmJVyfgaxHvFh0QM5ElKQymnliV4GRFpLGjpec7mxO4ZDoykUXR2RFAI298UXxJLigXfMux4b4oqfecW47S4933/u2IK4zLx5lilgE81zLKx4Sj/HwuLrI4slpwPWDHYyZIFUIdENKcoOO3Fpj6QML/kSUQk5ba6BiLvi4vN9gPz8yCS8UrWGzwbTHqOqEMLWA2UmZ2pkyJbsLuQB+akde01lNyter1VBk5Th7sp697JVtCKIHshT6Tym0oUSY8Uy3j3xiHAu33neGtz9xKGy7zGY+Togr4woMkS8YzpJUt0s2rGpu/fu5HfpkS16E8GPG86DaJ7PXduJoZGZOaySwf6OurB3lpQOWFMwM0HppgrJCrCLbkjeohT1jts1POkp5ZkvMqikl8ms2qwG2QeIHZsl+3/Wsf1itrYQltfNs2t4UqosV8RfF53fTVcMCDvBVINq/97Pu5ctqqhlmMH2WMlqpuyWsyUi35Lq/o7ovPua1po6Kira+cxD+7ldetwtumrVhUjEfBHBb83ytF0Wa3dWiaYw3AzmjTObKy7oKSfqGAKIb+QjE6myYxV0A2d0J5zEklsGczangRlmDMzrZqzWo6s0UIloCOmCVqavoRAQFzyZAb4QVr3Kcv04sbxOMLWmA9rUSnc3FzeVTpaCJ1Nh55fo5TkGybwmvD7VaJxUQrZzTjWFXPPhocvsovzgRwHljV+0ZutVIMXDsmoWbHMn+9vFHqvooos4paIbUhSn23tsGrpRaqoKBud33s3op03hpwGiWp11qq32q0dZruz3yYYhZK85j7Ugu+uRrbAT7VD8Er21vj6i+0AUd+bdI9cfm8aOPcelKgtlKiBFEKkwiu5xv3tkPpzrasM91eSPeGiqRgoA8PhLo9IcVRGnVMQT5mlu7xqeRNHd9qzC3eDpY4s4o7YGCDMwRwPk5qu34JYrN6E1rEIzzHO+5cpNvkUkIr6saCx+vGTR9/E+J6urLXPNbdbC5tVtOHtNBzavbkN7a9i5WUTH2zbo3exBVvxfdr7qcX1E94Ho+vDO7/5nDnPPW8RDB+Q41yKUaf3Y/2EudbdynPVY6yL46e5ff9FauxXj+V6fbxqP20amqON8yaecSD7TL2TACzUoCiEEVtbA1yxMIeeCzkeb4qbvPlcXDRBeZZvfdlVmK+t3TJm4poxnI/LuZT2leuwmtg324eIXjjnt0FTFbIdWzTWQuT6i+0AUd+aFBdIFHRuqeKhWhlHqkdgTyQ7wqLvVqBHyIPs5v9yF3Q91Nqft9fp80xluQF5Uvx4hg7iVxQ4r5cJCZ/bGcfu1Z3MvaK23iH5KfnZlmz1Gu7JNtIX3G6cM+0B2odtslEot6M++6w3cz4hiuSJpAb9xiMSBZB4G9zxxEA/vGzGlDEIEgwEP7xvBxp6DTp/OWl4f2bjz+p3en7OVFucrS1uPxJ5f2InHKfebSxFkPueXB1oerBIXFMgLOPkZfNn3/uiBPUgXdCcZEo+ouP3as6VuKlFDYBFEN4Gfkp8MFuItyT4M5stGEepkQK5qrx67CVGjWlkpXL/kq+ihxbs+vPvnhss3Ysee49yHWVEv16ZptwSa6kG7FN3j+45Nc3NVi4357twq0VSGmwCc1d+Gp4dGpQScFhIWEHGWW8IqijpzPMEWa9soo9xWJmRfwYkVHXMhhQcyqIe35OedzZeNIuqwsmt4Urpqr9a7iYW0euPBj97GC52JIDq/res6PV+/dcdezGSKUJRSY5DxZAFFPYnNfW0153GLxijilIvok/XAfHdulWgKw00wm9janThscR1VIVNch5XEdWQLCGTf45Xt3vXYENIFfd5bxAduvFSqv52o8EDWixfBz1uqtf63jHcmm9NYCGS2zfVo9SaaL7/QWTWo3O3wzrugmRQrt56KQaazJRvy9ANvLCJa7GKj2p0bD01huCv1uJ0Enoe4jizPVha8G+TQaArrulq5RkjkHYseEjzDJio88PPiZbCQdls81DqZ6PcZUbxzMeHX6k1mzYrOfc/rU1KhM5nrGlYJ2aKpveJUrwKIqFQXHrc9TpnCqsVGNTs3nshUU9ABz+pvK6NkiSCi/Nj6xc+/PoWRmSyef30Kn9qxd0EUJB59CgCXNpaIqKZMrEva9Ph0ztfDElHReJKbtnLgl64/Hxdu6MKajlZcuKELX7r+/AXdICKKoSwtbn1XDOOpPIbHUhgamcXwWArjqbwvhVI0Rt5nLhtYhdGkyTxwxzsvG6hfvJNHfRPRPEW0MRFkaWoiyFzXLavb0R2PIKQSdMYQUgnd8Qg2r24HwKdd+oE3l6L5qsec1Av2vBy5812eg2sKj7sSG7tjeGUsDTLKt/6bemJCb9YvxCID3nZvY3eMm2mfzhTMF+ZZllsNK2a+Iv4LAS+5J5t0EiUTZbyzRop3yioOyuYSROcuGzqTua72/THfxr4iyDJV/LrVLGQ8tdzFV4OmNNy3X3t2WXWhqhA6o2Hcfu3ZuPPRA9xYr6mFzco0shXy18gWgXeDAHyGgajEWYSFsGJqvbh4sf17dw5Lb0lFycSbIffwaZR4p6wBXgjzgnfusqEzmetaj3DIQnIhi0nDrafxbgrD/eLxGWy943FHsH7bYB/etqnbKVgwGPC2Td3YNmgq+THGUDDKxfOJCAZjKCt0tDwNooUJovMWgx8fdr5a1n43Aa+Iox5xf9ENIiseJEomykI23snr7SkLWdZPPeKyduhMhksvc11rbSzrUVgli4WwqxayxprCcAOmcNNXnixJWPIKFsZskXxL09jev4+l8lyebr3k0OfLh61m+8g7pqiIw08BUFawq9biQbW+6WSFpES9PWWNd1s0hEOjKaguWtzx6Rw299Veh7wayO5eZOonag3ROqnXfPEguyNa6BprGsMNmN7xN34yjJBK3IIFwFLlqxTP1wwYHPlT3uv1gp9hk/GARUUc7a3hqqu0qvUY6iEeVOubTjbeefODz9e8IKZMQ8P100+St17MCxk8PTTqlGJvsK7Pjj3Hfesn/I7JW+syTTwWe75knY2FFl01leEGTK0SVSduwUJna4hLP8orChgzLA3rUh9IValPJwsReIZNNmYmKuI457SOuuhr1PrhU+ubTjbeWY+CGJGGBiAnH7AQ1JpnL/qsTCEaINfEA6jPfPHg52zwzn2ha6zpDDcgLljYsrrdQ58ijI09CUyl83hlLI0QleuKbOyW5x7XGrI3h2hO6qGvAdT+4SM6pgxkvaF6FMSINDQWe+3Vg2cv811+QksyTTwWG6KHiOjcF7rGmoLH7YZKZmGCwcythcEM66f5+k1XDCASUtHf0YKzVrehv6MFkZBpvG6/9mx0xsIgxTTYpACdsbAjBiXDPa41ZCVrRXOybZAvrdkofN+FgMfplT030VzKQjSWxZ6vhfDs5yvJK/ou0VqXvQ+WEpVBL9G5L3SNNZXHTQC2rG5zYkC8jKxoG/VlQYulepRAzxeyXqLfnFRTpVWrmGA9xIN48PMeZc7Nby5lIBrLYq892esjk4PwY4CIOlI1UpUjD6L1Jzr3m6++FID8Gmsaw62Qqcdhc023ruvEOad1OLGjres6nb8VbaN479WDRlSP7ukiiLS6Raj1tnMxKVl+oSXZc5OdSxEWc+2JIPt9Mg9Cu+2fl7SAqOBq67rORWWHyEK0/vzmeSFrrClCJQSzS0fUpbp36469eP7oFE7N5vD80SncusDS9VqHDESlt37dL0QdQ5oBi1la3Ixb6kosdin2Qr5v2+D8StRF0gKiTjzNch+I1l89r2tTeNwtYRWbV7c5T7KpdB6TVjNQACjqDAWtMC91s0rUOmSwHBIvslhMSlajCQfJYLEpbAv5vvmyUey2f17SAn4FV81wHyx2M2Qb5McjbQR0bhhkb/vU/WCMYSZbxInpLHSPYasEvPqX71r08XktZjtu6dYfscdvS4p6vffT265c9PGLsBQ6DPOBO8bo3lI3onfW7JCZ68vveoq71td5GD2bafPAjZfW/XxqgUVYf571gU0RKrFhP8m8jDYA7uv1BC/s0RYNcTPwsg1z6wUZpbVGQbNsqf1Q66a59YAMG0W01ptJrY+HpVp/TREqAVB2UXcNT0gfRyZhKAIvJMIY4zYLBuRaXC3k3ESfWcyegPVAM2ypAblClEY6r4WoAzZClWO9sBTrr26Gm4jWA/g2gH4ABoD7GGNfJaJVAL4H4AwARwB8gDE2JTqWbjD0tbUs+KIupFKLB95inskW8YX3nMtdlLVesLI3f627zqx0yBjnZnlA1kMdsFGqQpsN9fS4NQCfZIztIaI2AM8R0Y8BfBTAk4yxO4nodgC3A7hNdCC7kYINgnejWD+xKL+EIa+pqR/dSZScmC8tEahPObKoV2WjKK0BcudeayU/WdiNOpI5DZphYDyZx6d27HWU+GQfkI1yfo2iDgg0/+5loahbjJsxdpIxtsf6dxLAAQBrAbwHwLesP/sWgPfO99htLd7PG97rNkTUnUOjSYwnC9AsSVS7qemh0aTwmLJxulrHlUXnJjpmI8UgZc7dVlnLFvUylbV7njhY1ffVMq5sN+pggNmoA6VGHaLrI7oGCzm/WqNR8gmiddIoFdD1xqIkJ4noDAAXAvgZgNWMsZOAadwBzPuqXzXYO6/XbYhuEHdTUwKZ/SzJanYqgMxirsfCE52b6Jgi47zYN6rMubtV1hRSrJ9wlCJ5qEfidXg87fRCtdeQ3ahD9gEpe371wnx53PWAbBn9ckLdk5NElADwLwD+mDE269eey/W5GwHcCAAbNmwoe29ktoBVsTCms0UYzKy66mwNY2S2IDymaKv3yX9+gasq6If5bgXrEVcWnZuopLqRlNZkzl1WZW2x48qySTq/81sJ8dxKNFp4bylQV8NNRGGYRvufGGP/ar18iojWMMZOEtEaAJ4uDmPsPgD3AcAll1xSFtI+OpXBaZ2tWOu6GNV0ShHdICJVwVqjHgtPdG52xx3eMRuFlSFz7vGIinReA4NeJtUbj/qHzWqdeBX1QpV9QIpU5FZKPLcSjdRIYalQT1YJAfg7AAcYY3/jeuthAB8BcKf186H5HnshT1XeDWJf8Fo2NeWhXgvP79wafTHLjPOqwV784IWTzu/2TqmasFmtPTNRL1RA7gF5w+Ub8dWnXoFmmCXjhvUwuOHyjU3DRqk1VgLF0A/1jHG/FcDvALiSiF6w/nsnTIP9DiI6BOAd1u/zQj2SZosZz13suHKjJJX8IDPOoZHUHDYRWa+LUK819OXrz8eF67vQ396CC9d34cvXn7+geb756i245cpNaA2r0AxzV3DLlZtw89VbcHQqA003MDyWwtDILIbHUtB0Y9nFcyvht04aIQ5fbzRFyfsll1zCnn322bLX7Nhesz5Vm338QGPEV8/6zKNgjDldjABANwwQEV7+4rXCzzb7Nbj2KzudPpZOYxCDYXNfAo/+8RVLPbwAtYFnkq1pKicr0ShxWVnUmse92KhH5/jFRrOvIdk+lgGaH02lVbIS0Az6IICYkrWY57CxO2bGfQ0GxhgMg8Fg5uvLHXYfy5BK0BlDSCWs7WxZUG/MAM2BwHBXicUSAWqWAgIRX3Yxz0HUjm65Y31XDCFVwUBvAoP97RjoTSCkKsuO+hZgLprWcC+mmtpiepDNUkAgKihZzHOoR0KwWbAc1PUCyKEpY9yLzV9dTNpVsxQQ3HTFAG7dsRfHp7MO9S0RDeGz73rDgjrHy6DZY9WyWCnUtwBz0ZSGe7H5q4upktcsnGvASnczKxnGyEl/N9I5NEOSdCFolIdWI81zPcbSSOcHNGmoZLHDCYvZ+KBZONf37hxGe2sYm1e34ew1Hdi8ug3trWHn4dkI59Asid5mRyPNcz3G0kjnZ6MpPe7FDicslQfZyKQuv11II3iCK7WysJ7w8jwbaZ7rMZZGOj8bTelxL3ZSZjE9yEZ8unthIbuQxUosN0uit1nAW5sHT802zDzX45o34jpqSo9722Afrj82PUdcvp5Pv8XyIBvt6c6L7cnuQhYzsdwsid5mAW9tFnWGbFFviHmuxzVvxHXUlB7300Oj2LHnOHrboji7vw29bVHs2HO84bxSEXheZyM93UXev+wuZDE53gFdrrbgrc1ISGmYea7HNW/EddSUHve9O4dR0MrbjLW1+LcZaxSIvM5Gerr7ef8yu5DFZOgEdLnagrc2N/e1ObHupZ7nelzzRlxHTWm4D56axWxOgwKCSgRNZ5hIF6Dps76flaX11JIOJDKIjUSlq4eRXewHUyMkSZcL/ORUG2We6zGWRjo/oElCJUMjybJwQlE3+RaKQiAiKJbKfEEX8zBkE3+1ThiKwiF+IYjFrBitBw1yIdvOxTz3AHPRKDTPAE3icYcUKgsnREIKsgUdBnO1GWPm6yLIJv5qnTBc3xXDkYkUZrPlHeXP6Da77fCe7otdMVoP719227lSu700GhrN81ypaArDDZQby819bXMNXzzsGD4eZLf+tQ4ZXDawCj8/Mmk1lgUKuoHRZAHb37hK+LnFZpzUK7Ync/M3GtsmQIClRNMYbqBkLL/wnnOl2ozJxldrHZfdNTyJ3kSkor9lCLuGJ3Gz4HOLmdiz0Sge1lKce4AAjYqmiHHbsI2lbKztpisGMJst4tCpJA6cnMGhU0nMZou+Br/WdKCjUxn0JKJlcpw9iaivEVrM0vtGg+jcg9h3gJWGpvG4K42lrCfIAIAAstqBV1NWXuuQgawH30iMk8UG79wvG1gVxL4DrDg0Rc/JtnVnsXf/6bcWHF/dft/uOQYzU9DQ19aCB268tBZDrQruRJvbCFWza2j2PokLgde5e0nILsU1DRCgTvDsOdkUhturWbAMLr/rKXS2hk1v2wJjDDPZIn5625ULPv58sJINcC3RSNc0QIA6YHk1C5ZBI1UlNkrSr9nRSNc0QIDFQlMlJxeKRtQcCLAwBNc0wEpEUxjuyspJWQSVX8sPwTUNsBLRFDHuzg2D7OJbvlF1Ai9AgAABlgk8Y9xN4XEDqKv8Z4AAAQI0E5rGcANBpVyAAAECAE1muAO2QIAAAQI0keEO2AIBAgQIYKIpeNy6wdDX1hIUqQQIECAAmoRVUqvKyQABAgRoMiwuq4SI/p6IRolov+u1O4joOBG9YP33znp9f4AAAQIsV9Qzxv2PAK7xeP1uxtgF1n+P1PH7AwQIEGBZom6GmzG2E8BkvY4fIECAACsVS8Eq+UMi2meFUrp4f0RENxLRs0T07NjY2GKOL0CAAAEaGottuL8O4EwAFwA4CeCveX/IGLuPMXYJY+yS3t7eRRpegAABAjQ+FtVwM8ZOMcZ0xpgB4JsA3rSY3x8gQIAAywGLariJaI3r1/cB2M/72wABAgQI4I26FeAQ0QMAtgHoIaJjAP4MwDYiugBmq8cjAG6q1/cHCBAgwHJF3Qw3Y2y7x8t/V6/vCxAgQICVgqbRKgkQIECAACaaouSdiMYAvCbx0R4A4zUeTrMjmJO5CObEG8G8zMViz8k4Y2xOIWNTGG5ZENGzjLFLlnocjYRgTuYimBNvBPMyF40yJ0GoJECAAAGaDIHhDhAgQIAmw3I33Pct9QAaEMGczEUwJ94I5mUuGmJOlnWMO0CAAAGWI5a7xx0gQIAAyw6B4Q4QIECAJsOyMNxEtJ6I/pOIDhDRS0R0i/X6KiL6MREdsn5yZWSXG4iohYh+TkR7rTn5nPX6ip0TG0SkEtHzRPQj6/dgToiOENGLVmeqZ63XVvS8EFEnEe0goiHLtlzWKHOyLAw3AA3AJxljZwO4FMAfENEbANwO4EnG2GYAT1q/rxTkAVzJGDsfpozuNUR0KVb2nNi4BcAB1+/BnJj4Faszlc1TXunz8lUAjzHGBgGcD3PNNMacMMaW3X8AHgLwDgAvA1hjvbYGwMtLPbYlmo8YgD0A3rzS5wTAOpg33JUAfmS9tqLnxDrvIwB6Kl5bsfMCoB3AYVgEjkabk+XicTsgojMAXAjgZwBWM8ZOAoD1s28Jh7bosEICLwAYBfBjxtiKnxMAXwHwvwAYrtdW+pwApmLnfxDRc0R0o/XaSp6XAQBjAP7BCqvdT0RxNMicLCvDTUQJAP8C4I8ZY7NLPZ6lBjObVlwA08t8ExGdu8RDWlIQ0bsBjDLGnlvqsTQg3soYuwjAtTBDjVcs9YCWGCEAFwH4OmPsQgBpNFCoaNkYbiIKwzTa/8QY+1fr5VN28wbr5+hSjW8pwRibBvA0gGuwsufkrQCuI6IjAB4EcCURfRcre04AAIyxE9bPUQA/gNmdaiXPyzEAx6xdKgDsgGnIG2JOloXhJiKCqfV9gDH2N663HgbwEevfH4EZ+14RIKJeIuq0/t0K4GoAQ1jBc8IY+xPG2DrG2BkAPgjgKcbYb2MFzwkAEFGciNrsfwP4VZjdqVbsvDDGRgAcJaKzrJeuAvBLNMicLIvKSSK6HMBPAbyIUuzy0zDj3N8HsAHA6wDezxibXJJBLjKIaCuAbwFQYT6gv88Y+zwRdWOFzokbRLQNwK2MsXev9DkhogGYXjZghgj+L2Psz4N5oQsA3A8gAmAYwP+AdS9hiedkWRjuAAECBFhJWBahkgABAgRYSQgMd4AAAQI0GQLDHSBAgABNhsBwBwgQIECTITDcAQIECNBkCAx3gBUPInofETEiGlzqsQQIUA0Cwx0gALAdwDMwi3ICBGh4BIY7wIqGpW/zVgC/C8twE5FCRP/H0jH/ERE9QkTXW+9dTEQ/scSYHrfLnwMEWEwEhjvASsd7YWouHwQwSUQXAfh1AGcAOA/ADQAuAxw9nK8BuJ4xdjGAvwfw50sw5gArHKGlHkCAAEuM7TClXgFTeGo7gDCAf2aMGQBGiOg/rffPAnAugB+b8jhQAZxc1NEGCIDAcAdYwbC0OK4EcC4RMZiGmKGk2zHnIwBeYoxdtkhDDBDAE0GoJMBKxvUAvs0YO50xdgZjbD3MrifjAH7DinWvBrDN+vuXAfQSkRM6IaJzlmLgAVY2AsMdYCVjO+Z61/8C4DSYesz7AdwLU2VyhjFWgGns7yKivQBeAPCWRRttgAAWAnXAAAE8QEQJxljKCqf8HGaHmJGlHleAAEAQ4w4QgIcfWY0oIgC+EBjtAI2EwOMOECBAgCZDEOMOECBAgCZDYLgDBAgQoMkQGO4AAQIEaDIEhjtAgAABmgyB4Q4QIECAJsP/Dzxy9Ssplz2IAAAAAElFTkSuQmCC\n",
      "text/plain": [
       "<Figure size 360x360 with 1 Axes>"
      ]
     },
     "metadata": {
      "needs_background": "light"
     },
     "output_type": "display_data"
    }
   ],
   "source": [
    "sns.lmplot(x=\"Age\", y=\"BMI\", data=df)\n",
    "plt.title('BMI to Age Regression Model')"
   ]
  },
  {
   "cell_type": "code",
   "execution_count": 4,
   "metadata": {},
   "outputs": [
    {
     "data": {
      "text/plain": [
       "Text(0.5, 1.0, 'Correlation Between Age Groups and BMI')"
      ]
     },
     "execution_count": 4,
     "metadata": {},
     "output_type": "execute_result"
    },
    {
     "data": {
      "image/png": "iVBORw0KGgoAAAANSUhEUgAAAX4AAAEICAYAAABYoZ8gAAAAOXRFWHRTb2Z0d2FyZQBNYXRwbG90bGliIHZlcnNpb24zLjMuNCwgaHR0cHM6Ly9tYXRwbG90bGliLm9yZy8QVMy6AAAACXBIWXMAAAsTAAALEwEAmpwYAABXHElEQVR4nO2dd5xU1dn4v8/MbC8ssMuywMICSxUBcVWwgSIqglhiw4bljW+qKaaYqNiSWJIYTd4Y408TDYrYIypWiooCCgrSe4eF7b3N3PP7497BYd1ly9yZOzN7vp/PfObWc545c+9zn/uc5zxHlFJoNBqNpuvgcloAjUaj0YQXrfg1Go2mi6EVv0aj0XQxtOLXaDSaLoZW/BqNRtPF0Ipfo9Fouhha8ccgInKDiCwN4vx3RGSWnTJpNKFCRHaJyDlOyxFNaMUfIkTkahFZKSLVInLQUqanOy1Xc0TkHhF5LnCbUmqqUurZENT1jIg0Wm1SJSKrRGRiB85XIpJvt1x2IyIp1m9cEOJ6RER+JCJfi0itiBSKyBIRuSqU9UYTbV1zlpGkROSRZuddbG1/xlrPs9Y9Yf4JIUEr/hAgIj8HHgX+AGQD/YHHgYs6Uda3LrQov/geVkqlAt2AfwCviYjbYZns5jKgAThXRHJCWM9fgZ8CtwE9gb7AncD5LR1sPSi64j3f1jW3Hbiy2X11PbAljDKGla54EYQUEekG3Af8UCn1mlKqRinVpJR6Uyn1S+uYBBF5VEQOWJ9HRSTB2jdJRPaJyK9FpBD4t2WVvyIiz4lIJXCDiHQTkaett4n9IvK71hSoiDwmIntFpNKyeM6wtp8P/Bbzoq8WkTXW9iUi8j/WsktE7hSR3SJyWET+Y/3GQCtolojsEZFiEbmjPe2klDKAuUAPzIejX9abRGSjiJSJyHsiMsDa/rF1yBpL1itF5CMR+Y61/3RLlgus9XNEZHVb5Vr7hovIByJSKiKbReSKgH3PiMjfReRty2JcISKD2/h5s4AngK+Ba5r9F+NE5CurrJdF5EUR+V3A/ukislpEykXkMxEZ3VIFIjIU+AFwlVLqA6VUnVLKp5RaqpS6IeC4JSLyexH5FKgFBonIqSLyhYhUWN+nBhx/lNtEAt4IA/7vW6zr9qCI3BZw7MlivuVWisghaWZFBxzXXUTeEpEi6/94S0T6NZP5fhH51Gqn90UkM2D/ddb1WNLe6w1av+aAQmAtcJ5Vfg/gVGB+e8uONrTit58JQCLw+jGOuQMYD4wFxgAnY1pqfnpjXpwDgFusbRcBrwAZwPPAs4AXyAdOAM4F/qeV+r6w6uqBeeG/LCKJSql3Md9KXlRKpSqlxrRw7g3W5yxgEJAK/F+zY04HhgGTgdkiMuIYvx0A6yF1PbATOGRtuxjzQXQpkAV8ArwAoJQ60zp1jCXri8BHwCRr+5nADmBiwPpHbZUrIinAB1a79AJmAo+LyHEB4s4E7gW6A9uA3x/jd/W3ZHre+lwfsC8e87p4BvO/eAG4JGD/OOBfwP9iWvD/BOaLZRQ042xgr1JqZWuyBHAd5nWUBlQBb2O+LfQEHgHeFpGe7SjHz1nAEMxr7vaAB8VjwGNKqXRgMPBSK+e7gH9jXt/9gTq+fU1dDdyI+Z/EA78AEJGRmFb7dUAf6zf0ox20dM0F8B+++a+uAt7AfGuLTZRS+mPjB9PCK2zjmO3ABQHr5wG7rOVJQCOQGLD/HuDjgPVszIsyKWDbTGCxtXwDsPQY9ZdhKlB/2c81278E+B9reSHwg4B9w4AmwAPkAQroF7D/c0wrtKV6nwHqgXLrux64JmD/O8DNAesuTCt1gLWugPyA/ZOBr63ldzEffMut9Y+AS9sqF7gS+KSZnP8E7g6Q+amAfRcAm47RtncCq63lPoAPOMFaPxPYD0jA8UuB31nL/wDub1beZmBiK/Usb7ZtX0Db+ttsCXBfwDHXAZ83O28ZcIO1vAs4p9m195y17P+/hwfsfxh42lr+GPMBmdnBe2YsUNbs+rszYP0HwLvW8mxgXsC+FMz75ZxWym7rmrvB+g+SMB8G3YDlwGnA74Bnmv12T0d+W6R+tMVvPyVAphzbD98H2B2wvtva5qdIKVXf7Jy9AcsDgDjgoOUSKMdUVr1aqkxEbrPcHBXWsd2AzJaObaesHr79quynFvOtoDX+pJTKwLzRCoA/isjUgN/1WMBvKgUE03fdEsuAoSKSjak8/gPkWm6BkzEVUVvlDgBO8e+z9l+D+dbVmd93Paalj1LqAOYDyB8h1QfYryxNYtH8f72tmSy5HH1t+CkBjuo/UEr1w/xfE6zf11Idzf9PrPXW2rglAssLvHZvBoYCmywX0vSWThaRZBH5p+WuqcT8nzLkaFdla23eJ7B+pVQNZlsci2Ndc/5y6jDfhO7EfHB92kaZUY1W/PazDNOquPgYxxzAvMn99Le2+WkpZWpzZdGAeYFmWJ90pdRxzU8S05//a+AKoLt1A1TwjWJoKz1rS7J6+farcodQJuuAT4Fp1ua9wP8G/KYMpVSSUuqzVsqoBVYBPwHWKaUagc+AnwPblVLF7Sh3L/BRs32pSqnvd/Q3Wb7yIcBvxIywKQROAWZahsBBoK+IBCrl3IDlvcDvm8mSrJR6oYXqFgH9RKSgHaIF/sfN/08w/9P91nINkBywrzffJlDmI9euUmqrUmompgHyEPCK5Uprzm2Yb46nKNMt5HfjSQvHNudgYP0ikozp7mmTVq65QP5jyTanPeVFM1rx24xSqgLzdfTvYoaEJYtInIhMFZGHrcNeAO4UkSzLOp0NPNdamS3UcRB4H/iziKSL2QE7WFoOjUzDVNRFgEdEZgPpAfsPAXnSerTHC8DPRGSgiKTyTZ+At73ytoaIDMfsH1hvbXoCU2keZ+3vJiKXN5N1ULNiPgJ+ZH2D6SYIXG+r3Lcw3xqus/6nOBE5qT39FC0wC7O/YCTmG8hYYBSmIp2KaRT4gB+JiEdELsJ8M/Hz/4DvicgpYpIiItNEJK15RUqpzZhvefNEZIqIJFkW86nNj23GAuv3Xm3JcKUl71vW/tXAVVY7FGBGKDXnLuu6Pg7TD/8igIhcKyJZyuxELbeO9bVwfhqmX7/c6ki9uw2ZA3kFmC5mZ348ZiBFu/VYC9dcIB8BU4C/dUCeqEQr/hCglHoE0+q8E1Ph7sVURv+1DvkdsBIz6mMt8KW1rSNcj9nptQHTZ/8KzV79Ld7D9HFvwXwtr+foV/WXre8SEfmyhfP/hWkBfYzZKVYP/LiDsgbyKzGjcmowH17/xlRgKKVex7QU51kugHWYCtPPPcCzlhvEH3nzEaYi+biV9WOWq5SqwuykvArTci20jm2pQ7VVRCQR863qb0qpwoDPTsz2m2W9kVyK6RIpB67FVLgNliwrge9idnSWYXYk33CMan+I2Un7CKb7ah9wP2a/xZ6WTlBKlQDTMS3bEuBXwPSAt6O7MDtmyzD99XNbKOYjS7aFmG6U963t5wPrRaQas6P3qhZclmCGOicBxZj+9HeP8Ruby7/e+t1zMa3/Mut3H4tWr7lmZSul1EKlVGl75YlW5Gh3o0ajCScisgJ4Qin1b6dlaQsRycN8+MfZ8cancQ5t8Ws0YUREJopIb8vNMgsYTQcsXo3GDqJ5BKhGE40Mw4xvT8UM673M6rPRaMKGdvVoNBpNF0O7ejQajaaLERWunszMTJWXl+e0GBqNRhNVrFq1qlgpldV8e1Qo/ry8PFaubE9KEo1Go9H4EZHmo7QB7erRaDSaLodW/BqNRtPF0Ipfo9Fouhha8Ws0Gk0XQyt+jUaj6WJoxa/RaDRdDK34NRqNpouhFb+N6PQXGo0mGtCK3ybeeustpk+fTl1dndOiaDQazTHRit8mnn76aaqqqqisrHRaFI1GozkmWvHbhN/N4/Xq+Sk0Gk1koxW/zWjFr9FoIh2t+G2mqanJaRE0Go3mmGjFbzONjY1Oi6DRaDTHRCt+m9GKX6PRRDpa8duMVvwajSbS0YrfZnQcv0ajiXS04rcJfzhnQ0ODw5JoNBrNsdGK32a0xa/RaCIdrfhtwp+mp76+3llBNBqNpg204rcJhan5teLXaDSRjlb8NuEfuKUVv0ajiXS04reJRqtTVyt+jUYT6WjFbwM+n+9Ijh4dx6/RaCIdrfhtIDA/jw7n1Gg0kY5W/DYQqPh1dk6NRhPpaMVvA4HKXmfn1Ghim40bN/KjH/2IiooKp0XpNFrx24DP52txWaPRxB7PPfccX3/9NevXr3dalE6jFb8NBE6ybhiGg5JoNJpQ43/DD7zvow2t+G1GRJwWQaPRhIFovte14tdEJNu3b2f79u1OixETNDQ0cNttt7FixQqnRYkpotni9zgtQCwQ+OSPZisgkrjxxhsRET766COnRYl6Dh06xBdffEFhYSHPP/+80+LEDNHcn6ctfhvweL55frrdbgcliS2i2aKKJPyRZrW1tQ5LEltE8yh9rfhtIFDZBz4ENJpIwD+oUL+N2oPfIInmFOxa8dtAoOLXFr8m0vBbpjrizF5qamqcFqHThNQ8FZFdQBXgA7xKqQIR6QG8COQBu4ArlFJloZQj1ARa+dri10Qa0eySiET84ZxVVVUOS9J5wmHxn6WUGquUKrDWbwcWKqWGAAut9ahGK357CUx0p0dCB4/fMtWuHnuotEbsasXfMS4CnrWWnwUudkAGW3G5XEduKq34gyfwFTqaX6cjherqagAMpV09dlBRXg5AufUdjYRa8SvgfRFZJSK3WNuylVIHAazvXiGWISz4ffvaxx88fkUF0W1VRQr+NtRRUsGjlDqi8MvKotdDHWrz9DSl1AER6QV8ICKb2nui9aC4BaB///6hks82xGU+Q10u3V8eLIGWVEVFBbm5uc4JEwNUVlYC0R2FEinU1NTQYLkfS4qLHZam84RUSymlDljfh4HXgZOBQyKSA2B9H27l3CeVUgVKqYKsrKxQimkLLq34bSNQ8Ufz63Sk4M8i2VDfoOeLCJJiS9mnAiUlJVH7FhUyLSUiKSKS5l8GzgXWAfOBWdZhs4A3QiVDOPH7+HUHWvAEvkKXlpY6KElsENie0ZxKOBIoKioCoB/Q0Nh4lFsymgilqycbeN1ShB5grlLqXRH5AnhJRG4G9gCXh1CGsOF/8kerBRBJFAe8QhdH8et0pFBSWnJkuaysjF69YqJbzREOHzYdFLUB62lpac4J1ElCpviVUjuAMS1sLwEmh6pep/APjtGDZIKnqKiIbokC6hsLS9N5SktLUekKqRT9BhUkhw4dAsAfcHz48GEGDx7snECdRMce2oQ/YZOOOw+ewsJCMhO8KL650TSdwzAMKioqUH204reDQ4cO4QbirPWDBw86KU6n0T2RNuDz+TC04reNQwcP0DPBR2aCj8ID+50WJ6qprKzE8BmQYa5HcwhiJFBYWIgHcAMekag1TLTit4HASAkdNREcPp+PwkOHyU720SvJoPDQ4ahOf+s0RxR9Cki8tviDpfDAgSNukm4iFBYWOipPZ9GK3wYC46N1rHRwHD58GK/PVPrZyT68Pt+RDjVNx/ErepWgkESt+IPBMAyKiou/UfyGQaF29XRdAvOc6xQDwbF3714Aeicb9E42O8r37dvnpEhRzZFxEAlgxBva1RMEpaWleH2+I4o/AzikLf6uy1EpBqI0rjdS2LNnDwB9kn3kJPuO2qbpOEcUfSKoeEVpmbb4O4vfn+9PytINKC0vj8p+Pa34bcCfC8VISKOyUueWCYbdu3eTEiekxyu6xSuS44Tdu3c7LVbUcmTAVrzp7tEjoTuP3+V4xNVjfUdjyLFW/Dbgz4ViJHajqqrSYWmim507d9AnxYsIiEDfFC87d+xwWqyopaKiAleiCwRIMI0UPciwc/gVfHPFH42DDLXitwG/VaUS06mvq4vKV79IQCnFzh076JfiPbKtX4qXHTu2a2XVSSoqKiDeWokHw2fofqhOUlRURJzIEaWZHrA92tCK3wb8r89GYgag86F0lsOHD1NVXUP/1G/CN3NTfVRV10TlzRUJVFRUYMRZo8kTvtmm6TjFxcWkB+TiSgvYHm1oxW8D5eXlSHwSKj4J0INkOsu2bdsA6J/2jcU/wFr279N0jLLyMlS9QlYLKt58a9KKv3MUFxWRGpCSJRGIE4lKo0QrfhsoLS1FxSWh4rTiD4YtW7YgwIAAi79/qg8BNm/e7Jhc0Ux5eTl4QcpFW/xBUlxURGA6NkFIl+gcG6EVvw2UlpbhcydoxR8kmzZtIidVkRiQQSrJAzmpik2b2j2Hj8ZCKUVVZdU3d7ml+HVkT8dRSlFcUnLEr+8n1TAoisIBhlrx20BxSTHSWEvcwXWAOUGDpmMopdi4YT2D0hq/tW9QWiMbN6zXHbwdpLq6Gq/X+81dnmh+RaOF6jTV1dU0NDZ+S/GnA4ejMF+PVvxBopQybyRfE666MsQdpxV/Jzh48CDlFZXkdzN9+nM2JzFns/kGNTjdR3lFZdRmQnSKI9eh/y73gMRJVHZGOo0/hr+54u8GFJWURF06dq34g6SqqoqmxkZwWeP5ElKisrPHadatM9+WhnQz/fu7q9zsrjLbdGiG96hjNO3jSOZId8DG5OgMP3QafzK2jGbbMwCv1xt1b1Fa8QfJkQRiYt5dXk8yhVH46uc0a9euJSlOyE39dibO3FQfSR5h7dq1DkgWvRzJHBlwlxtJBvt1qusOs3+/2WY9mm33rx84cCCs8gSLVvxB4nc/KMviNxLStEuiE6z+6kuGpDfiamHKYpfAkG6NrFn9VfgFi2L27duHuOWou1ylKvbv36/7SzrI3r17SXK5SG62vaf1HW35pLTiDxK/JeB39aiENCrKy4/K2Kk5NuXl5ezes5fh3Vsf8Tw8w8uu3Xt0REoH2LlzpznKKPBhmgb1dfU61XUH2bljB70MA+FoyyQDM5Z/586djsjVWbTiD5Ldu3cj8UkgZlMaSWYGj2izAJxkzZo1gKncW8P/UPj666/DIlMssGXbFnzdjnadqQzT0t++fbsTIkUlPp+PrVu3kt3CPhdCNuYYlGhCK/4g2bFjJ96EjCPrRlJ3gKizAJxkzZo1xLuFQemtz7Q1KN1HvFtYvXp1+ASLYg4fPkx5aTl0b7YjAxD0uIgOsHv3burq6+nXyv5+SrF50yYzdDZK0Io/CLxeL9u2bcNI6Xlkm0pMR9xxUWcBOMnqr74kv1sTnmNcjR4X5Kc3aT9/O/F3hKuezXz5HpAMYc3XaxyQKjr56ivzmhvYyv48oL6hIaoeplrxB8GuXbtoamrEl5L5zUZx4Uvuybr1650TLIqorq5m+46dDM9oO6Pp8O5NbNu+46iJbzQt89VXXyHx8u34Q8CX6WPd2nV6fuh2snz5cnq6XGTQQuQB5gNBgBUrVoRVrmDQij8I/L5pI+1o7583LZutW7fqDt52sG7dOpRSDDuGf9/P0AwvSinW64fqMVFK8dmyzzCyjBbvcJWtaGpqOnL9alqnqqqKVStXMvwYA7SSEfIQlixeHEbJgkMr/iBYtWoVkpiOSkg7aruRloPh8+m483awdu1aXAKDu7Wt+PPTvbgE3a5tsH37doqLilG9WwnZ7AXiEZYuXRpewaKQRYsW4fX5GNXGcaNQ7N6zJ2qSCWrF30kaGxv5YuVKGtP7fGufL7034vawfPlyBySLLtavX0f/NINEd9vHJnqgf5rBej2C95gsWbIEBFTfVhS/G4xsgyUfLcHna71DvaujlGL+f/9LbxH6tnHsaMywzvnz54dDtKDRir+TrF69mob6enwZud/e6fLQlJbDJ0uX6oEyx8Dn87Fp40by07+dmK01Bqc3snHjhqjLjRIulFK8/8H7kMWRbJwtHperKC8r1+6eY/Dll1+ydft2TlbqW/H7zUlEGKMU777zTlSkb9CKv5MsWbIE8cTh69ayLeDrMZDDhw5FzaufE+zZs4faunoGHyOMszmD033U1tXrcRKtsGHDBgoPFmL0P/aDUeUoJE54//33wyRZdKGU4tlnniHN5WJsO885HTPSb968eSGUzB604u8EjY2NLF7yEU3d+oPL0+Ix3u4DwOXiww8/DLN00cPGjRuB9vn3/fiP9Z+rOZoFCxYgHkH1a+NN0wO+vj4WLlpIXV1deISLIj7//HNWr1nDmYZBXBvWvp+eCGOAV1955ZsEeRGKVvydYNmyZdRUV+HNzG/9IE8C3m65vPf+B1E1sCOcbNq0iaQ4oXdy+902OckGSR7Rir8F6urq+HDhh/j6+iCu7ePVQEVDfQOLoygaJRx4vV7+9te/0sPloqCD504GlM/HE088EQrRbEMr/k7wzjvvIPHJrbp5/Hgzh1BRXsYXX3wRJsmiiw0b1jMoranFxGyt4RIYmN7Ehg06pLM5S5Ysoa62DjWwnf1KPUHShflvRkeHZLh4+eWX2bN3L1MNA087rX0/GQinK8XChQtZtWpViCQMHq34O0hRURHLli2joeeQI/l5WsOXkYvEJzN//pthki56qK+vZ/v27QxKb3vgVnMGpzexfft2PQCpGW/MfwNJF8hs+1gABHx5Pjas36BTjFjs3buXp596iuHA8A4qfT9nAj1cLh5+6KGIdaNpxd9BFixYgFIKb69hbR/sctPQM59lyz7Tk180Y9OmTfh8xpFJVjrC0G4+fD5Du3sC2LlzJxvWb8CX56Mj+krlKcQdPWGIocTn8/HQgw/i8nq5MIhy4hAuNgwOFhby5JNP2iafnWjF3wG8Xi//feMNfN36ohKbT8LWyjm9hmMYBm+99VaIpYsuvvrqKwRTiXeUoRleBHTCtgDmz5+PuASV18Hw4QTw9fHxzrvvUF9fHxrhooR58+bx9dq1XKAU6Z209v0MRBgPvPrqqxHp6tWKvwMsW7aMkuJimnqNaPc5KjEdX7d+/PeN+bqTN4BVK1cyIN0gJa7j4xxS4hQD0g1Wroy8G8oJ6uvrWfDOArNT9xix+62hBilqa2q7dCfvpk2bePqppxgJ7Q7fbItzgSxx8fvf/S7i5pHQir8DvPb660hCKr7u/Tt0XlP2CMpKS/QQeYvKykrWrV/PmB6d99GP7tHAunXrqaqqslGy6GTRokVmp+7gTg4WzDI7ef/7xn9tlStaqKmp4Z7Zs0lRiougzcFa7SUO4XJlUFFezgN/+ENEDeYMueIXEbeIfCUib1nrPUTkAxHZan03zxgekezdu5dVK1fSkDWszU7d5vgyciExjddeez1E0kUXn332GYZhcEJWxzt2/YzLasIwDD799FMbJYtOXnv9NaRbBzp1myPgG+Rj44aNXS6duFKKP/7xjxwsLOQywyDZJqXvJwfhfKVYtnw5L730kq1lB0M4LP6fAIG9cLcDC5VSQ4CF1nrE88Ybb4C48Ga1o1O3OeKiMXMYq1d/xe7du+0XLsr48IMPyEqmQyN2mzM43UdmkllWV2b9+vVs2bwF36COdeo2Rw1QiEd49dVX7RMuCnjzzTdZtGgRk4E8m5W+n1OAEcAT//hHxGSWDaniF5F+wDTgqYDNFwHPWsvPAheHUgY7aGho4O23F+DtPgAV33y65fbR1GsYuFzmA6QLc+jQIVauXMmpveqQIO4zETg1u46VK1dG/CjJUPLSSy8h8Z3o1G1OPPj6+/jgww+iIteMHWzdupXHHn2UfIQzQliPIFwCpAN333UXlZWVIaytfYTa4n8U+BUQODQzWyl1EMD67tXSiSJyi4isFJGVTodCLlq0iJqaapqy29+p+y3ikvB2z2PBO107euLNN99EKcVZfdufmK01zurbiFKKN9/smuMk9u7dy5IlS/AN9EHLmUM6hBqq8DZ5efnll4MvLMKpqalh9l13kWQYXIbCFSJr308SwhWGQUlJCb//3e8c9/eHTPGLyHTgsFKqU8PXlFJPKqUKlFIFWVlZNkvXMV5//b+QnIGRlhNUOU29RlBbU8OiRYvsESzKqKur4/XXXmVcVhOZScFn18xKMhiX1cTrr70asQNlQsmcOXPAZSpsW0gDI9fglVdfibgoFDvx+/UPHDjA5YZBSoiVvp9+Af7+F198MSx1tkYoLf7TgBkisguYB5wtIs8Bh0QkB8D6PhxCGYJmy5YtbNq0kYas4QTlmwCMtN6Q3J3XXu+anbzz58+nqrqGaQPsU9LTBtRRVV3T5az+nTt38t577+Eb7INE+8pVIxUNDQ3mQyVGeeutt0Lu12+NU4CRwD+feIINGzaEte5AQqb4lVK/UUr1U0rlAVcBi5RS1wLzgVnWYbOAiHZ6v/HGG4jbgzdzSPCFidCQNZwtmzdH1cTMdlBbW8vzz81hVA8vQzPsm/xjaIaP43p4eX7Of7rMVJdKKR577DGIAzXCZpdBOhh5Bq+99lpMBiLs3LmTxx59lMEh9uu3hiBcDKQB98ye7dj80U7E8T8ITBGRrcAUaz0iqaqq4t333qOxx2DwdGJkTAt4M4cg7jhee+01W8qLFubNm0d5RSWXDbZfOV8+uJayikrHX5/DxcKFC/nyyy/xHeeDePvLV6MUhtvgkUcecdwXbScNDQ3ce889xPl8fCcMfv3WSEK43DA4fPgwf/nLXxyRISyKXym1RCk13VouUUpNVkoNsb4jNoTgrbfeoqmxEW/2SPsK9cTT2DOfDxcupKyszL5yI5jDhw/zwtznOSW7kfxOpGhoi/xuPk7u1cgLc5+P+ZxIJSUlPPKXR6AHnR+w1RaJ4Dvex1dffRVTOXyeeuopduzcySWGQZpDSt9Pf4RJwAcffMDChQvDXr8eudsKXq+Xl15+GSM9ByOlp61lN/U+Dm9TE693EV//44//HcPn5ar80HXAXjWkDl9TI3//+99DVofTGIbBgw89SE1tDb6Tgovbbws1UEE2/O3//hYTs52tXbuWl156iZOAYQ4rfT9nAv1EeOTPf6akpCSsdWvF3woLFy6kpLiYxt7H2162SsrAl5HLK6++FvN+6ZUrV7Jo0WJmDKgly4ZIntbolWRwYV4dixYtiug86MHw0ksvsWL5CnyjfWZQeCgR8J3ko0mauGv2XVGdAruxsZEHH3iAbiKc57QwAbgRLlGKupoas88mjGjF3wI+n49nnnkWldKz5cnUbaCxz1iqqypjekBXQ0MDf/rjw2SnKKYNCP3YhekD6slOUfzpjw9HtaJqiTVr1vDEE0+g+qrQuXiakwTeAi87d+yMan//vHnz2LtvHzMMg4QIsfb99EI4UymWLFnCihUrwlavVvwt8P7777N//z4a+owNOoSzNYy0bHzd+vLc889TU1MTkjqc5plnnuHAwUJuHlZNvDv09cW74aZh1ew/cJBnnnkm9BWGiaKiIu68605UisI4yQipi+db5IAxwuCdd96JSn9/cXExc/7zH0YCQyJM6fs5A8gUF3977LGwZfDVir8Z9fX1/PPJJ1GpWfi654W0rsZ+BVRVVjJ37tyQ1uMEmzdv5oUXXmBinwZG9ghfOurjeniZ2KeBF154gc2bN4et3lDR0NDAb+/4LZXVlXgneNs1l67dqOMU5MCjjz7K119/HX4BguDf//433qamiHLxNMeDMEUZ7Nm3jwULFoSlTq34mzF37lxKS0qozz05ZNa+HyM1C2/Pwcyb9yL79+8PaV3hxOv18tCDD5AeZ3D1kPCPqL16SB3p8QYPPfhA1M+B8Oijj7J502a8J3mhm0NCCPhO9mEkG9xx5x0UFxc7JEjHOHToEAvefpsCpegRoda+nxFArghznn02LNesVvwB7N69mznPPYe352CM9ODSM7SXxv4n41VEtQ+1OXPnzmXb9h3cMKy6UxOtBEtKnGLW0Gq2bd/BCy+8EPb67eLNN9/k7bffxhhuQD+HhYkH7wQvldWV3HnnnTQ1dT6ldrh48cUXUYbB6U4L0g4EYaJSHCoqCktKF634LXw+Hw899DCGuGkYcErY6lXxKdT3PZEvvviC9957L2z1hordu3fz7DP/5uRejRT0ck45nNSriZN7NfLMM/+OynDErVu38pdH/wLZ5oCqiKCb2dm7YcMG/vnPfzotzTGpra1lwdtvMwrIiHBr389QIMvl4rUwpMbWit/ixRdfZN26tdTnjoe4zqVe7ize7BEYab35y18ejeoUw4Zh8PDDDxHvMpg1zPkw1VnDaokXHw8/9BCGEbpQUrupq6tj9t2z8cX58J0S2nj9DpMLRr7BSy+9xLJly5yWplUWL15MbV0dJzstSAcQhJMMgw0bN7J9+/aQ1qUVP2ZH5P976im8PfLwZuaHXwBxUT9oIvVNTdx33/1R65desGABa9eu4+r8arolOG+ldktQXJ1fzddr14at08wOnnjiCfbv22/69e3JFGIrarRCMoQHHnyAiooKp8VpkXffeYee4qJjk6S2zQIUB4GDwNMoFmDvdT4acIvwzjvv2Fpuc7q84q+urubOu2ZjuBNpyDs95B26raES06gbcCpr134dlaGI5eXl/OPxvzO8u5czc4LPtW8XZ+Y0Mry7l388/veIVVKBrF27ltdffx1jiNHKTBURgBu8J3kpryjn8ccfd1qab1FYWMiar79mrDJsmz/Xz0GgwfrsstbtJAVhqFJ8+P77+Hz2pzfx06UVv1KKBx58kEOHCqkdfBbE2ZjfthP4MofQlDWU/8yZw/Llyx2VpaM89dRT1NTUcMOwGqeenS0iArOG1VBTU8NTTz3V9gkO4vV6+eOf/oikSOT49VsjA4yhZnx/pIV4fvjhhwCMcViOzjIGKC0v58svvwxZHcdU/CLy82N9QiZVmJg7dy6ffPwxDbknY6RlOy0OAI0DTkUl9+Dee+/jwIEDTovTLnbt2sVbb77JOf3q6Zcaeb703FSDc/rV8+b8+ezatctpcVrl3XffZdfOXXhHe22ZUSvUqBEKSRb+/ve/R0xEmlKKd95+mwEidI+ozpH2MxRIEhfvvvtuyOpoy+JPa+MTtXzxxRc8+eSTeHsMwtt7lNPifIPbQ13+ZGobm/jtb++Iimkan3zySRI8cMnAyJX1koH1JLhNWSORxsZGnv7X09AT6Ou0NO3EA76RPjZu3MjSpUudlgaAdevWsXf/fk6IkAdRZ4hDGKUMPlqyhKqqqpDUcUzFr5S691ifkEgUBg4cOMDsu+9GJXenYdAZjvn1W0MlplM3aBI7duzgoYceihhrqiW2bdvG0qVLuSC3lrT4yJUzLV4xtX8tS5cuDXnERGd4//33KSkuwTcywqJ42kANUEiq8Ox/no2I6/TVV18lSVzYn1oxvJwENDY18fbbb4ek/LZcPX891ickEoWY+vp6fvvbO6htaKI2/xxwOzAGvh34MnJp7HciCxcujOgJRp5//nkSPcK5uZGfFO283AYSPcLzzz/vtChHYRgGc1+YC92ByPA4th8X+Ib62LJ5C2vWrHFUlAMHDrBkyRLGKYP4aHp6tkAOQp4IL7/4Io2N9gdLtOXq+R5wOnAAWAmsavaJKpRSPPzww+zYsYO6QZNQiaHObRscTX3G4O2RxxNPPBHSjp7OUlpaypIli5mUU+fICN2OkhKnmJhTx5LFiyktjZz5f7744gv27d1nRvLYrK9ktUA5UA6uJS5z3WbUAIUkCC+//LLtZXeEOXPm4FKKUx2Vwj4mKkVRSUlIQpHbUvw5wJPAecB1mCmi5iulnlVKPWu7NCHm9ddf58MPP6Sx37iQpVu2FREaBp2JkdiN2bPvjrgcKe+88w4+n8HZ/ey19udsTmJ3lZvdVW5+tzKVOZuTbCt7cr8GvD5fyOOkO8Krr76KJAkq1/6Hp5QL0mR9igQpD4El7AHfQB9Lly51bADijh07eGfBAk5SivQot/b9DAb6i/Dvp5+2fd6Otnz8JUqpJ5RSZwE3ABnAehG5zlYpwsCmTZv429/+hi8jl6Y+Y50Wp/2446nNP5uqmlruvvueiBrc9cH77zEkw0efFHsjeXZXuanzuajzudhUHsfuKvtyOvdJMcjv5uPDD963rcxgOHDgACtWrMCX54vq4Go1SKFQjqRuVkrxf3/7GwnWdIaxgiCcrxRlFRXMmTPH1rLbdamJyDjgp8C1wDtEmZuntraWu2bfjc+TRP2giRHXmdsWKqk7dXmRNbhrz5497Ni5iwm9It+335wJ2Q1s37EzInL4vPHGGyjCOLlKqEgB1Vsx/835IfFJH4vFixezctUqzlYGyTFi7fvJRTgBeHHePHbv3m1buW117t4rIquAnwMfAQVKqZuVUhtskyAMPProoxw6VEjd4EkhGaQVv3sZrtoSXLUlJG54i/jd9ucw8WUOoSlzCHPmzImIATP+8L0Te0XOKN324pf5008/dVSO+vp63nzrTVQfBfZ5sxzDyDeoKK9gyZIlYauzpqaGvz72GDkiUZWXpyOcC8QZij//6U+2RU61ZfHfhZkFfAzwAPCliHwtImtFxHnt0w4++eQT3n33XRpzxmCk9Q5JHa6aEsTXhPiacFcV4qoJzcTJjXkTUAlp3H//76irC3+e+0CWL1tG/zSDnonRZ6lmJir6pxksW/aZo3J88MEHVFdVm526sUA2SLrw0ssvhS2086mnnqKsrIwZSuGKMWvfT6o1UcvqNWtsy+DbluIfCEwGplufC62Pfzmiqaqq4k9/+jMqpSdNfcc5LU7wuOOpG3gGhw4V8vTTTzsmRk1NDWvXrWV0j+iz9v2M7tHI2rVrHZvs3jAM5r04D+kukOmICPYj4Ms3QzvD8Va6Y8cOXn/tNU4C+sWo0vdzIuZELU88/rgt12xbnbu7m3+AGmCPtRzRPPnkk5SVl1E/8AxwRXHPWQBGeg5NvUbw8ssvOza14JdffonPZzC6Z+RPxtEao3s24fMZrFrlTHfVihUr2LtnL74h0TVgqy38oZ3hmADnH48/TgLC5JDX5DwuhKlKUVpebstUrW35+MeLyBIReU1EThCRdcA64JCInB907SFk69atzJ8/n6ZeIzFSYsWkMmnMPQniknj0scccGS25fPlykjzC0IzIiTDqKEMzvCR5xLFkeM8995yZjC0EIZyO4gHfYB+fffZZSPMibd68mRWff87pMdih2xq5CMcBr7z8MtXV1UGV1ZYZ/H/AH4AXgEXA/yilegNnYvr8I5a///3vEJdIY78YcPE0xxNPfd8TWb9uHYsXLw5r1T6fj6WffMzong14ovglyuOC43s08OnST8I+ScvatWtZu3atae1HcRu2hspXiEdssUxb4+WXXyYxhjt0W+NMoLauLugEbm1ddh6l1PtKqZeBQqXUcgCl1Kagag0xq1at4ssvv6Q+Zwx4InAmCxvwZg2B5O78v6eeDmts/9q1aykrr6AgK3r9+34KejVSWlYe9iipOXPmIImCGhhj1r6fBHNA1/sfvE9hYaHtxTc1NbH0k08YqRSJXcTa99MHobcIS4I0+NpS/IGmUPMwkoi9ap9++l9IQireXsOdFiV0iIv6vieyf9/esEzO7Ofdd98lySOMy4pe/76fcVlNJHokpOlvm7N9+3aWL1+Ob7AvKlIvdxY1VGEoIyR5prZs2UJtXR1DbS85OhiqFOvWrQtqvERbin+MiFSKSBUw2lr2r0dkArz169ebc+f2HgWuGL6zAF/3AZDcnbkvzAuLr7+iooKFH37AKb3MFMfRTqIbxveqZ9HCD6msrAxLnS+88ALiEVR+xNpN9pAMRq7Bm2+9afvMZ/v37wcid4KyUJMFGEoFNV9HW1E9bqVUulIqTSnlsZb96xGZ1vKVV15BPAl4s7qAPSBCQ/YodmzfFpbMiPPnz6ehsYnz+kdu3v2Ocl7/euobGsOSaqCoqIgPF36Ib6AP4kNeneOoYYrGhkbeeOMNW8v1j2FxYr68eiApKYnLLruMpKQknLgT/L87mLE8MdW1VFVVxUcff0xjz8Hg7gJ3FuDtORjxxId8MvGamhrmvTCXMT2byI3AWbY6S26qwZieTcx7YW7IY/rnz5+P4TNi39r30w3Ihtdef83WfqikJHOYsxNKtx6YNm0at956K9OmTXNMBoDk5OROlxFTin/JkiV4m5q6hrXvx+2hsftAFi1eTEND6PLmvPjii1RV1/Cdwc6OGA4F3xlcR2VVNfPmzQtZHV6vlzfmv4HKUZAasmoiDl++j9KSUj77zL5R0v379wfA/m7jtkkE3n77bf7617/y9ttvO/LWcQjweDzk5OR0uoyYUvyffvopkpiGkdzTaVHCiq/HQBobGkKWs//QoUO8MPd5xmc3MijdF5I6nGRQuo9Tsht5Ye7zIUsr/Pnnn1NeVo4xMHbeltpFb5AksfWNND8/n4T4eHbYVmL7ScR0sbzyyivU1dU5ovh3iDBs6FDi4zvv1YgZxe/1elm5ahWN3XKjLvtmsPjSeyPuOD7//POQlP/4449j+LxclR971r6fq/LrMLxN/OMfj4ek/IULFyIJYs5w0ZVwgS/Xx4oVK2ybP9bj8XD6GWewXlx4Ize4MCQUoTigFJPOOiuocmJG8e/atYvGhgZ8qdE2d50NuDz4knuyfoP9SVNXrlzJ4sWLmTGglsyk2LVWs5IMLsyrY9GixaxcudLWsr1eL0s/XYovJzYHbLWF6qfw+Xy2jpKeOnUqdcpgvW0lRgdfAG6Xi8mTg0tUEbLLUEQSReRzEVkjIutF5F5rew8R+UBEtlrf3e2ob+vWrQAYKV3LzePHl5LJ9m3bbQ3rbGxs5C9//jPZyYppA2Inkqc1pg+oJztZ8ZdH/kxTk33jFLZs2UJdbR2qd9eyTo/QA1wJLltdkQUFBfTPzeVTEVQXsfrrUHwpwtmTJ5OZGVwamlDaHw3A2UqpMcBY4HwRGQ/cDixUSg0BFlrrQeOfllAldKGeswCMhFSamhpte50Gc1j83v37uX5oNfExELffFvFuuHZoNXv37bd1/ti1a9eaC1m2Fdl+mo4OP8SJcXcCvh4+1nxtX8ixy+XiqpkzOagU22wrNbJZATQoxVVXXRV0WSFT/MrEn0kozvoo4CLAP1/vs8DFdtRXXl6OeOJiftBWayiP2c1UXl5uS3nl5eXM+c+znJDZxJjM6E3G1lFOyPQyNrOJ/zz7rG1tuXPnTlxJLmcCz5uODj90RPEDKkOxf99+WyPPzjvvPLIyM/moC/TpNaJY5nIxYfx4hgwZEnR5IfU4iohbRFYDh4EPlFIrgGyl1EEA67vFAXgicouIrBSRlUVFRe2pyz7BO4qv8WiryudcHhu72mHOnDnU19dz1ZDw56uv88pR7VnnDe9/O3NILfX1dTz33HO2lHfgwAEMm+clbjdxR4cf4tSwy1RzbtzDhw/bVmRcXBwzr76a3UqxO8bdPauAWsPg2uvsme48pIpfKeVTSo0F+gEni8ioDpz7pFKqQClVkJXV9jtyQkICyucFFf4bTLyNR1lV4g2/4hfDtMqDCfHyU1FRwZvz3+DU7Ab6OqCwar1yVHvWhlnx900xmJDdwPw33rAllUNxaTEqwSHFFHd0+KFTil9ZM7WVlZXZWu60adNIS03F2bnUQouBYrnLxajjjuP44+3JlBOWGAOlVDmwBDgfM5d/DoD1bYsJkJ2dDUohjeG3UJUn/iirSnnCP2pYGqpwud307Bl85/Z7771HfUMj0/Kc6dBN9qij2jPZE36lOW1AA/UNDbZMddfY0Ihyx7ZF2iZWH5GdneZg9l9Mv/BCNgEVMWr1bwVKDYPLLr/ctjJDGdWTJSIZ1nIScA6wCZgPzLIOmwXYksgjNzcXAFedvRZFu3DHH21VOZAuwlVXTu/eOXg8wfdxLFm8iP5phmOpGZI86qj2THJA8fdP89E/zWDJ4uAzn7piZPa3SGXGjBkYQFRMAt4JvgK6padz5pln2lZmKK/IHGCxNSn7F5g+/reAB4EpIrIVmGKtB82wYcNwud24qpwYyO0wShFXfYgxo4N/DWxsbGTDxk2M7Rm69A/RwpieDazfsDGo9LcAKSkpSGPsd0AeE8vQT021P+qub9++jBg+nLUx2MnbgGKLFcJph1HnJ5RRPV8rpU5QSo1WSo1SSt1nbS9RSk1WSg2xvkvtqC85OZkRI0YQV7HfjuKiCldNMaqpnnHjgp9tbO/evRiGQW5q7KVm6Ci5qT4Mw2Dfvn1BlZOVmYWroWtb/VJnKuUePXqEpPwzJ07koFJUxZi7ZxfQpBRnnHGGreXG1NU48cwzkZpipN7e/N+RjqdkO263m1NPPTXosvypXlPiYusG6gwplospmPS3AH369IFqInjqojBQbUbh2NEH1RIFBQUAjuTvCSU7gPi4ONs6df3ElOI/++yzERE8RVudFiV8GAbxZTs55ZRTSEtLC7q4uDgz7KPBF3uvzR2l0TDbINhX7EGDBqGaFIQ/7iBikHJh4KCBIevvyM/PJzEhgeDezSKPvSIMGzaMhAR7p5CNKcXfq1cvTj7lFBKKt4DRNVwV7rLdqIYaLrzwQlvKy83NRUTYW90Fhuq2wZ4qNy6RI4EDnWXYsGEASEkXfZgqcJW7GDZ0WMiqcLvdDBkyhAMxNAevgaIQGD5ihO1lx5TiB/jOpZeiGmtxl+50WpSwEH94PVm9shk/frwt5SUnJzNoYB5rS7vGRDbHYl1ZPAMH5gU14QXA4MGDSUxKhLbHIcYm5aAaFWPGjAlpNYMGD6bIFTu5e8ox/fsDBw60veyYU/wnn3wyuf37k1C4FsIwD62TuKoP46os5MorLsftts9CP/e889la7mZ/dcxdHu1mX7WLreVuzj3v/KDL8ng8jDthHO7D7i7p55dC0wq3I/jgWOTl5VFnGFS3fWhU4B/glJeXZ3vZMXdnu1wurp45E6kpwR3jET5xB74mOSWF6dOn21ru1KlTSUyI59UdSbaWG028tiOJxIR4pk6dakt5EyZMQFUrCM+c7hGF66CL/CH5QWeUbIsBAwYAsfNiVWx9+3+XncSc4geYMmUK3Xv0JP5g6CcgdwqpK8dTtpvvXHpp0K6I5mRkZHDVzKv5/HA8m8q6XtK7TWUePj8cz8yrryEjI8OWMk8//XREBNkbOz7odlELlMBZk4KbOKQ9+C1j+7IBOcthoEdGhi1BG82JScUfHx/P1TOvwlV5EFd1rFwGRxN3YA1x8XFcbuMw7kCuuuoqcnpn8+TGNOq7TnJO6rzwz41p5PTOtiX9rZ+ePXsyduxY3Hu7lrtHdpsPurPPPjvkdfXs2ZO0lBRCM3lm+CkUYVB+fkjKjknFD3DhhReSkppK3IHYs/qloYa40u1cOH26bRZpc5KTk/ntHXdSVAfPbE6O9e4SwOwSenZzMsV1cMedd5mZVm1k2rRpprsnNm2Rb6PAvdvN6NGj6du3b8irExGGjRjB/hgYwduE4pBSDB8+PCTlx6ziT05O5juXXoqnbA9SF1sDujyH1uECrrzyypDWM2bMGG644UaWHkzgw332xhFHIh/uS2DpwQRuuOFGRo8ebXv5EydOJL1bOq6tMXvbHc1BUFWKSy65JGxVjho1ikKlqAvRa1UOkGB98gjdFMp7AQM47rjjQlJ+TF+Bl156KW6Pm7jCdU6LYh++RhKKtjBp0iRyckI/c/esWbMYP/4UntuSzIbS2PX3byj18NyWZMaPP4VZs2a1fUInSEhI4NJLLkUOCsSWLfJtFLg3ucnMymTixIlhq/bEE09EEboRvBcg5GAq/JsRLgjRuIFtmIEqY8eODUn5Ma34e/TowblTphBfsg28sZF0zFO0DeVtCJlvvzkul4vZs+8mNzeXx9alc7Am9i6ZgzUuHluXTm7//syefXdIs2ledtllJCUn4Vofe+14FIeAEph1/Sxbk4u1xXHHHUe3tLSonoRdoVjvcnHCCSeQkpISkjpi/OozrX7la8JTHANpHJQioWgjQ4cOC9krYEukpqby4MN/JC4pjT+t6UZliDNNDkjzkeQ2SHIbDM9oYkBa6EZhVzYKf1zTjbikNB586OGQZI8MJD09natnXo3sl9iJO2yOAZ6vPfTO6c0FF1wQ1qo9Hg9nTZ7MJpGQuXtCzR7M/PuTJ08OWR0xr/iHDRvGsOHDSSjaHPUDulzVh6C2jEsuuTjsdffp04cHHnyIsqY4HlmTRmMIM2JcN6yOAWk+BqT5uLOgmuuGBZckrTUaffDImjTKm+J48KGHzWRqYeDKK68kMysTz2qP6cgNISpDoeKsT5ZCZYT+HpBtgqpQ/OiHPzqS+ymczJgxgyalWBX2mu1hOZCSnBzSSKiYV/wAF82YAbVlUR/a6Tm8mcSkpLCExrXEcccdx12zZ7O90s0T61Mwovg5aij4x/oUtle6uWv2bEaOHBm2uhMTE/n5z36OKlfIxtC+PamxCjKADDAmGeZ6KKkG93o34yeMtz2VcHvJz8/nhLFj+czlojHKrP4iFOuBC2fMsH18TiBdQvGfffbZJCQk4ina4rQoncfXSHzZLqacc47tYYYdYeLEifzgBz/k88PxvLQtekf2vrQtiS8Ox/PDH/4orJ2Pfk4//XTOOeccXBtdUBL26kODAe7P3STGJ/KL236BOBhWedPNN1NlGCx3TILOsRBITEjg6quvDmk9XULxJycnc9ZZk4gv2wmG/aORjJSeKHccyh2HL603Ror9Occ9pbtQvibbUggEwxVXXMGMGTN4a3ciHx2IvmRuHx2I563dicyYMSNsneQt8bOf/YysrCw8n3sguEm+IgJZK1ACt//6dnr16uWoLGPGjOHUCRP4SCRq5uLdbln7M6+xb8R4a3QJxQ9w3nnnobyNuEt3215244AJGMk9MZJ7Uj9yOo0DJtheR1zxVvr07RvWTt3WEBF++tOfcuKJ4/jXphS2lEdPCuct5W7+tSmFE08cx09/+lNHrdK0tDTuv+9+XPUu3Muje0Sv7BFcW1xcdNFFnHVW6NMztIdbf/IT8Hh4CyI+Y2cjijddLvr07s3MmTNDXl+XUfwnnHACmVm9iIvC6B6pr8JVeZCp55/vqKIKxOPxcN9995Od3ZvH1qZTWh8Zch2LknrhsbXp9O6dw3333R/WMMPWGDlyJLf9/DY4BLI68tuwRUrBvcrNcaOO49Zbb3VamiP06dOH//nud9mEOWF5JPM+UGIY/Or2222fdKUluozid7lcTD3/PNyV+5GGGqfF6RD+UNTzzjvPYUmOJi0tjQcefIhGSeBv69LwhjhCJRi8BvxtbRqNksADDz4UksRXnWX69OlcccUVuLa5kK1RpvxrwPOph16ZvfjD7//gSBTPsbj88ssZc/zxLBChOEKt/o0oVmDKGurU1X66jOIHzJhipfAUR1EnrzKIL9nKiQUF9O7d22lpvsXAgQP59e2/YWu5mxe2Rm5n79ytSWyrcHP7b34bkvzmwfL973+fM844A9dqV/Rk8KwHzycekj3J/PHhP9K9e3enJfoWbrebO2fPJiElhRdFaIow5V+O4nWXiyH5+dxyyy1hq7dLKf6+fftywgknEF+8BVQEm6cBuCv2Q30VF9qcc99Ozj77bL7zne/w3t5EVh2OLIsPYOXhON7fm8hll10WMf7n5rjdbmbPns3xxx+P+3M3EZ9issm09D0NHh5+6OGIfJj6yc7O5s7ZszkEvEHk+PubUMwVQRISuPe++8Li4vHTpRQ/mCN5qa/CXbbHaVHaRVzherr36MmZZ57ptCjH5Pvf/z5Dh+Tz5KY0SiLI319SL/y/TWkMHTqE733ve06Lc0wSEhJ48MEHycvLw/OZJ3LDPH3g/tSNVAj333c/xx9/vNMStcn48eO56aabWAMsc1oYzIfPG0AhcPc999CvX7+w1t/lFP9pp51GZlYv4qMgcZvUluKu2Mell1wcER2RxyI+Pp6777kXn8Txzw2pETG4y1Dwzw2p+CSeu+++h/j4yA89TUtL4y+P/IXevXrjWeoxJ16NJAxwLXMhxcIdv72DU0891WmJ2s11113H6aefzrvANoet/qXAGuCmm25iwgT7owDbosspfo/HwzVXz8RVVYir8qDT4hyT+AOrSUhMDGta22DIzc3lx7f+hA2lHt7f63wa5/f3JrCh1MOtP/kJubm5TovTbnr06MFjjz5Gj/QeeD7xQJXTElkokM8FOSj8/Oc/Z8qUKU5L1CFcLhd33nknA/PyeFGEIoeU/2YUHwBnn3UW119/vSMydDnFD2YURUb37iTs/zJi8/dIbSme0p1859JLSU9Pd1qcdjN9+nQmjB/Pi9uTOeBgJs8DNS5e3J7ChAnjmTZtmmNydJbevXvz2KOPkZaQZir/WocFUiBfCa69Lm655RYuuugihwXqHMnJyTzw0EMkpKXxvMtFbZiVfyGKl0UYMmQIt//mN46FZ3dJxZ+QkMBNN96Iq/Ig7vLI9PUn7P2C5OTkkA/dthsR4Ze/+hWJSSk8tdEZl4+h4KmNqSQmJfPLX/4qYsY+dJT+/fvz5z/9mQQjwXT7ODi6VzYIru0uZs6cybXXXuucIDaQk5PD7//wBypEeBHBFyblX4NirstFSkYGDzz4IImJiWGptyW6pOIH0zLtl5tL4t7PQ5LGIRjc5Xtxl+9l1vXXR5W17yczM5Mf/fhWtpS7WejAzF0L9yWwpdzNj358K5mZmWGv306GDRvGQw8+hKvGhftTN4QwK2pryHbBtcHF1KlTI76DvL2MHj2aX/7qV+xA8U4Y6vOimCdCjdvNAw8+SFZWVhhqbZ0uq/g9Hg8//9nPoK4isubl9XlJ3P0Zuf37c9lllzktTac5//zzOXHcOF7akUJ5Q/gs7rIG4aUdKZw4bhznn39+2OoNJSeccAJ3z74bKRFcK1zhTe1wAFxfuRg/YTy//OUvo/btqSWmTp3KFVdcwQpgVYgb9R1gl1L8+vbbGTFiREjrag9dVvEDFBQUcM455xB/cA1SW+q0OADE71sF9VX88he/iLhRkB1BRPj5bbfhVS7mhnFg1wtbk/Di5ue33RZTSmrSpEn84Ac/QPaLmQwtHJSDZ4WH/Px87r3n3oiPLOsM3/ve9yg48UTeFGFviJT/ShSfAzNnzoyYDvEurfgBbr31VtJT00ja8TEYDrxHB+CqLCSucB0XXXRRyObaDCe5ubnMvPoaPitMCEsit83lbj4rTGDmzKujKoqnvfizoro2u5DdIVb+DeD5zEP3bt15+KGHHU0FHko8Hg/33HsvWVlZvOhyUWOz8t+P4m0RTjzxxLCOzG2LLq/4MzIy+PWvf4XUFBO3/0vnBPE2krTzI7J79+b73/++c3LYzDXXXENWZk+e2xLajl5DwXNbUsnK7Mk111wTuoocRET4yU9+wugxo3Gvcocuxt8A93I3nkYPDz7wYNT3k7RFeno69//+99S6XLyCYNik/OtQvOhy0b1nT+6++27c7sjJYtvlFT/AGWecwbRp04g/8DWuigPhF0ApEnZ9iquxhnvunh3SmXfCTVJSEt+95X/ZUeli+aHQua6WH4pjZ6WLW/73ezFrnQLExcVx/333k5GRgWe5B5rsr0PWCxyGX/ziFwwfPtz+CiKQYcOGcetPfsI2FEttKM8/MrcCuPe++0KeX7+jaMVvceutt9K3Xz+Sd34ETaGZ47U1PEVb8JRs56abboqIfPt2M2XKFAYPGsirO1PwhSBFkteAV3ekMHjQoIjxoYaS7t2787v7fofUCLJK7O3sPQSuTS6mTZsWEZP+hJMZM2YwceJEFgIHgmzUr4D1wHe/+11GjRplh3i2ohW/RVJSEvffdy9uo5HE7UvCNrBLaktJ3LOMcePGxayLwu12c/P/fJdDNcLSg/anTfj0YDyHaoX/+e53cbm6xiV9/PHHc+ONN+Laa6O/vxE8X3jol9svovLqhwsR4Ze//CXdu/fgFXF1OpNnOYoFIowZPZqrrrrKZintIWR3iYjkishiEdkoIutF5CfW9h4i8oGIbLW+IyaXa35+Pj+59VbcFfuJO/h16Cv0NZG8fTFpqancddddEeUDtJvTTjuNoUOHMH9Psq1Wv8+A+buTGTp0SFTljbGDa6+9llHHj8K9xm3LyF75UpBG4Z6774lpd9mxSE9P5/bf/oYiZfBRJ85XKOYDEh/Pb++4I2Lv6VCaR17gNqXUCGA88EMRGQncDixUSg3BnFv49hDK0GFmzJjBWWedRfy+lbiqQpsbN373Mqgr5567Z9Ozp/3z9EYSIsJ1113PoRphhY2pm1ccjuNQrXD99bNiKnyzPbjdbu747R3ESzyuVUHG9+8H114XN95wI0OHDrVNxmjklFNOYcqUKXwCHO5go64DtgK3/O//kpOTEwrxbCFkil8pdVAp9aW1XAVsBPoCFwHPWoc9C1wcKhk6g/91Lzu7N0k7loC3IST1uEu2E1e0heuuvZaCgoKQ1BFpnHHGGeT27cs7e5Jt8aQpBQv2JJPbry+nn3568AVGIX379uWWW25BCgXZ08kHXxPEfRXHoMGDYtbd2FF+/OMfk5SczDtIu/P3N6J4z+Uif/DgiE+sGBaHqIjkAScAK4BspdRBMB8OQK9wyNARUlNTufeeu3E11pCw61Pb/f3SUE3Srs8YMWIkN954o61lRzIul4srrrqKnZUutlQE/wq8udzDrkoXV141s8v49lvi0ksvZdjwYbi/dncqn4+sFVS94vZf3x6Tg7Q6Q0ZGBjfedBPbUGxv5znLgArD4Kc/+1nEunj8hPxuEZFU4FXgp0qpyg6cd4uIrBSRlUVFRaETsBVGjjSVsqdkB+7SHfYVrBQJOz4m3iPcfffsLnejnXvuuaSmJPPenuATVL2/N4G01BTOPfdcGySLXtxuN7/8xS+hAWRdB63+MnBtd3HppZd2mdDN9nLJJZfQu1cvPpC2rf46FEtFOO3UUxk9enSYJOw8IVX8IhKHqfSfV0q9Zm0+JCI51v4c4HBL5yqlnlRKFSilCpxKaHTNNdcwdNgwknYvty3E03N4E+7KA/z4Rz+iT58+tpQZTSQlJTFt+oWsKoqnLIgcPmUNwsqieKZNv9DRLIeRwtChQ7n44otx7XC1f2CXAvdqN+nd0rnppptCKV5UEhcXx6wbb+SAatvq/xyoV4qbbr45HKIFTSijegR4GtiolHokYNd8YJa1PAtzGsyIxOPxcMdvf4tLNRG/Z0XQ5UljLYn7vmDcuHFceOGFNkgYnVx00UX4FCzZ3/nMnUv2J2AoojYvfCi4+eabSU1NNV0+7fBOyj6BYvje/36PtLS00AsYhUyZMoWe3XuwlNaNFC+K5S4XJ598MkOGDAmjdJ0nlBb/acB1wNkistr6XAA8CEwRka3AFGs9Yhk4cCBXz5xJXPE2XFWFQZUVt/dzXBjcFmMJxDpKv379OKmggCUHkzqVxsFnwOKDSZxUUEDfvn3tFzBKSU9P58YbbjQnag8ISFMZCpXRrKENcK9zkzcwr8sN1OoI8fHxXHzpJWxHUdLK03QjUG0YXH755eEVLghCGdWzVCklSqnRSqmx1meBUqpEKTVZKTXE+o6MtJjH4NprryUzM4vEPSs63dHrqi4irngbM6+6KiYTiHWUGRddREkdrCnueGjnmpI4Suvgoosvtl+wKOfiiy8mu3c27nXfWP1qrEKNPfq6lZ2Cqlb84Ps/iPiOSKeZNm0aLpeL1jJ5fYnQu1cvTjrppLDKFQxdNxSiAyQlJXHLLd9Fqotwl+7qVBnx+74gLT096mcvsovTTjuNHt0zWNQJd8+i/Qn07NG9yw3Yag9xcXHcfNPNUAa0lnbKB+5Nbo4bdRynnHJKOMWLSjIzMyk48UTWulzf6uStRrEdxZTzzouqyLLokdRhpkyZwoABeSQe6Pg8va7Kg7grDjDr+utjKgFbMHg8HqZNv5A1JXEU17ff7VVcL3xdEscF06Z3uYio9nLOOefQO6c37k0t+/plt6BqFTfecGOXdjl2hLMnT6bMMDjYbPtGzCY+++yzHZCq82jF307cbjezZl0PtWW4y3Z36Nz4A2tI75ahOyKbMX36dBTwUQes/iX7E1BIl+4cbwuPx8M1V18DpUBxs50K3Fvd5A/JjyrXhNNMmDABEWFzs+2bgd69ejFo0CAnxOo0WvF3gEmTJpHdO4f4wrXtPkdqS3FX7OPKKy4nISH8889GMjk5OZx00sl8dDCpXfl7fAZ8dDCJk046id69e4dewCjmvPPOIyU1BdnWzKI/DKpSceUVV2prvwN0796dYUOGsC0guseHYpcI4089NeraUiv+DuDxeLj8su/gqjqEq6a5KdUycYXriYuLZ8aMGSGWLjqZMWMGpfWwuqTtTt7VJXGU1esQzvaQmJjIBVMvwH3ADQFZR2SnkJKawqRJkxyTLVoZV1DAPhS9gBxgP9CgFOPGjXNYso6jFX8HueCCC0hISMRzaEPbB3sbiS/dwZQp59CtW7fQCxeFnHrqqfTontGumP7FVqfuhAkTwiBZ9DN16lSUocx4fQAvuA+4mXLOFP322QnGjBmDAYwCLkDYY22PhpG6zdGKv4OkpqYyefLZxJfuBN+xE6N4SrahfE3aQj0GHo+HC6ZNZ01JHCXH6OQt0Z26HWbw4MH06dsH137rNj8IyqeiriMyUvBPkrTXWt8L9M7OpkePHo7J1Fm04u8EF154IcrXhKfk2Dl84ou3MHDQIJ0DpQ2mTZuGoWDpwdat0KUHzZG606ZNC6Nk0Y2IcMbpZyBFAl6QQtPNc/zxxzstWlSSnp5OTnb2kSjZgy4XI0aOdFSmzqIVfycYOXIkffvlEle8rdVjpLYMqS5m2gUXRF3HT7jp27cvY8eO4ePCxBYjZZWCjwsTGTt2TJfMbxQMBQUFKENBCXiKPZw47kQ9YCsIhg4fziGXi3oUZYYRNSkamqMVfycQEaZdMBVXVSFS33LCUU/xNlwuV5eYA9YOpk69gEM1wlYrXfOANB8D0nwAbK1wc6hGmDr1AidFjEpGWhapHBCMaiMi53+NJgYNGkSJYbA/YD0a0Yq/k0yePBmgZXePUsSX7aDgpJPo3j1iZpaMaCZOnEh8XBzLCs05ea8bVsd1w8yMqMsK40mIj2PixIlOihiVpKWl0advH2SX+dY5bNgwhyWKbvr3748CtljrAwYMcFKcTqMVfyfJycnhuFGjiC/7tuJ3VR+G+iqmnHOOA5JFJ8nJyUw49VQ+L0o8KnGboWBFUSITTj1Nj3ruJAPzBiJeU/Hn5eU5K0yU069fP8AcuOV2ucjOznZWoE6iFX8QTD77bKgpReoqMFJ6YqSY8+Z6Snfi9ng47bTTHJYwupg0aRIVDbAtYHaurRVuKhvQ1n4Q+DOYJiQmkJGR4awwUY6/j6kE6JWVFbURZlrxB8GZZ54JgKdsF40DJtA4YAIoRVz5bgoKCkhNTXVYwuhi/PjxeNxuVhXFH9n2ZVE8Hreb8ePHOyhZdNOrlzm7aWJiog40CJLU1FSSrDEQ2RE8mXpbaMUfBL169SJ/yBA85XuObJO6cqiv4owuOvl3MKSkpDDq+FGsLf1G8a8tjef40ceTkpLioGTRjT/O3O3S0TzBIiJkZmYC4NTMgHagFX+QnH7aaaZP32uOi/eUm8M79OjSznHSSSezp8pFVaNQ1SjsqXJRUKCTiQVDfn4+aelpTJ8+3WlRYoIePU2XbjQHbkSngyqCKCgo4JlnnsFdeRBfjzzclfvJ7T8gqq0BJ/EPf99S8c2lOWbMGKfEiQny8vJ4+623nRYjZkiyggyiOQ2LtviDZOTIkcQnJOCuPAjKwFN9mJMKTnRarKhl+PDhuFwudlS42V7hxu126RBETUSSnp7utAidRiv+IPF4PIwYPhxPTRGu2lKUr0kPkgmChIQE8gb0Z1eVh91VHvIGDNAJxTQRSTSHF2vFbwMjR45EaktMXz8wYsQIhyWKbgYNzudAXRz76+IYOGiw0+JoNEfhn2IxMTHRYUk6j1b8NjB48GAwfHhKd5GQkEhOFId5RQL9+/enqBaKa81ljSaSuOSSSxiYl2fe91GK7ty1Af+wbXflAfKGDYuqSZcjkcAHp07Kpok0TjnllKifpF5rKBvwj4yEb4Z0azqPf8BR82WNRmMPWvHbQGpqKknJ5gCjaM3dEUkETmwRjZNcaDSRjlb8NhEfb84Z29Ma3KHpPIH5ZHRuGY3GfrTitwmXlQNFK6rgCcxxpFM1aDT2oxW/TfiTX6WlpTksSfQTOEOUni1Ko7EfrfhtRluoGo0m0tHhnDahrMlik5KSHJYkNvjnP//ptAgaTcyiLX6bOMeabUv7+O1hxIgRegS0RhMixG+pRjIFBQVq5cqVTotxTHw+H+Xl5TqqR6PRRAwiskopVdB8u7b4bcLtdmulr9FoogKt+DUajaaLoRW/RqPRdDG04tdoNJouhlb8Go1G08XQil+j0Wi6GFrxazQaTRdDK36NRqPpYkTFAC4RKQJ2Oy1HO8gEip0WIobQ7Wkfui3tJVrac4BSKqv5xqhQ/NGCiKxsaZScpnPo9rQP3Zb2Eu3tqV09Go1G08XQil+j0Wi6GFrx28uTTgsQY+j2tA/dlvYS1e2pffwajUbTxdAWv0aj0XQxtOLXaDSaLoZW/BYi8i8ROSwi65ptHysiy0VktYisFJGTO1juRSLydcD5pwfsO19ENovINhG53a7f4jQikigin4vIGhFZLyL3BuzrISIfiMhW67t7J+s4SUR8InJZwLaYbE8/IuIWka9E5K2AbUG1p4hMEpEK6/pcLSKzA/bFZHuKyC4RWeu/JwO2B31tWu252rruP2qrTsdQSumP2c9xJjAOWNds+/vAVGv5AmBJB8tN5Zu+lNHAJmvZDWwHBgHxwBpgpNPtYFNbCpBqLccBK4Dx1vrDwO3W8u3AQ50o3w0sAhYAl8V6ewb87p8Dc4G3ArYF1Z7ApMDymrVxTLYnsAvIbGF7sG2ZAWwA+lvrvdqq06mPtvgtlFIfA6Ut7QLSreVuwIEOllutrH8eSLHKAzgZ2KaU2qGUagTmARd1WPAIRJlUW6tx1sf/uy8CnrWWnwUu7kQVPwZeBQ4HbIvZ9gQQkX7ANOCpZrvsaM+WiOn2bIVg2/Jq4DWl1B4ApdThNo53DK342+anwB9FZC/wJ+A3HS1ARC4RkU3A28BN1ua+wN6Aw/ZZ22ICyy2xGlM5f6CUWmHtylZKHQSwvnt1sNy+wCXAE812xXR7Ao8CvwKMZtuDak+LCZZb7h0ROc7aFsvtqYD3RWSViNwSsD3YthwKdBeRJVbZ17ejTkfQir9tvg/8TCmVC/wMeLqjBSilXldKDce0IO63NktLh3ZWyEhDKeVTSo0F+gEni8gom4p+FPi1UsrXbHvMtqeITAcOK6VWhaD4LzHzuYwB/gb8119tC8fGRHsCpymlxgFTgR+KyJk2lesBTsR8MzsPuEtEhoa4zk6hFX/bzAJes5ZfxnwFPgoR+b2/c+xYBVnupMEikolpQeUG7O5HB91I0YBSqhxYApxvbTokIjkA1ve3XofbaM8CYJ6I7AIuAx4XkYuJ7fY8DZhh/eZ5wNki8py1L6j2VEpV+t1ySqkFQFysX59KqQPW92Hgdb65p4O9NvcB7yqlapRSxcDHwJg26nQGpzsZIukD5PHtzt2NwCRreTKwqoNl5vNN5+44YD+mNeUBdgAD+abz7Din28CmdswCMqzlJOATYLq1/keO7kB7OIh6nuGbzt2Ybc9mv3kSR3fuBtWeQO+A6/NkYE8sX5+Y/WxpAcufAefb1JYjgIVW2yUD64BRx6rTqY+n7UdD10BEXsC8qTJFZB9wt1LqaeC7wGMi4gHqgY76574DXC8iTUAdcKUyrwCviPwIeA8zguJfSqn19vwax8kBnhURN+Zb5UtKKX8I4oPASyJyM6aSudyOCpVSsdyexyLY9rwM+L6IeDGvz6ti/PrMBl4XETAV9Fyl1LvWvqDaUim1UUTeBb7G7It5Sim1TkQGHaNOR9ApGzQajaaLoX38Go1G08XQil+j0Wi6GFrxazQaTRdDK36NRqPpYmjFr9FoNF0Mrfg1Go2mi6EVv0aj0XQx/j9E5y5OILIy1QAAAABJRU5ErkJggg==\n",
      "text/plain": [
       "<Figure size 432x288 with 1 Axes>"
      ]
     },
     "metadata": {
      "needs_background": "light"
     },
     "output_type": "display_data"
    }
   ],
   "source": [
    "sns.violinplot(x=np.select(ages,values), y='BMI', data=df, order=['18 - 30', '30 - 40', '40 - 50', '50 - 65'])\n",
    "plt.title('Correlation Between Age Groups and BMI')"
   ]
  },
  {
   "cell_type": "markdown",
   "metadata": {},
   "source": [
    "*Unfortunately, we cannot determine a very strong correlation between age and BMI. The individuals with the extremely higher BMI's are seen mostly in the 18-30 age range as we can see from the extended tip at the top. But, it is also home to the lowest BMI individuals as well. Most individuals are sitting right around 30, as depicted by the thicker parts of the violin, although we can see a slightly larger bump towards 32-34 in the age range 50-65. Overall, there is not a definitive positive correlation seen between age and BMI.*"
   ]
  },
  {
   "cell_type": "markdown",
   "metadata": {},
   "source": [
    "---"
   ]
  },
  {
   "cell_type": "markdown",
   "metadata": {},
   "source": [
    "**Finding a correlation between the number of children and the average charge:**"
   ]
  },
  {
   "cell_type": "code",
   "execution_count": 5,
   "metadata": {},
   "outputs": [
    {
     "data": {
      "text/html": [
       "<div>\n",
       "<style scoped>\n",
       "    .dataframe tbody tr th:only-of-type {\n",
       "        vertical-align: middle;\n",
       "    }\n",
       "\n",
       "    .dataframe tbody tr th {\n",
       "        vertical-align: top;\n",
       "    }\n",
       "\n",
       "    .dataframe thead th {\n",
       "        text-align: right;\n",
       "    }\n",
       "</style>\n",
       "<table border=\"1\" class=\"dataframe\">\n",
       "  <thead>\n",
       "    <tr style=\"text-align: right;\">\n",
       "      <th></th>\n",
       "      <th>Age</th>\n",
       "      <th>BMI</th>\n",
       "      <th>Charges</th>\n",
       "    </tr>\n",
       "    <tr>\n",
       "      <th>Children</th>\n",
       "      <th></th>\n",
       "      <th></th>\n",
       "      <th></th>\n",
       "    </tr>\n",
       "  </thead>\n",
       "  <tbody>\n",
       "    <tr>\n",
       "      <th>0</th>\n",
       "      <td>38.444251</td>\n",
       "      <td>30.550697</td>\n",
       "      <td>12365.461672</td>\n",
       "    </tr>\n",
       "    <tr>\n",
       "      <th>1</th>\n",
       "      <td>39.453704</td>\n",
       "      <td>30.621605</td>\n",
       "      <td>12730.706790</td>\n",
       "    </tr>\n",
       "    <tr>\n",
       "      <th>2</th>\n",
       "      <td>39.445833</td>\n",
       "      <td>30.978750</td>\n",
       "      <td>15073.066667</td>\n",
       "    </tr>\n",
       "    <tr>\n",
       "      <th>3</th>\n",
       "      <td>41.566879</td>\n",
       "      <td>30.685350</td>\n",
       "      <td>15354.847134</td>\n",
       "    </tr>\n",
       "    <tr>\n",
       "      <th>4</th>\n",
       "      <td>39.000000</td>\n",
       "      <td>31.388000</td>\n",
       "      <td>13850.200000</td>\n",
       "    </tr>\n",
       "    <tr>\n",
       "      <th>5</th>\n",
       "      <td>35.611111</td>\n",
       "      <td>29.600000</td>\n",
       "      <td>8785.500000</td>\n",
       "    </tr>\n",
       "  </tbody>\n",
       "</table>\n",
       "</div>"
      ],
      "text/plain": [
       "                Age        BMI       Charges\n",
       "Children                                    \n",
       "0         38.444251  30.550697  12365.461672\n",
       "1         39.453704  30.621605  12730.706790\n",
       "2         39.445833  30.978750  15073.066667\n",
       "3         41.566879  30.685350  15354.847134\n",
       "4         39.000000  31.388000  13850.200000\n",
       "5         35.611111  29.600000   8785.500000"
      ]
     },
     "execution_count": 5,
     "metadata": {},
     "output_type": "execute_result"
    }
   ],
   "source": [
    "df.groupby(by=[\"Children\"]).mean()"
   ]
  },
  {
   "cell_type": "code",
   "execution_count": 6,
   "metadata": {},
   "outputs": [
    {
     "data": {
      "text/plain": [
       "Text(0.5, 1.0, 'How Does Number of Children Affect Medical Charges?')"
      ]
     },
     "execution_count": 6,
     "metadata": {},
     "output_type": "execute_result"
    },
    {
     "data": {
      "image/png": "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\n",
      "text/plain": [
       "<Figure size 432x288 with 1 Axes>"
      ]
     },
     "metadata": {
      "needs_background": "light"
     },
     "output_type": "display_data"
    }
   ],
   "source": [
    "sns.barplot(x=\"Children\", y=\"Charges\", data=df)\n",
    "plt.title('How Does Number of Children Affect Medical Charges?')"
   ]
  },
  {
   "cell_type": "markdown",
   "metadata": {},
   "source": [
    "*Demonstrated by the data and visualization above we can see that indivivuals with 0,1,and 4 childern have close average charge of around 12500. The charges of of individuals with 2 and 3 childeren are significantly higher at around 15000. Finally, individuals with 5 children have a lower average charge of around 8000. While a certain number of children correlates with a higher or lower charge , it is not linear in the sense that less childern result in less charges or more childern result in more charges. This is quite interesting in the sense of why there is a general upward trend until the 4th and 5th children, and why the people with 5 children have the lowest charges. Thinking logically, there may be much less people with 4-5 children to draw a sample out of, so it may be a less accurate average than people with 0-3. If so, this makes this calculation unreliable because we do not have a large enough sample of people with >3 children to choose from.*"
   ]
  },
  {
   "cell_type": "code",
   "execution_count": 7,
   "metadata": {},
   "outputs": [
    {
     "data": {
      "text/plain": [
       "False    1295\n",
       "True       43\n",
       "Name: Children, dtype: int64"
      ]
     },
     "execution_count": 7,
     "metadata": {},
     "output_type": "execute_result"
    }
   ],
   "source": [
    "(df['Children'] >= 4).value_counts()"
   ]
  },
  {
   "cell_type": "markdown",
   "metadata": {},
   "source": [
    "*As we predicted, the count of people who have >= 4 children is only ~3.2% of the population sampled (43:1295). This makes the data of people with >= 4 people quite unreliable, and thus, hard for us to accurately say or not if this leads to greater or lesser medical costs.*"
   ]
  },
  {
   "cell_type": "code",
   "execution_count": 8,
   "metadata": {},
   "outputs": [
    {
     "data": {
      "text/html": [
       "<div>\n",
       "<style scoped>\n",
       "    .dataframe tbody tr th:only-of-type {\n",
       "        vertical-align: middle;\n",
       "    }\n",
       "\n",
       "    .dataframe tbody tr th {\n",
       "        vertical-align: top;\n",
       "    }\n",
       "\n",
       "    .dataframe thead th {\n",
       "        text-align: right;\n",
       "    }\n",
       "</style>\n",
       "<table border=\"1\" class=\"dataframe\">\n",
       "  <thead>\n",
       "    <tr style=\"text-align: right;\">\n",
       "      <th></th>\n",
       "      <th>Age</th>\n",
       "      <th>BMI</th>\n",
       "      <th>Charges</th>\n",
       "    </tr>\n",
       "    <tr>\n",
       "      <th>Children</th>\n",
       "      <th></th>\n",
       "      <th></th>\n",
       "      <th></th>\n",
       "    </tr>\n",
       "  </thead>\n",
       "  <tbody>\n",
       "    <tr>\n",
       "      <th>0</th>\n",
       "      <td>38.444251</td>\n",
       "      <td>30.550697</td>\n",
       "      <td>12365.461672</td>\n",
       "    </tr>\n",
       "    <tr>\n",
       "      <th>1</th>\n",
       "      <td>39.453704</td>\n",
       "      <td>30.621605</td>\n",
       "      <td>12730.706790</td>\n",
       "    </tr>\n",
       "    <tr>\n",
       "      <th>2</th>\n",
       "      <td>39.445833</td>\n",
       "      <td>30.978750</td>\n",
       "      <td>15073.066667</td>\n",
       "    </tr>\n",
       "    <tr>\n",
       "      <th>3</th>\n",
       "      <td>41.566879</td>\n",
       "      <td>30.685350</td>\n",
       "      <td>15354.847134</td>\n",
       "    </tr>\n",
       "    <tr>\n",
       "      <th>4</th>\n",
       "      <td>39.000000</td>\n",
       "      <td>31.388000</td>\n",
       "      <td>13850.200000</td>\n",
       "    </tr>\n",
       "    <tr>\n",
       "      <th>5</th>\n",
       "      <td>35.611111</td>\n",
       "      <td>29.600000</td>\n",
       "      <td>8785.500000</td>\n",
       "    </tr>\n",
       "  </tbody>\n",
       "</table>\n",
       "</div>"
      ],
      "text/plain": [
       "                Age        BMI       Charges\n",
       "Children                                    \n",
       "0         38.444251  30.550697  12365.461672\n",
       "1         39.453704  30.621605  12730.706790\n",
       "2         39.445833  30.978750  15073.066667\n",
       "3         41.566879  30.685350  15354.847134\n",
       "4         39.000000  31.388000  13850.200000\n",
       "5         35.611111  29.600000   8785.500000"
      ]
     },
     "execution_count": 8,
     "metadata": {},
     "output_type": "execute_result"
    }
   ],
   "source": [
    "df_children = df.groupby(by='Children').mean()\n",
    "df_children"
   ]
  },
  {
   "cell_type": "markdown",
   "metadata": {},
   "source": [
    "*Unsuspectedly, though, the people with 5 children have a much lower average age and BMI (which may also be correlated themselves), which may explain the lower cost of charges to a certain extent. We delve deeper into the question of if age and BMI are determining factors of costs below.*"
   ]
  },
  {
   "cell_type": "markdown",
   "metadata": {},
   "source": [
    "---"
   ]
  },
  {
   "cell_type": "markdown",
   "metadata": {},
   "source": [
    "**Region / Age - Cost Correlation**"
   ]
  },
  {
   "cell_type": "code",
   "execution_count": 9,
   "metadata": {},
   "outputs": [
    {
     "data": {
      "text/html": [
       "<div>\n",
       "<style scoped>\n",
       "    .dataframe tbody tr th:only-of-type {\n",
       "        vertical-align: middle;\n",
       "    }\n",
       "\n",
       "    .dataframe tbody tr th {\n",
       "        vertical-align: top;\n",
       "    }\n",
       "\n",
       "    .dataframe thead th {\n",
       "        text-align: right;\n",
       "    }\n",
       "</style>\n",
       "<table border=\"1\" class=\"dataframe\">\n",
       "  <thead>\n",
       "    <tr style=\"text-align: right;\">\n",
       "      <th></th>\n",
       "      <th>Age</th>\n",
       "      <th>BMI</th>\n",
       "      <th>Children</th>\n",
       "      <th>Charges</th>\n",
       "    </tr>\n",
       "    <tr>\n",
       "      <th>Region</th>\n",
       "      <th></th>\n",
       "      <th></th>\n",
       "      <th></th>\n",
       "      <th></th>\n",
       "    </tr>\n",
       "  </thead>\n",
       "  <tbody>\n",
       "    <tr>\n",
       "      <th>Northeast</th>\n",
       "      <td>39.268519</td>\n",
       "      <td>29.173457</td>\n",
       "      <td>1.046296</td>\n",
       "      <td>13405.910494</td>\n",
       "    </tr>\n",
       "    <tr>\n",
       "      <th>Northwest</th>\n",
       "      <td>39.196923</td>\n",
       "      <td>29.200615</td>\n",
       "      <td>1.147692</td>\n",
       "      <td>12417.070769</td>\n",
       "    </tr>\n",
       "    <tr>\n",
       "      <th>Southeast</th>\n",
       "      <td>38.939560</td>\n",
       "      <td>33.354945</td>\n",
       "      <td>1.049451</td>\n",
       "      <td>14734.903846</td>\n",
       "    </tr>\n",
       "    <tr>\n",
       "      <th>Southwest</th>\n",
       "      <td>39.455385</td>\n",
       "      <td>30.596615</td>\n",
       "      <td>1.141538</td>\n",
       "      <td>12346.452308</td>\n",
       "    </tr>\n",
       "  </tbody>\n",
       "</table>\n",
       "</div>"
      ],
      "text/plain": [
       "                 Age        BMI  Children       Charges\n",
       "Region                                                 \n",
       "Northeast  39.268519  29.173457  1.046296  13405.910494\n",
       "Northwest  39.196923  29.200615  1.147692  12417.070769\n",
       "Southeast  38.939560  33.354945  1.049451  14734.903846\n",
       "Southwest  39.455385  30.596615  1.141538  12346.452308"
      ]
     },
     "execution_count": 9,
     "metadata": {},
     "output_type": "execute_result"
    }
   ],
   "source": [
    "dfbar=df.groupby(by=\"Region\").mean()\n",
    "dfbar"
   ]
  },
  {
   "cell_type": "code",
   "execution_count": 10,
   "metadata": {},
   "outputs": [
    {
     "data": {
      "text/plain": [
       "<AxesSubplot:xlabel='Region', ylabel='Charges'>"
      ]
     },
     "execution_count": 10,
     "metadata": {},
     "output_type": "execute_result"
    },
    {
     "data": {
      "image/png": "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\n",
      "text/plain": [
       "<Figure size 432x288 with 1 Axes>"
      ]
     },
     "metadata": {
      "needs_background": "light"
     },
     "output_type": "display_data"
    }
   ],
   "source": [
    "sns.barplot(x=\"Region\", y=\"Charges\", data=df)"
   ]
  },
  {
   "cell_type": "code",
   "execution_count": 11,
   "metadata": {},
   "outputs": [
    {
     "data": {
      "text/plain": [
       "Text(0.5, 1.0, 'Region to Age Group Medical Costs')"
      ]
     },
     "execution_count": 11,
     "metadata": {},
     "output_type": "execute_result"
    },
    {
     "data": {
      "image/png": "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\n",
      "text/plain": [
       "<Figure size 432x288 with 1 Axes>"
      ]
     },
     "metadata": {
      "needs_background": "light"
     },
     "output_type": "display_data"
    }
   ],
   "source": [
    "ages = [\n",
    "    (df['Age'] >= 18) & (df['Age'] < 30),\n",
    "    (df['Age'] >= 30) & (df['Age'] < 40),\n",
    "    (df['Age'] >= 40) & (df['Age'] < 50),\n",
    "    (df['Age'] >= 50) & (df['Age'] < 65)\n",
    "]\n",
    "values = ['18 - 30', '30 - 40', '40 - 50', '50 - 65']\n",
    "sns.barplot(x=np.select(ages,values), y='Charges', hue='Region',data=df, order=['18 - 30', '30 - 40', '40 - 50', '50 - 65'])\n",
    "plt.title('Region to Age Group Medical Costs')"
   ]
  },
  {
   "cell_type": "markdown",
   "metadata": {},
   "source": [
    "*Using the top barplot, we can see that there isn't much difference between the average medical expenses per region, other than that the Southeast region comes in a bit higher than the other few, sitting just below 15000 dollars on average. But, when we look more specifically at age ranges, we find that as people get older, the Southeast region seems to take off from the other few regions, specifically ages 40+. This barplot is also interesting because regions aside, we find that age does indeed correlate to higher costs (as seen more clearly below).*"
   ]
  },
  {
   "cell_type": "markdown",
   "metadata": {},
   "source": [
    "---"
   ]
  },
  {
   "cell_type": "code",
   "execution_count": 12,
   "metadata": {},
   "outputs": [
    {
     "data": {
      "text/html": [
       "<div>\n",
       "<style scoped>\n",
       "    .dataframe tbody tr th:only-of-type {\n",
       "        vertical-align: middle;\n",
       "    }\n",
       "\n",
       "    .dataframe tbody tr th {\n",
       "        vertical-align: top;\n",
       "    }\n",
       "\n",
       "    .dataframe thead th {\n",
       "        text-align: right;\n",
       "    }\n",
       "</style>\n",
       "<table border=\"1\" class=\"dataframe\">\n",
       "  <thead>\n",
       "    <tr style=\"text-align: right;\">\n",
       "      <th></th>\n",
       "      <th>BMI</th>\n",
       "      <th>Children</th>\n",
       "      <th>Charges</th>\n",
       "    </tr>\n",
       "    <tr>\n",
       "      <th>Age</th>\n",
       "      <th></th>\n",
       "      <th></th>\n",
       "      <th></th>\n",
       "    </tr>\n",
       "  </thead>\n",
       "  <tbody>\n",
       "    <tr>\n",
       "      <th>18</th>\n",
       "      <td>31.330435</td>\n",
       "      <td>0.449275</td>\n",
       "      <td>7085.710145</td>\n",
       "    </tr>\n",
       "    <tr>\n",
       "      <th>19</th>\n",
       "      <td>28.597059</td>\n",
       "      <td>0.426471</td>\n",
       "      <td>9747.367647</td>\n",
       "    </tr>\n",
       "    <tr>\n",
       "      <th>20</th>\n",
       "      <td>30.627586</td>\n",
       "      <td>0.862069</td>\n",
       "      <td>10159.241379</td>\n",
       "    </tr>\n",
       "    <tr>\n",
       "      <th>21</th>\n",
       "      <td>28.182143</td>\n",
       "      <td>0.785714</td>\n",
       "      <td>4730.000000</td>\n",
       "    </tr>\n",
       "    <tr>\n",
       "      <th>22</th>\n",
       "      <td>31.089286</td>\n",
       "      <td>0.714286</td>\n",
       "      <td>10012.392857</td>\n",
       "    </tr>\n",
       "    <tr>\n",
       "      <th>23</th>\n",
       "      <td>31.460714</td>\n",
       "      <td>1.000000</td>\n",
       "      <td>12419.392857</td>\n",
       "    </tr>\n",
       "    <tr>\n",
       "      <th>24</th>\n",
       "      <td>29.142857</td>\n",
       "      <td>0.464286</td>\n",
       "      <td>10647.428571</td>\n",
       "    </tr>\n",
       "    <tr>\n",
       "      <th>25</th>\n",
       "      <td>29.689286</td>\n",
       "      <td>1.285714</td>\n",
       "      <td>9837.857143</td>\n",
       "    </tr>\n",
       "    <tr>\n",
       "      <th>26</th>\n",
       "      <td>29.432143</td>\n",
       "      <td>1.071429</td>\n",
       "      <td>6133.321429</td>\n",
       "    </tr>\n",
       "    <tr>\n",
       "      <th>27</th>\n",
       "      <td>29.342857</td>\n",
       "      <td>0.964286</td>\n",
       "      <td>12184.107143</td>\n",
       "    </tr>\n",
       "    <tr>\n",
       "      <th>28</th>\n",
       "      <td>29.482143</td>\n",
       "      <td>1.285714</td>\n",
       "      <td>9068.678571</td>\n",
       "    </tr>\n",
       "    <tr>\n",
       "      <th>29</th>\n",
       "      <td>29.370370</td>\n",
       "      <td>1.259259</td>\n",
       "      <td>10429.629630</td>\n",
       "    </tr>\n",
       "    <tr>\n",
       "      <th>30</th>\n",
       "      <td>30.551852</td>\n",
       "      <td>1.555556</td>\n",
       "      <td>12718.666667</td>\n",
       "    </tr>\n",
       "    <tr>\n",
       "      <th>31</th>\n",
       "      <td>29.922222</td>\n",
       "      <td>1.407407</td>\n",
       "      <td>10196.555556</td>\n",
       "    </tr>\n",
       "    <tr>\n",
       "      <th>32</th>\n",
       "      <td>31.584615</td>\n",
       "      <td>1.269231</td>\n",
       "      <td>9219.807692</td>\n",
       "    </tr>\n",
       "    <tr>\n",
       "      <th>33</th>\n",
       "      <td>31.161538</td>\n",
       "      <td>1.538462</td>\n",
       "      <td>12351.038462</td>\n",
       "    </tr>\n",
       "    <tr>\n",
       "      <th>34</th>\n",
       "      <td>30.269231</td>\n",
       "      <td>1.153846</td>\n",
       "      <td>11613.000000</td>\n",
       "    </tr>\n",
       "    <tr>\n",
       "      <th>35</th>\n",
       "      <td>31.392000</td>\n",
       "      <td>1.680000</td>\n",
       "      <td>11306.760000</td>\n",
       "    </tr>\n",
       "    <tr>\n",
       "      <th>36</th>\n",
       "      <td>29.368000</td>\n",
       "      <td>1.240000</td>\n",
       "      <td>12204.080000</td>\n",
       "    </tr>\n",
       "    <tr>\n",
       "      <th>37</th>\n",
       "      <td>31.216000</td>\n",
       "      <td>1.520000</td>\n",
       "      <td>18019.360000</td>\n",
       "    </tr>\n",
       "    <tr>\n",
       "      <th>38</th>\n",
       "      <td>29.000000</td>\n",
       "      <td>1.480000</td>\n",
       "      <td>8102.200000</td>\n",
       "    </tr>\n",
       "    <tr>\n",
       "      <th>39</th>\n",
       "      <td>29.904000</td>\n",
       "      <td>2.200000</td>\n",
       "      <td>11777.800000</td>\n",
       "    </tr>\n",
       "    <tr>\n",
       "      <th>40</th>\n",
       "      <td>30.144444</td>\n",
       "      <td>1.592593</td>\n",
       "      <td>11771.740741</td>\n",
       "    </tr>\n",
       "    <tr>\n",
       "      <th>41</th>\n",
       "      <td>31.511111</td>\n",
       "      <td>1.407407</td>\n",
       "      <td>9653.259259</td>\n",
       "    </tr>\n",
       "    <tr>\n",
       "      <th>42</th>\n",
       "      <td>30.337037</td>\n",
       "      <td>1.000000</td>\n",
       "      <td>13060.555556</td>\n",
       "    </tr>\n",
       "    <tr>\n",
       "      <th>43</th>\n",
       "      <td>30.207407</td>\n",
       "      <td>1.629630</td>\n",
       "      <td>19266.888889</td>\n",
       "    </tr>\n",
       "    <tr>\n",
       "      <th>44</th>\n",
       "      <td>30.844444</td>\n",
       "      <td>1.222222</td>\n",
       "      <td>15858.925926</td>\n",
       "    </tr>\n",
       "    <tr>\n",
       "      <th>45</th>\n",
       "      <td>29.782759</td>\n",
       "      <td>1.482759</td>\n",
       "      <td>14829.689655</td>\n",
       "    </tr>\n",
       "    <tr>\n",
       "      <th>46</th>\n",
       "      <td>31.337931</td>\n",
       "      <td>1.620690</td>\n",
       "      <td>14342.103448</td>\n",
       "    </tr>\n",
       "    <tr>\n",
       "      <th>47</th>\n",
       "      <td>30.655172</td>\n",
       "      <td>1.379310</td>\n",
       "      <td>17653.482759</td>\n",
       "    </tr>\n",
       "    <tr>\n",
       "      <th>48</th>\n",
       "      <td>31.924138</td>\n",
       "      <td>1.310345</td>\n",
       "      <td>14632.137931</td>\n",
       "    </tr>\n",
       "    <tr>\n",
       "      <th>49</th>\n",
       "      <td>30.310714</td>\n",
       "      <td>1.500000</td>\n",
       "      <td>12695.464286</td>\n",
       "    </tr>\n",
       "    <tr>\n",
       "      <th>50</th>\n",
       "      <td>31.134483</td>\n",
       "      <td>1.310345</td>\n",
       "      <td>15662.551724</td>\n",
       "    </tr>\n",
       "    <tr>\n",
       "      <th>51</th>\n",
       "      <td>31.724138</td>\n",
       "      <td>1.103448</td>\n",
       "      <td>15681.862069</td>\n",
       "    </tr>\n",
       "    <tr>\n",
       "      <th>52</th>\n",
       "      <td>32.937931</td>\n",
       "      <td>1.482759</td>\n",
       "      <td>18255.655172</td>\n",
       "    </tr>\n",
       "    <tr>\n",
       "      <th>53</th>\n",
       "      <td>30.367857</td>\n",
       "      <td>1.250000</td>\n",
       "      <td>16020.357143</td>\n",
       "    </tr>\n",
       "    <tr>\n",
       "      <th>54</th>\n",
       "      <td>31.232143</td>\n",
       "      <td>1.428571</td>\n",
       "      <td>18758.035714</td>\n",
       "    </tr>\n",
       "    <tr>\n",
       "      <th>55</th>\n",
       "      <td>31.950000</td>\n",
       "      <td>0.961538</td>\n",
       "      <td>16164.038462</td>\n",
       "    </tr>\n",
       "    <tr>\n",
       "      <th>56</th>\n",
       "      <td>31.596154</td>\n",
       "      <td>0.769231</td>\n",
       "      <td>15025.153846</td>\n",
       "    </tr>\n",
       "    <tr>\n",
       "      <th>57</th>\n",
       "      <td>30.838462</td>\n",
       "      <td>0.615385</td>\n",
       "      <td>16446.769231</td>\n",
       "    </tr>\n",
       "    <tr>\n",
       "      <th>58</th>\n",
       "      <td>32.724000</td>\n",
       "      <td>0.240000</td>\n",
       "      <td>13878.400000</td>\n",
       "    </tr>\n",
       "    <tr>\n",
       "      <th>59</th>\n",
       "      <td>30.576000</td>\n",
       "      <td>1.200000</td>\n",
       "      <td>18895.280000</td>\n",
       "    </tr>\n",
       "    <tr>\n",
       "      <th>60</th>\n",
       "      <td>30.326087</td>\n",
       "      <td>0.347826</td>\n",
       "      <td>21978.826087</td>\n",
       "    </tr>\n",
       "    <tr>\n",
       "      <th>61</th>\n",
       "      <td>32.552174</td>\n",
       "      <td>0.739130</td>\n",
       "      <td>22024.043478</td>\n",
       "    </tr>\n",
       "    <tr>\n",
       "      <th>62</th>\n",
       "      <td>32.347826</td>\n",
       "      <td>0.565217</td>\n",
       "      <td>19163.391304</td>\n",
       "    </tr>\n",
       "    <tr>\n",
       "      <th>63</th>\n",
       "      <td>31.926087</td>\n",
       "      <td>0.565217</td>\n",
       "      <td>19884.478261</td>\n",
       "    </tr>\n",
       "    <tr>\n",
       "      <th>64</th>\n",
       "      <td>32.981818</td>\n",
       "      <td>0.772727</td>\n",
       "      <td>23275.045455</td>\n",
       "    </tr>\n",
       "  </tbody>\n",
       "</table>\n",
       "</div>"
      ],
      "text/plain": [
       "           BMI  Children       Charges\n",
       "Age                                   \n",
       "18   31.330435  0.449275   7085.710145\n",
       "19   28.597059  0.426471   9747.367647\n",
       "20   30.627586  0.862069  10159.241379\n",
       "21   28.182143  0.785714   4730.000000\n",
       "22   31.089286  0.714286  10012.392857\n",
       "23   31.460714  1.000000  12419.392857\n",
       "24   29.142857  0.464286  10647.428571\n",
       "25   29.689286  1.285714   9837.857143\n",
       "26   29.432143  1.071429   6133.321429\n",
       "27   29.342857  0.964286  12184.107143\n",
       "28   29.482143  1.285714   9068.678571\n",
       "29   29.370370  1.259259  10429.629630\n",
       "30   30.551852  1.555556  12718.666667\n",
       "31   29.922222  1.407407  10196.555556\n",
       "32   31.584615  1.269231   9219.807692\n",
       "33   31.161538  1.538462  12351.038462\n",
       "34   30.269231  1.153846  11613.000000\n",
       "35   31.392000  1.680000  11306.760000\n",
       "36   29.368000  1.240000  12204.080000\n",
       "37   31.216000  1.520000  18019.360000\n",
       "38   29.000000  1.480000   8102.200000\n",
       "39   29.904000  2.200000  11777.800000\n",
       "40   30.144444  1.592593  11771.740741\n",
       "41   31.511111  1.407407   9653.259259\n",
       "42   30.337037  1.000000  13060.555556\n",
       "43   30.207407  1.629630  19266.888889\n",
       "44   30.844444  1.222222  15858.925926\n",
       "45   29.782759  1.482759  14829.689655\n",
       "46   31.337931  1.620690  14342.103448\n",
       "47   30.655172  1.379310  17653.482759\n",
       "48   31.924138  1.310345  14632.137931\n",
       "49   30.310714  1.500000  12695.464286\n",
       "50   31.134483  1.310345  15662.551724\n",
       "51   31.724138  1.103448  15681.862069\n",
       "52   32.937931  1.482759  18255.655172\n",
       "53   30.367857  1.250000  16020.357143\n",
       "54   31.232143  1.428571  18758.035714\n",
       "55   31.950000  0.961538  16164.038462\n",
       "56   31.596154  0.769231  15025.153846\n",
       "57   30.838462  0.615385  16446.769231\n",
       "58   32.724000  0.240000  13878.400000\n",
       "59   30.576000  1.200000  18895.280000\n",
       "60   30.326087  0.347826  21978.826087\n",
       "61   32.552174  0.739130  22024.043478\n",
       "62   32.347826  0.565217  19163.391304\n",
       "63   31.926087  0.565217  19884.478261\n",
       "64   32.981818  0.772727  23275.045455"
      ]
     },
     "execution_count": 12,
     "metadata": {},
     "output_type": "execute_result"
    }
   ],
   "source": [
    "dfplot=df.groupby(by=\"Age\").mean()\n",
    "dfplot"
   ]
  },
  {
   "cell_type": "code",
   "execution_count": 13,
   "metadata": {},
   "outputs": [
    {
     "data": {
      "text/plain": [
       "<AxesSubplot:xlabel='Age', ylabel='Charges'>"
      ]
     },
     "execution_count": 13,
     "metadata": {},
     "output_type": "execute_result"
    },
    {
     "data": {
      "image/png": "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\n",
      "text/plain": [
       "<Figure size 432x288 with 1 Axes>"
      ]
     },
     "metadata": {
      "needs_background": "light"
     },
     "output_type": "display_data"
    }
   ],
   "source": [
    "sns.lineplot(x=\"Age\", y=\"Charges\",data=dfplot)"
   ]
  },
  {
   "cell_type": "markdown",
   "metadata": {},
   "source": [
    "*As demonstrated in the lineplot above we can see a correlation between an older age and higher charges. What I find quite interesting is the discrepancies between single years; as in years like 37-38 where the average cost goes from over 18000 to just 8000. Although, we can clearly see that the overall trend is in fact increasing.*"
   ]
  },
  {
   "cell_type": "markdown",
   "metadata": {},
   "source": [
    "---"
   ]
  },
  {
   "cell_type": "markdown",
   "metadata": {},
   "source": [
    "Now, we want to see if BMI relates to the charges the same way age does. I will use a linear regression model to portray this."
   ]
  },
  {
   "cell_type": "code",
   "execution_count": 14,
   "metadata": {},
   "outputs": [
    {
     "data": {
      "text/html": [
       "<div>\n",
       "<style scoped>\n",
       "    .dataframe tbody tr th:only-of-type {\n",
       "        vertical-align: middle;\n",
       "    }\n",
       "\n",
       "    .dataframe tbody tr th {\n",
       "        vertical-align: top;\n",
       "    }\n",
       "\n",
       "    .dataframe thead th {\n",
       "        text-align: right;\n",
       "    }\n",
       "</style>\n",
       "<table border=\"1\" class=\"dataframe\">\n",
       "  <thead>\n",
       "    <tr style=\"text-align: right;\">\n",
       "      <th></th>\n",
       "      <th>Age</th>\n",
       "      <th>BMI</th>\n",
       "      <th>Children</th>\n",
       "      <th>Charges</th>\n",
       "    </tr>\n",
       "    <tr>\n",
       "      <th>Body Shape</th>\n",
       "      <th></th>\n",
       "      <th></th>\n",
       "      <th></th>\n",
       "      <th></th>\n",
       "    </tr>\n",
       "  </thead>\n",
       "  <tbody>\n",
       "    <tr>\n",
       "      <th>Under Weight</th>\n",
       "      <td>25.866667</td>\n",
       "      <td>17.346667</td>\n",
       "      <td>1.066667</td>\n",
       "      <td>7575.866667</td>\n",
       "    </tr>\n",
       "    <tr>\n",
       "      <th>Normal Weight</th>\n",
       "      <td>36.190083</td>\n",
       "      <td>21.181818</td>\n",
       "      <td>0.983471</td>\n",
       "      <td>9773.297521</td>\n",
       "    </tr>\n",
       "    <tr>\n",
       "      <th>Over Weight</th>\n",
       "      <td>39.245968</td>\n",
       "      <td>25.116935</td>\n",
       "      <td>1.096774</td>\n",
       "      <td>11005.411290</td>\n",
       "    </tr>\n",
       "    <tr>\n",
       "      <th>Class 1 Obesity</th>\n",
       "      <td>38.333333</td>\n",
       "      <td>29.484300</td>\n",
       "      <td>1.094203</td>\n",
       "      <td>12489.173913</td>\n",
       "    </tr>\n",
       "    <tr>\n",
       "      <th>Class 3 Obesity</th>\n",
       "      <td>41.259804</td>\n",
       "      <td>40.461275</td>\n",
       "      <td>1.122549</td>\n",
       "      <td>15680.705882</td>\n",
       "    </tr>\n",
       "    <tr>\n",
       "      <th>Class 2 Obesity</th>\n",
       "      <td>40.690476</td>\n",
       "      <td>34.269940</td>\n",
       "      <td>1.119048</td>\n",
       "      <td>15953.077381</td>\n",
       "    </tr>\n",
       "  </tbody>\n",
       "</table>\n",
       "</div>"
      ],
      "text/plain": [
       "                       Age        BMI  Children       Charges\n",
       "Body Shape                                                   \n",
       "Under Weight     25.866667  17.346667  1.066667   7575.866667\n",
       "Normal Weight    36.190083  21.181818  0.983471   9773.297521\n",
       "Over Weight      39.245968  25.116935  1.096774  11005.411290\n",
       "Class 1 Obesity  38.333333  29.484300  1.094203  12489.173913\n",
       "Class 3 Obesity  41.259804  40.461275  1.122549  15680.705882\n",
       "Class 2 Obesity  40.690476  34.269940  1.119048  15953.077381"
      ]
     },
     "execution_count": 14,
     "metadata": {},
     "output_type": "execute_result"
    },
    {
     "data": {
      "image/png": "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\n",
      "text/plain": [
       "<Figure size 360x360 with 1 Axes>"
      ]
     },
     "metadata": {
      "needs_background": "light"
     },
     "output_type": "display_data"
    }
   ],
   "source": [
    "dfplot2=df.groupby(by=\"Body Shape\").mean()\n",
    "sns.lmplot(x=\"BMI\", y=\"Charges\", data=dfplot2)\n",
    "dfplot2.sort_values(by=\"Charges\")"
   ]
  },
  {
   "cell_type": "markdown",
   "metadata": {},
   "source": [
    "**This linear regression model shows clearly that the BMI of a person is highly correlated with medical charges. It's quite interesting to see that underweight individuals actually get lower medical costs than normal weight people, as it could be expected the charges increase due to health concerns similarly to the reason they increase for overweight individuals. This, on average, is not the case as we can see.**"
   ]
  },
  {
   "cell_type": "markdown",
   "metadata": {},
   "source": [
    "---"
   ]
  },
  {
   "cell_type": "markdown",
   "metadata": {},
   "source": [
    "**Smoking Cost Correlation**"
   ]
<<<<<<< HEAD
=======
  },
  {
   "cell_type": "code",
   "execution_count": 15,
   "metadata": {},
   "outputs": [
    {
     "data": {
      "text/plain": [
       "32049.72627737226"
      ]
     },
     "execution_count": 15,
     "metadata": {},
     "output_type": "execute_result"
    }
   ],
   "source": [
    "df[df['Smoker'] == 'Yes'].Charges.mean()"
   ]
  },
  {
   "cell_type": "code",
   "execution_count": 16,
   "metadata": {},
   "outputs": [
    {
     "data": {
      "text/plain": [
       "8433.778195488721"
      ]
     },
     "execution_count": 16,
     "metadata": {},
     "output_type": "execute_result"
    }
   ],
   "source": [
    "df[df['Smoker'] == 'No'].Charges.mean()"
   ]
  },
  {
   "cell_type": "code",
   "execution_count": 17,
   "metadata": {},
   "outputs": [
    {
     "data": {
      "text/plain": [
       "<AxesSubplot:xlabel='Age', ylabel='Charges'>"
      ]
     },
     "execution_count": 17,
     "metadata": {},
     "output_type": "execute_result"
    },
    {
     "data": {
      "image/png": "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\n",
      "text/plain": [
       "<Figure size 432x288 with 1 Axes>"
      ]
     },
     "metadata": {
      "needs_background": "light"
     },
     "output_type": "display_data"
    }
   ],
   "source": [
    "sns.lineplot(x='Age', y='Charges', hue='Smoker', data=df)"
   ]
  },
  {
   "cell_type": "markdown",
   "metadata": {},
   "source": [
    "**After a thorough analysis we can conclude that age, BMI, and smoker are the most reliable variables that correlate with higher charges. This is quite an unsurprising result as you could expect unhealthy lifestyles to generally lead to much higher medical expenses. As for smoking, it could be explained that if a person is a smoker, they may already be leading an unhealthy lifestyle in other aspects of life as well. As we can see at the top of this page, almost every person with the top medical expenses are both obese and also smoke, which could lead us to believe that there is also a correlation between BMI and smoking.**"
   ]
  },
  {
   "cell_type": "markdown",
   "metadata": {},
   "source": [
    "---\n",
    "As we have moved along, another question that has sparked my interest is **if sex is a determinant in medical costs.** My prediction for this would be that men generally have to spend more than women just based off my knowledge of car insurance costs for men generally being higher. To do this, I think I will use a box plot so I can see several elements of each gender's charges."
   ]
  },
  {
   "cell_type": "code",
   "execution_count": 18,
   "metadata": {},
   "outputs": [
    {
     "data": {
      "text/plain": [
       "<AxesSubplot:xlabel='Sex', ylabel='Charges'>"
      ]
     },
     "execution_count": 18,
     "metadata": {},
     "output_type": "execute_result"
    },
    {
     "data": {
      "image/png": "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\n",
      "text/plain": [
       "<Figure size 432x288 with 1 Axes>"
      ]
     },
     "metadata": {
      "needs_background": "light"
     },
     "output_type": "display_data"
    }
   ],
   "source": [
    "sns.boxplot(x='Sex', y='Charges', data=df)"
   ]
  },
  {
   "cell_type": "markdown",
   "metadata": {},
   "source": [
    "*As predicted, although the median is about the same, we can clearly see the Q3 quartile is much larger for men and the maximum also reaches ~40000 as opposed to women's ~30000. Interestingly, though, we can see that the max charge outlier is actually a woman. Altogether, it seems if you are an older overweight male that smokes, you are subject to the likes of some of the highest medical charges. This also goes for older overweight woman that smoke as well, although not quite as high. This fits very well with what we would predict the outcome to be.*"
   ]
  },
  {
   "cell_type": "markdown",
   "metadata": {},
   "source": [
    "---"
   ]
  },
  {
   "cell_type": "markdown",
   "metadata": {},
   "source": [
    "Lastly, lets add in a simple heatmap just to see the general correlations between variables"
   ]
  },
  {
   "cell_type": "code",
   "execution_count": 19,
   "metadata": {},
   "outputs": [
    {
     "data": {
      "text/plain": [
       "<AxesSubplot:>"
      ]
     },
     "execution_count": 19,
     "metadata": {},
     "output_type": "execute_result"
    },
    {
     "data": {
      "image/png": "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\n",
      "text/plain": [
       "<Figure size 432x288 with 2 Axes>"
      ]
     },
     "metadata": {
      "needs_background": "light"
     },
     "output_type": "display_data"
    }
   ],
   "source": [
    "corr = df.corr()\n",
    "sns.heatmap(corr, annot=True)"
   ]
  },
  {
   "cell_type": "markdown",
   "metadata": {},
   "source": [
    "*As we can see, charges and age have the largest correlation as we found above, while charges and BMI come in a close second. Age and BMI have a very slight correlation.*"
   ]
>>>>>>> b3f86226ac7d7d0119039c1ad6c65aeb864c638b
  }
 ],
 "metadata": {
  "kernelspec": {
   "display_name": "Python 3",
   "language": "python",
   "name": "python3"
  },
  "language_info": {
   "codemirror_mode": {
    "name": "ipython",
    "version": 3
   },
   "file_extension": ".py",
   "mimetype": "text/x-python",
   "name": "python",
   "nbconvert_exporter": "python",
   "pygments_lexer": "ipython3",
   "version": "3.8.5"
  }
 },
 "nbformat": 4,
 "nbformat_minor": 4
}
